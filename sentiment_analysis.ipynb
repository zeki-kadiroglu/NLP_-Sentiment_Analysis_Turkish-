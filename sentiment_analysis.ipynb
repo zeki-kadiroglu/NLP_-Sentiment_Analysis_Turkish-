{
 "cells": [
  {
   "cell_type": "code",
   "execution_count": 1,
   "metadata": {},
   "outputs": [
    {
     "name": "stderr",
     "output_type": "stream",
     "text": [
      "[nltk_data] Downloading package punkt to\n",
      "[nltk_data]     C:\\Users\\MONSTER\\AppData\\Roaming\\nltk_data...\n",
      "[nltk_data]   Package punkt is already up-to-date!\n",
      "[nltk_data] Downloading package stopwords to\n",
      "[nltk_data]     C:\\Users\\MONSTER\\AppData\\Roaming\\nltk_data...\n",
      "[nltk_data]   Package stopwords is already up-to-date!\n",
      "[nltk_data] Downloading package wordnet to\n",
      "[nltk_data]     C:\\Users\\MONSTER\\AppData\\Roaming\\nltk_data...\n",
      "[nltk_data]   Package wordnet is already up-to-date!\n"
     ]
    },
    {
     "data": {
      "text/plain": [
       "True"
      ]
     },
     "execution_count": 1,
     "metadata": {},
     "output_type": "execute_result"
    }
   ],
   "source": [
    "import pandas as pd\n",
    "import numpy as np\n",
    "import nltk\n",
    "from nltk.tokenize import sent_tokenize, word_tokenize\n",
    "from nltk.corpus import stopwords\n",
    "from nltk.stem import PorterStemmer\n",
    "from nltk.stem import WordNetLemmatizer\n",
    "from collections import Counter\n",
    "from sklearn.feature_extraction.text import TfidfVectorizer, CountVectorizer\n",
    "from sklearn.model_selection import train_test_split\n",
    "import seaborn as sns\n",
    "import matplotlib.pyplot as plt\n",
    "from wordcloud import WordCloud\n",
    "from sklearn.linear_model import LogisticRegression\n",
    "from sklearn.metrics import classification_report, confusion_matrix\n",
    "from sklearn.model_selection import cross_val_score\n",
    "from sklearn.ensemble import RandomForestClassifier\n",
    "from sklearn.model_selection import GridSearchCV, RandomizedSearchCV\n",
    "from sklearn.metrics import make_scorer, accuracy_score, precision_score, recall_score, f1_score\n",
    "from sklearn.model_selection import cross_validate\n",
    "nltk.download(\"punkt\")\n",
    "nltk.download('stopwords')\n",
    "nltk.download('wordnet')"
   ]
  },
  {
   "cell_type": "code",
   "execution_count": 2,
   "metadata": {},
   "outputs": [
    {
     "data": {
      "text/html": [
       "<div>\n",
       "<style scoped>\n",
       "    .dataframe tbody tr th:only-of-type {\n",
       "        vertical-align: middle;\n",
       "    }\n",
       "\n",
       "    .dataframe tbody tr th {\n",
       "        vertical-align: top;\n",
       "    }\n",
       "\n",
       "    .dataframe thead th {\n",
       "        text-align: right;\n",
       "    }\n",
       "</style>\n",
       "<table border=\"1\" class=\"dataframe\">\n",
       "  <thead>\n",
       "    <tr style=\"text-align: right;\">\n",
       "      <th></th>\n",
       "      <th>sentiment</th>\n",
       "      <th>text</th>\n",
       "    </tr>\n",
       "  </thead>\n",
       "  <tbody>\n",
       "    <tr>\n",
       "      <th>0</th>\n",
       "      <td>neutral</td>\n",
       "      <td>Kredi kullanmak istiyorum</td>\n",
       "    </tr>\n",
       "    <tr>\n",
       "      <th>1</th>\n",
       "      <td>positive</td>\n",
       "      <td>Supercell senin tüm oyunlarını oynadım brawl s...</td>\n",
       "    </tr>\n",
       "    <tr>\n",
       "      <th>2</th>\n",
       "      <td>positive</td>\n",
       "      <td>sizleri seviyorum clash of clans bide hay day ...</td>\n",
       "    </tr>\n",
       "    <tr>\n",
       "      <th>3</th>\n",
       "      <td>positive</td>\n",
       "      <td>Supercell brawl stars chas of chas ve chas roy...</td>\n",
       "    </tr>\n",
       "    <tr>\n",
       "      <th>4</th>\n",
       "      <td>positive</td>\n",
       "      <td>Çok sevdim. Ama fıstıllar çok yavaş büyüyor. S...</td>\n",
       "    </tr>\n",
       "    <tr>\n",
       "      <th>...</th>\n",
       "      <td>...</td>\n",
       "      <td>...</td>\n",
       "    </tr>\n",
       "    <tr>\n",
       "      <th>222</th>\n",
       "      <td>positive</td>\n",
       "      <td>En sevdiğim marka</td>\n",
       "    </tr>\n",
       "    <tr>\n",
       "      <th>223</th>\n",
       "      <td>neutral</td>\n",
       "      <td>Bilader uygulama cok güzel de guncelleyin sunu...</td>\n",
       "    </tr>\n",
       "    <tr>\n",
       "      <th>224</th>\n",
       "      <td>neutral</td>\n",
       "      <td>Kıyafetleri gerçekten hoş eleştiri bölümünde g...</td>\n",
       "    </tr>\n",
       "    <tr>\n",
       "      <th>225</th>\n",
       "      <td>negative</td>\n",
       "      <td>Uygulama üzerinden sipariş verdim, sipariş ona...</td>\n",
       "    </tr>\n",
       "    <tr>\n",
       "      <th>226</th>\n",
       "      <td>neutral</td>\n",
       "      <td>haziran ayı gibi bir kaç tshirt almıştım sited...</td>\n",
       "    </tr>\n",
       "  </tbody>\n",
       "</table>\n",
       "<p>227 rows × 2 columns</p>\n",
       "</div>"
      ],
      "text/plain": [
       "    sentiment                                               text\n",
       "0     neutral                          Kredi kullanmak istiyorum\n",
       "1    positive  Supercell senin tüm oyunlarını oynadım brawl s...\n",
       "2    positive  sizleri seviyorum clash of clans bide hay day ...\n",
       "3    positive  Supercell brawl stars chas of chas ve chas roy...\n",
       "4    positive  Çok sevdim. Ama fıstıllar çok yavaş büyüyor. S...\n",
       "..        ...                                                ...\n",
       "222  positive                                  En sevdiğim marka\n",
       "223   neutral  Bilader uygulama cok güzel de guncelleyin sunu...\n",
       "224   neutral  Kıyafetleri gerçekten hoş eleştiri bölümünde g...\n",
       "225  negative  Uygulama üzerinden sipariş verdim, sipariş ona...\n",
       "226   neutral  haziran ayı gibi bir kaç tshirt almıştım sited...\n",
       "\n",
       "[227 rows x 2 columns]"
      ]
     },
     "execution_count": 2,
     "metadata": {},
     "output_type": "execute_result"
    }
   ],
   "source": [
    "test = pd.read_csv('test.csv')\n",
    "test"
   ]
  },
  {
   "cell_type": "code",
   "execution_count": 3,
   "metadata": {},
   "outputs": [
    {
     "data": {
      "text/html": [
       "<div>\n",
       "<style scoped>\n",
       "    .dataframe tbody tr th:only-of-type {\n",
       "        vertical-align: middle;\n",
       "    }\n",
       "\n",
       "    .dataframe tbody tr th {\n",
       "        vertical-align: top;\n",
       "    }\n",
       "\n",
       "    .dataframe thead th {\n",
       "        text-align: right;\n",
       "    }\n",
       "</style>\n",
       "<table border=\"1\" class=\"dataframe\">\n",
       "  <thead>\n",
       "    <tr style=\"text-align: right;\">\n",
       "      <th></th>\n",
       "      <th>Verbatim</th>\n",
       "      <th>sentiment</th>\n",
       "    </tr>\n",
       "  </thead>\n",
       "  <tbody>\n",
       "    <tr>\n",
       "      <th>0</th>\n",
       "      <td>Alt yapı çok yetersiz telefon hattım çoğu yerd...</td>\n",
       "      <td>negative</td>\n",
       "    </tr>\n",
       "    <tr>\n",
       "      <th>1</th>\n",
       "      <td>Evimde sadece 1 tek odada çekiyor onuda cama y...</td>\n",
       "      <td>negative</td>\n",
       "    </tr>\n",
       "    <tr>\n",
       "      <th>2</th>\n",
       "      <td>Çekim gücü çok zayıf internet de</td>\n",
       "      <td>negative</td>\n",
       "    </tr>\n",
       "    <tr>\n",
       "      <th>3</th>\n",
       "      <td>Hızınız çok yetersiz Tarifelerde İnternet pake...</td>\n",
       "      <td>negative</td>\n",
       "    </tr>\n",
       "    <tr>\n",
       "      <th>4</th>\n",
       "      <td>Bulunduğum yerde internet kalitesi E olarak gö...</td>\n",
       "      <td>negative</td>\n",
       "    </tr>\n",
       "    <tr>\n",
       "      <th>...</th>\n",
       "      <td>...</td>\n",
       "      <td>...</td>\n",
       "    </tr>\n",
       "    <tr>\n",
       "      <th>1298</th>\n",
       "      <td>En sevdiğim marka</td>\n",
       "      <td>positive</td>\n",
       "    </tr>\n",
       "    <tr>\n",
       "      <th>1299</th>\n",
       "      <td>Bilader uygulama cok güzel de guncelleyin sunu...</td>\n",
       "      <td>neutral</td>\n",
       "    </tr>\n",
       "    <tr>\n",
       "      <th>1300</th>\n",
       "      <td>Kıyafetleri gerçekten hoş eleştiri bölümünde g...</td>\n",
       "      <td>neutral</td>\n",
       "    </tr>\n",
       "    <tr>\n",
       "      <th>1301</th>\n",
       "      <td>Uygulama üzerinden sipariş verdim, sipariş ona...</td>\n",
       "      <td>negative</td>\n",
       "    </tr>\n",
       "    <tr>\n",
       "      <th>1302</th>\n",
       "      <td>haziran ayı gibi bir kaç tshirt almıştım sited...</td>\n",
       "      <td>neutral</td>\n",
       "    </tr>\n",
       "  </tbody>\n",
       "</table>\n",
       "<p>1303 rows × 2 columns</p>\n",
       "</div>"
      ],
      "text/plain": [
       "                                               Verbatim sentiment\n",
       "0     Alt yapı çok yetersiz telefon hattım çoğu yerd...  negative\n",
       "1     Evimde sadece 1 tek odada çekiyor onuda cama y...  negative\n",
       "2                      Çekim gücü çok zayıf internet de  negative\n",
       "3     Hızınız çok yetersiz Tarifelerde İnternet pake...  negative\n",
       "4     Bulunduğum yerde internet kalitesi E olarak gö...  negative\n",
       "...                                                 ...       ...\n",
       "1298                                  En sevdiğim marka  positive\n",
       "1299  Bilader uygulama cok güzel de guncelleyin sunu...   neutral\n",
       "1300  Kıyafetleri gerçekten hoş eleştiri bölümünde g...   neutral\n",
       "1301  Uygulama üzerinden sipariş verdim, sipariş ona...  negative\n",
       "1302  haziran ayı gibi bir kaç tshirt almıştım sited...   neutral\n",
       "\n",
       "[1303 rows x 2 columns]"
      ]
     },
     "execution_count": 3,
     "metadata": {},
     "output_type": "execute_result"
    }
   ],
   "source": [
    "train = pd.read_csv('train.csv')\n",
    "train"
   ]
  },
  {
   "cell_type": "markdown",
   "metadata": {},
   "source": [
    "# E.D.A."
   ]
  },
  {
   "cell_type": "code",
   "execution_count": 4,
   "metadata": {},
   "outputs": [
    {
     "data": {
      "text/plain": [
       "'Ne aldıysam memnun kaldım😍😍 seni seviyoruz hm.'"
      ]
     },
     "execution_count": 4,
     "metadata": {},
     "output_type": "execute_result"
    }
   ],
   "source": [
    "train.loc[1297,'Verbatim']"
   ]
  },
  {
   "cell_type": "code",
   "execution_count": 5,
   "metadata": {},
   "outputs": [
    {
     "data": {
      "text/plain": [
       "array(['negative', 'neutral', 'positive', 'pozitive', nan, 'neagtive'],\n",
       "      dtype=object)"
      ]
     },
     "execution_count": 5,
     "metadata": {},
     "output_type": "execute_result"
    }
   ],
   "source": [
    "train.sentiment.unique()"
   ]
  },
  {
   "cell_type": "code",
   "execution_count": 6,
   "metadata": {},
   "outputs": [
    {
     "name": "stderr",
     "output_type": "stream",
     "text": [
      "C:\\Users\\MONSTER\\anaconda3\\lib\\site-packages\\seaborn\\_decorators.py:36: FutureWarning: Pass the following variable as a keyword arg: x. From version 0.12, the only valid positional argument will be `data`, and passing other arguments without an explicit keyword will result in an error or misinterpretation.\n",
      "  warnings.warn(\n"
     ]
    },
    {
     "data": {
      "text/plain": [
       "<AxesSubplot:xlabel='sentiment', ylabel='count'>"
      ]
     },
     "execution_count": 6,
     "metadata": {},
     "output_type": "execute_result"
    },
    {
     "data": {
      "image/png": "[encoded data removed]",
      "text/plain": [
       "<Figure size 864x648 with 1 Axes>"
      ]
     },
     "metadata": {
      "needs_background": "light"
     },
     "output_type": "display_data"
    }
   ],
   "source": [
    "plt.figure(figsize=(12,9))\n",
    "sns.countplot(train.sentiment)"
   ]
  },
  {
   "cell_type": "code",
   "execution_count": 7,
   "metadata": {},
   "outputs": [
    {
     "data": {
      "text/plain": [
       "0.0    860\n",
       "1.0    229\n",
       "2.0    213\n",
       "NaN      1\n",
       "Name: sentiment, dtype: int64"
      ]
     },
     "execution_count": 7,
     "metadata": {},
     "output_type": "execute_result"
    }
   ],
   "source": [
    "train.sentiment = train.sentiment.map({'negative':0,'neagtive':0,'neutral':1,'positive':2,'pozitive':2})\n",
    "train.sentiment.value_counts(dropna=False)"
   ]
  },
  {
   "cell_type": "code",
   "execution_count": 8,
   "metadata": {},
   "outputs": [
    {
     "name": "stderr",
     "output_type": "stream",
     "text": [
      "C:\\Users\\MONSTER\\anaconda3\\lib\\site-packages\\seaborn\\_decorators.py:36: FutureWarning: Pass the following variable as a keyword arg: x. From version 0.12, the only valid positional argument will be `data`, and passing other arguments without an explicit keyword will result in an error or misinterpretation.\n",
      "  warnings.warn(\n"
     ]
    },
    {
     "data": {
      "text/plain": [
       "<AxesSubplot:xlabel='sentiment', ylabel='count'>"
      ]
     },
     "execution_count": 8,
     "metadata": {},
     "output_type": "execute_result"
    },
    {
     "data": {
      "image/png": "[encoded data removed]",
      "text/plain": [
       "<Figure size 864x648 with 1 Axes>"
      ]
     },
     "metadata": {
      "needs_background": "light"
     },
     "output_type": "display_data"
    }
   ],
   "source": [
    "plt.figure(figsize=(12,9))\n",
    "sns.countplot(train.sentiment)"
   ]
  },
  {
   "cell_type": "code",
   "execution_count": 9,
   "metadata": {},
   "outputs": [
    {
     "name": "stdout",
     "output_type": "stream",
     "text": [
      "<class 'pandas.core.frame.DataFrame'>\n",
      "RangeIndex: 1303 entries, 0 to 1302\n",
      "Data columns (total 2 columns):\n",
      " #   Column     Non-Null Count  Dtype  \n",
      "---  ------     --------------  -----  \n",
      " 0   Verbatim   1303 non-null   object \n",
      " 1   sentiment  1302 non-null   float64\n",
      "dtypes: float64(1), object(1)\n",
      "memory usage: 20.5+ KB\n"
     ]
    }
   ],
   "source": [
    "train.info()"
   ]
  },
  {
   "cell_type": "markdown",
   "metadata": {},
   "source": [
    "# Missing Values"
   ]
  },
  {
   "cell_type": "code",
   "execution_count": 10,
   "metadata": {},
   "outputs": [
    {
     "data": {
      "text/plain": [
       "Verbatim     0\n",
       "sentiment    1\n",
       "dtype: int64"
      ]
     },
     "execution_count": 10,
     "metadata": {},
     "output_type": "execute_result"
    }
   ],
   "source": [
    "train.isnull().sum()"
   ]
  },
  {
   "cell_type": "code",
   "execution_count": 11,
   "metadata": {},
   "outputs": [
    {
     "data": {
      "text/html": [
       "<div>\n",
       "<style scoped>\n",
       "    .dataframe tbody tr th:only-of-type {\n",
       "        vertical-align: middle;\n",
       "    }\n",
       "\n",
       "    .dataframe tbody tr th {\n",
       "        vertical-align: top;\n",
       "    }\n",
       "\n",
       "    .dataframe thead th {\n",
       "        text-align: right;\n",
       "    }\n",
       "</style>\n",
       "<table border=\"1\" class=\"dataframe\">\n",
       "  <thead>\n",
       "    <tr style=\"text-align: right;\">\n",
       "      <th></th>\n",
       "      <th>Verbatim</th>\n",
       "      <th>sentiment</th>\n",
       "    </tr>\n",
       "  </thead>\n",
       "  <tbody>\n",
       "    <tr>\n",
       "      <th>1051</th>\n",
       "      <td>Kapalı alanlarda zaten çekim gücü çok az. Buna...</td>\n",
       "      <td>NaN</td>\n",
       "    </tr>\n",
       "  </tbody>\n",
       "</table>\n",
       "</div>"
      ],
      "text/plain": [
       "                                               Verbatim  sentiment\n",
       "1051  Kapalı alanlarda zaten çekim gücü çok az. Buna...        NaN"
      ]
     },
     "execution_count": 11,
     "metadata": {},
     "output_type": "execute_result"
    }
   ],
   "source": [
    "train[train.sentiment.isnull()]"
   ]
  },
  {
   "cell_type": "code",
   "execution_count": 12,
   "metadata": {},
   "outputs": [
    {
     "data": {
      "text/plain": [
       "Int64Index([1051], dtype='int64')"
      ]
     },
     "execution_count": 12,
     "metadata": {},
     "output_type": "execute_result"
    }
   ],
   "source": [
    "train[train.sentiment.isnull()].index"
   ]
  },
  {
   "cell_type": "code",
   "execution_count": 13,
   "metadata": {},
   "outputs": [
    {
     "data": {
      "text/plain": [
       "'Kapalı alanlarda zaten çekim gücü çok az. Buna ek olarak telefon 4 diş çekip de 4.5G \\r\\ngözükmesine rağmen açık alanlarda bile kısa süreliğine internet kesiliyor. Bu durumdan \\r\\ndolayı operatörümü değiştireceğim.'"
      ]
     },
     "execution_count": 13,
     "metadata": {},
     "output_type": "execute_result"
    }
   ],
   "source": [
    "train.loc[1051,'Verbatim']"
   ]
  },
  {
   "cell_type": "code",
   "execution_count": 14,
   "metadata": {},
   "outputs": [],
   "source": [
    "train.loc[1051,'sentiment'] = 0"
   ]
  },
  {
   "cell_type": "code",
   "execution_count": 15,
   "metadata": {},
   "outputs": [
    {
     "data": {
      "text/plain": [
       "Verbatim     Kapalı alanlarda zaten çekim gücü çok az. Buna...\n",
       "sentiment                                                    0\n",
       "Name: 1051, dtype: object"
      ]
     },
     "execution_count": 15,
     "metadata": {},
     "output_type": "execute_result"
    }
   ],
   "source": [
    "train.loc[1051,['Verbatim','sentiment']]"
   ]
  },
  {
   "cell_type": "code",
   "execution_count": 16,
   "metadata": {},
   "outputs": [
    {
     "name": "stdout",
     "output_type": "stream",
     "text": [
      "** 0 Alt yapı çok yetersiz telefon hattım çoğu yerde çekmiyor \n",
      "\n",
      "** 1 Evimde sadece 1 tek odada çekiyor onuda cama yapışarak görüşme yapıyorum  Sizi aradığımda   o bölgede şebeke sıkıntısı görünmüyor  diyip konuşmayı bitirdiniz \n",
      "\n",
      "** 2 Çekim gücü çok zayıf internet de \n",
      "\n",
      "** 3 Hızınız çok yetersiz Tarifelerde İnternet paketleri çok az \n",
      "\n",
      "** 4 Bulunduğum yerde internet kalitesi E olarak görünüyor ve arayanlar ulaşamıyor Kalite beklentisiyleTürk Telekomden geçiş yaptım fakat ilk üç ay dolmasını bekliyorum Başka operatör kullanmayı düşünüyorum \n",
      "\n",
      "** 5 neredeyse Turkcell her yerde çekiyor vodafone hiç çekmiyor bu yüzden hattımı değiştireceğim \n",
      "\n",
      "** 6 Biz kütahya Emmet subak köyünde oturuyoruz vodafone hic çekmiyor tepelere  veya köy dışına çıkarsak konuşabiliyoruz  onun için herkes başka hatlara başlıyor \n",
      "\n",
      "** 7 Vericileri sıklastirin trabzon akcaabat bir cok köyünde vodafone birakin interneti telefon çekmiyor aldiginiz paralarin hakkini verin \n",
      "\n",
      "** 8 Alt yapı ve sinyal güçlendirme yapmaları gerek \n",
      "\n",
      "** 9 Ordu fatsanın tepecik köyünde ikamet ediyorum benim olduğum bölgede vodafone hiç çekmiyor interneti de çekmiyo diğer hatlar çekiyor çok mağdur oluyoruz \n",
      "\n",
      "** 10 Gereksiz yere fazla para harcatıyorsunuz aşırı aşım ücreti koyuyorsunuz faturamızdan fazla para ödemekten ve müşteriye laf cambazlığı yapıp sürekli müşterileri yanlış anlaşmalara yöneltiyorsunuz \n",
      "\n",
      "** 11 Kapsama alanı kesinlikle genişletilmelidir Doğuda bu konuyla ilgili çeşitli mağduriyetler yaşanmaktadır \n",
      "\n",
      "** 12 Türk Telekom dan bile kötü Çok kötü en kötüsü daha ne diyeyim \n",
      "\n",
      "** 13 Bulunduğum bölgede telefonum çekmiyor konuşmak için balkona çıkıyorum \n",
      "\n",
      "** 14 Kirikkale ilçelerinde ve köyde şebekeniz  yetersiz sehir merkezi iyi köyde ayni ortamda Türk Telekom ve Turkcell sebeke iyi sizinki kötü hem konusma hem internet ikisinin de duzelmesi gerekiyor asıl oralarda ınsanın ihtiyaci var \n",
      "\n",
      "** 15 Kapsama alanınız yeterli değil  Şehir merkezlerinde bile zor çekiyor \n",
      "\n",
      "** 16 Baz istasyonu kurulması ya da vericilerin yükseltilmesi \n",
      "\n",
      "** 17 vodafone şebekesinden memnun değiliz internet bağlantısı yok video açamıyoruz yani çok sıkıntılıdir \n",
      "\n",
      "** 18 Vakfıkebir Mısırlı Mah eskiden köydü şebekeniz çekmiyor İğrençsiniz vodafone En kısa zamanda herkes gibi her iki hattımı da Turkcell e geçireceğim \n",
      "\n",
      "** 19 Çekim gücü yükseltilirse  iyi olur internet normal \n",
      "\n",
      "** 20 Rezilsiniz kullanmak istemedigim paketi iptal etmediniz cok rezil bir sirketsiniz \n",
      "\n",
      "** 21 6 aydır kullanıyorum belki yüz kere şikayette bulundum hiç bir geri dönüş olmadı Taahhüt bittiği gün başka operatöre kayacağım \n",
      "\n",
      "** 22 Dicle ilçesi üzümlü köyüne ve Kocaköy ilçesi hacı reşit mahallesine yeterli şebeke çekmiyor \n",
      "\n",
      "** 23 Muhtemelen bazı lokasyonlardaki Baz İstasyonlarını güçlendirmek gerekecek \n",
      "\n",
      "** 24 Bursa güzelyalı da oturuyorum vodafone un çekim gücünden hiç memnun değilim Iylestirilmezse tekrar Türk Telekom a dönmeyi düşünüyorum \n",
      "\n",
      "** 25 Şebeke çok kötü hiç bir TV tarife yok en yakın zamanda Turkcell e geçmeyi düşünüyorum ben vodafone amına koyarım telefonda beş Şebeke var ama yinede çekmiyor ya lanet olası \n",
      "\n",
      "** 26 vodafone İnternet maalesef 4 m ilerdeki odada çekmiyor  Ve ben mobili kullanıyorum  Bilgilerinize \n",
      "\n",
      "** 27 Ankaranın köylerinde telefon çekmiyor  Ankara Güdül Karacaören köyü \n",
      "\n",
      "** 28 Telefonla gorusmelerimde karsi tarafin çal sesi gelmiyor veya sureli telefon gibi kesintiler oluyor Bunlari da iyilestirmenizi tavsiye ediyorum \n",
      "\n",
      "** 29 İnternet video izlerken donmalar yaşıyorum telefonum üst düzey telefon hafızası güçlü olmasına rağmen sorun yasiyorum \n",
      "\n",
      "** 30 Kapsama alanı çok zayıf Muğla merkeze üç km lik uzaklıkta kalıyoruz \n",
      "\n",
      "** 31 Çekmiyor çekim gücü attirmak \n",
      "\n",
      "** 32 İstanbulun ortasında bile telefon internet çekmiyor   Faturamı yükseltiyorlar kullanımlarımı düşürüyorlar  Bence önce bir kapsama alanlarınızı genişletin ve altyapınızı düzeltin  Berbat ötesi \n",
      "\n",
      "** 33 Müşteri memnuniyeti sağlayamıyorsunuz En kısa sürede hattımı taşıyacağım bundan sonra Türk Telekom veya Turkcell kullanacam \n",
      "\n",
      "** 34 Video da surekli duraklama oluyor çekmiyor 2 aydır düzelmedi \n",
      "\n",
      "** 35 Evde çekmiyor dışarı çıkınca sıkıntı yok \n",
      "\n",
      "** 36 Kırşehir kaman ömerhacili köyünde vodafone çekmiyor  gerekenin yapılmasını isterim \n",
      "\n",
      "** 37 Boku Dörtdivan ilçesi Adaköy köyünde diğer rakip şebekeler çekerken vodafone maalesef çekmiyor bilginize \n",
      "\n",
      "** 38 Kapsama gücünden memnun değilim  Karabüke bağlı eflani kasabasının köylerinde hiç çekmiyor veya bağlantı sorunu yaşanıyor  Bu durumdan dolayı her yaz sıkıntı yaşamaktan çok sıkıldık  Biz ailece yıllardır vodafone kullanıyoruz fakat birçok kişi şebekesini sırf bu sebeplere bağlı olarak değiştirmek zorunda kalıyor  İyileştirme çalışmalarının biran önce yapılmasını ve bu sorunun cözülmesini istiyoruz  Bilginize sunarım \n",
      "\n",
      "** 39 4 5 bulunduğum bölge de anında hücresele bağlanıyor  Video izlerken donmalar oluyor  Telefon da kesintiler meydana geliyor  Gerçekten ama gerçekten aldığınız para haram olsun \n",
      "\n",
      "** 40 video IZLERKEN DONUYOR \n",
      "\n",
      "** 41 Internet biraz yavas geliyor bana bide tarifeleriniz hic guzel degil hem pahali hem de guzel bir tarifeniz yok lutfen interneti bol ve ucuz tarifeniz varsa hatta tanimlasaniz iyi olur bir de benim tarife 28tl lik 3 gb internetkullanimina diger 3 ü haberimiz olmadan whatsappa gecmiş bunu bir türlü değiştiremiyorum ben onu instagram yapmak istiyorum nasıl olduysa whatsapp olmuş onun için tarifeleriniz kötü \n",
      "\n",
      "** 42 Ben Afyonkarahisar   Bolvadin  kurucaova köyünde yasiyorum cekim gücü cok zayıf \n",
      "\n",
      "** 43 Köyüm büyükabdiuşağı Akpınar Kirsehir e gittiğimde etraf köy ve arazilerde iletişim sorunu yaşamaktayım \n",
      "\n",
      "** 44 Baz istasyonlarınızı artırmanız gerekiyor Bazı noktalar da hala şebekeniz çekmiyor \n",
      "\n",
      "** 45 Son 2 aydir Sürekli konuşurken telefon kesilip kapanıyor  Mobil veri zaten hiç bir zaman hizli calismadi \n",
      "\n",
      "** 46 Mobil şebekeniz muazzam  İç anadolun en ücra köylerinden birinde ikamet etmekteyim  Malum köy ve ücra kelimesi yan yana olunca telefon muş  internetmiş bütün  özelliğini yitiriyor  Fakat bu diğer operatörleri kullananlar için geçerli iyi ki vodafone luyum çok mutluyum  Teşekkürler vodafone \n",
      "\n",
      "** 47 Evimde hat hiç çekmiyor \n",
      "\n",
      "** 48 Konuşurken kesinti oluyor İnternet çok kötü Turkcell veya Türk Telekom geçeceğim Memnun değilim \n",
      "\n",
      "** 49 Şebeke çekimi kotu \n",
      "\n",
      "** 50 Evim 1  Katta kucukcekmece de oturuyorum ve çekmiyor \n",
      "\n",
      "** 51 Daha iyi çekim gücü olsun bence İstanbul havalimanında hiç bir yerde çekmiyor \n",
      "\n",
      "** 52 Şebekeniz iyi çekmiyor \n",
      "\n",
      "** 53 İnternet paketim olduğu gibi kalıyor ve hiç kullanmadan ay bitiyor  Bağlantı sorunu yaşıyorum  En kısa zamanda başka operatöre geçmeyi düşünüyorum \n",
      "\n",
      "** 54 Lütfen çekim gücünü güçlendirin çünkü her yerde çekmiyor \n",
      "\n",
      "** 55 Verici istasyonları güncelleyin yada yenisini takın çekim kuvveti zayıf internet kalitesi 0 \n",
      "\n",
      "** 56 Bulunduğum bölgede alt yapı problemi var fiber olmasına ne ev internetim çekiyor ne telefon hattım çekiyor ilk fırsatta operatörünüzü terkedeceğim defalarca iletişime geçmeme rağmen problemim çözülmedi bölgeye yatırım yapılması gerekiyor cevabını alıyorum yatırım yapın o zaman \n",
      "\n",
      "** 57 Köyde internet çekmiyor \n",
      "\n",
      "** 58 Zemin katlarda ve bodrumlarda çekmiyor \n",
      "\n",
      "** 59 Kapsama alanını daha geniş ve kaliteli hale getirmeli \n",
      "\n",
      "** 60 Kapsama alanini daha fazla genisletirseniz memnun oluruz \n",
      "\n",
      "** 61 Kocaeli kandıra sarıahmetler köyü  ve çevre köylerde ciddi sorunlar yaşamaktadır  Telefon  İnternet hiç çekmiyor  Vericiler kapsam dışı gibi  ilgilenen yok  Şikayetimizi defalarca bildirdim  İki yıl içinde hep sıkıntı var \n",
      "\n",
      "** 62 Bu anket işe yarar mı bilmem beş kuruş etmez sebeke internet cok zayıf sürekli kesinti oluyor \n",
      "\n",
      "** 63 Faturaları ucuzlatın \n",
      "\n",
      "** 64 Baz istasyonunuz yetersiz veya kalitesiz güçlendirilebilir \n",
      "\n",
      "** 65 Vodafone 10 cigabayt internetim var kullanamiyorum cunku cekim denen birsey yok en yakin zamanda da Turkcelle gececem tam bir bas belasisiniz verdigim paralar haram olsun \n",
      "\n",
      "** 66 Tarifeler pahalı bir de bulunduğum yerde çekmiyor \n",
      "\n",
      "** 67 Daha iyi bir alt yapı hızlı internet erişimi \n",
      "\n",
      "** 68 Diğer operatörlere göre sizden beklentim yüksek fakat beklentilerimi yeteri kadar karşılamıyor  Şişli bölgesinde bile yetersiz alanlar var  Kırsalda bahsetmek bile istemiyorum  Sinyal gücü 0 olan o kadar yer varki   Reklam kampanyalarında bahsettiğiniz çok altında olduğunu düşündürüyor   Başarılar \n",
      "\n",
      "** 69 Daha fazla baz istasyonu kursun sıkıntı şebeke çekmeyen yerler \n",
      "\n",
      "** 70 Evimde rahat rahat konuşamıyorum telefonla konuşabilmek için cama çıkmam gerekiyor böyle bir saçmalık olabilir mi \n",
      "\n",
      "** 71 Baz istasyonu sayınızın artması lazım Birçok yerde çekmiyor \n",
      "\n",
      "** 72 Konyanın göbeğindeki evde telefon çekmiyor cama yapışık görüşme yapıyoruz Tüm ev olarak geçmiştik taahhüt dolar dolmaz başka operatöre geçeceğiz \n",
      "\n",
      "** 73 Ev giriş katta ve hat çekmiyor  Sokağa çıkıyorum telefon ile konuşmak için    Dolayısıyla mobil veri de kullanamıyorum  Ev İnterneti de vodafone  O da çekmiyor zaten \n",
      "\n",
      "** 74 Baz istasyonlarınızı arttırırsanız iyi olur \n",
      "\n",
      "** 75 Ev içinde internet erişimi çok kötü evim 3 katta olmasına rağmen sorun çıkıyor \n",
      "\n",
      "** 76 İnternet hızı çok sıkıntılı \n",
      "\n",
      "** 77 Zemin katta oturuyorum  Evde bana telefonla kimse ulaşamıyor çekim sıfır yani çekmiyor \n",
      "\n",
      "** 78 Bu yaptığım değerlendirme istanbul ici 10 olur fakat düşük seçmemin nedeni samsun çarşamba dıkbıyık gürpınar köyünde vodafone çekmiyor ve merkeze yakın bir yer dağ bayır değil uzak yayla değil siz heryerde kaliteli çekim gücü var diye reklam yakıyorsunuz ama maalesef insanlar o kadar size para ödüyor fakat hizmet sıfır lütfen bu sorunu çözün köyümde artık hattın çekmesini internet kullanmak istiyoruz \n",
      "\n",
      "** 79 Kırsal kesimlerinde hiç bir yerde çekme düzeni yok çok zorluk çekiyoruz  Oysa siz dünya devi olan GSM şirketiniz teşekkürler \n",
      "\n",
      "** 80 İnternet hızını artırmanız tüm herşeyi çözümler \n",
      "\n",
      "** 81 konuşurken sürekli sıkıntı ilk konuşmada asla konuşamazsin kesiliyor konuşurken karşının sesini duymakta zorluk çekiyorum hiç memun değilim \n",
      "\n",
      "** 82 Internet hızının arttırılması lazım \n",
      "\n",
      "** 83 İç mekanlarda çok sıkıntı var ve mobil internet çok yavaş beklemeli kesintili oluyor \n",
      "\n",
      "** 84 Vodafone un hala çekmediği yerler var dolayısıyla buralarda internete girmek de hayal oluyor çekim kalitesi ve kapsama alanı geliştirilmeli \n",
      "\n",
      "** 85 Baz istasyon sayisinda artis ve dagiliminda duzenleme yapilabilir \n",
      "\n",
      "** 86 Alt yapıya daha yatırım yapın \n",
      "\n",
      "** 87 Kütahya sökmen köyünde şebekeniz yok bunu düzeltin \n",
      "\n",
      "** 88 Merhaba ben samsunda yasiyorum koyum yuksek bir bölgede dısarida sorunsuz kullanilabiliyor fakat ev ıcersinde şebeke tamamen gidiyor   Lafın özü olarak kırsal bölgedeki yakinlarim bu sebepten dolayi daha ucuz olmasina ragmen vodafone gecis yapamiyorlar \n",
      "\n",
      "** 89 Genel itibarı ile gayet iyi ama giriş kat ve zemin katlarda şebeke yeterli değil \n",
      "\n",
      "** 90 Bazı bölgelerde şebeke olmuyor bundan dolayı iletişim zorluğu çekiyoruz baz istasyonunun artırılması gerekir diye düşünüyorum \n",
      "\n",
      "** 91 Verdiğiniz ücretsiz kullanımları paket yukseltince fırsat bilip kesmeyin 4 kere bırakılan şikayeti kafanıza göre silmeyin konuyu kapatmayın Haber verdik bilgi verdik diye yalandan bir düşmeyin Kaç yıllık abonenize 75 TL ye 15 GB lutfederken yeni gelene hat değiştirene 30 GB 49 TL ye vermeyin mesela \n",
      "\n",
      "** 92 Baz istasyonu sayısını hızla fazlalaştırmanız gerekiyor \n",
      "\n",
      "** 93 Valla Osmangazi mahallesinde oturuyorum evimde Turkcell hat çekiyor vodafone çekmiyor en kısa zamanda değiştireceğim hattı \n",
      "\n",
      "** 94 Çekim gücü çok zayıf düzelmesini istiyom bu konuda çok şikayetçiyim \n",
      "\n",
      "** 95 Baz istasyonu sayınızı acilen artırın \n",
      "\n",
      "** 96 Mobil İnternet hızınız çok düşük evde de İnternet çekmiyor ve Telefon ile konuşurken hat birden kesiliyor defalarca başıma geldi En iyi İnternet seviyesi ve Konuşma için kendinizi lütfen acil geliştirin Red 15 müşterinizim ama hiç bir faydasını göremiyorum \n",
      "\n",
      "** 97 Telefonun şebeke olmadigi alan çok İstanbul a yaşıyorum ama memleketim Ordu   Ordu da köye gittiğimde telefon çekmiyor ve sadece Turkcell çekiyor \n",
      "\n",
      "** 98 Evimiz giriş kat pek çekmiyor \n",
      "\n",
      "** 99 Haksız yere tarife ücreti yansıtılıyor \n",
      "\n",
      "** 100 Vericileri daha iyi bir noktaya yada vericilerin sayısını artırmanızı öneririm çünkü şehir içinde bir çok noktada sinyal zayıflığı yaşıyoruz umarım dikkate alırsınız pek sanmıyorum ama \n",
      "\n",
      "** 101 Baz istasyonlarinizin bakimini ve tamirini yapin personelleriniz ne iş yapiyor Daha çok baz istasyonu dikin vodafoneli olduguma çok pişmanim \n",
      "\n",
      "** 102 İnternet hızımdan hiç memnun değilim \n",
      "\n",
      "** 103 Video izlemede oldukça kötü telefonu bazense hiç açmıyor internet bağlantısı yok diyor bunun için bir çözüm üretilmeli internet var kullanamıyorum \n",
      "\n",
      "** 104 YouTube dan hiç bir şeyi 720 veya 1028 boyutta izleyemiyoruz donuyor herşey 480 can sıkıcı bir durum ne zaman kesintisiz 1080 izledim oyum tam olur \n",
      "\n",
      "** 105 Şebeke merkezde bile çekmiyor internet hızı çok yavaş \n",
      "\n",
      "** 106 Oturduğum bõlgede çekim gücü çok düşük maalesef hiç memnun değilim \n",
      "\n",
      "** 107 Bulundugum bolgeye kesinlikle baz istasyonu veya mobil baz istasyonu kurulmalı 2 adet hattımı vodafone a taşıdım ama sanırım tekrar başka sebekeye taşımamız gerekecek \n",
      "\n",
      "** 108 Berbat berbat berbat Daha nasıl anlatayım Yıllar geçtikçe düzeleceğinize daha da kötü bir hizmet alıyorum Taahhüdüm bitince farklı şebekeye geçeceğimi bilmenizi isterim \n",
      "\n",
      "** 109 Sebekem hiç çekmiyor buna bır care  bulunmasını istiyorum \n",
      "\n",
      "** 110 Baz istasyonlarının artırılmasını istiyorum \n",
      "\n",
      "** 111 Elmacık mahallesinde Turkcell çekerken vodafone çekmiyor Bulunduğum konumda başka hatlar çekmesine rağmen vodafone ile 4 5 g ile internete çok zayıf giriyor 3 g ile internete giriyorum Konuşmalardada ses kesintili geliyor telefon oppo a9 2020 hattım faturalı olmasa hat taşıyacağım \n",
      "\n",
      "** 112 Esenyurt Pınar mah 1228 Sokakta oturuyorum 5 Katta balkonda konuşabiliyor um çekmiyor diye gelip bakabilirsiniz taahhüdün bitsin tekrar Turkcell e geçicem \n",
      "\n",
      "** 113 İznik çakırca mahallesinde 4 5 çekiyor ama hızı oldukça az video izletmiyor çözümünü talep ediyorum teşekkürler \n",
      "\n",
      "** 114 Eski abonelerinizin kıymetini bilin ben Turkcell geçicem \n",
      "\n",
      "** 115 Paketleri ucuz diye gectim turkcell kullandim kendimi bildim bileli tekrar turkcell e gecmeyi düşünüyorum hem vodafone hizi kötü hemde paketler pahali ogrenci oldugum halde 15gb internete 60tl verecek durumum yok turkcelle gecerim daha iyi \n",
      "\n",
      "** 116 Sebekeniz çok zayıf maalesef \n",
      "\n",
      "** 117 Çekim gücü daha iyi olabilir yer yer şebeke bağlantısı kopuyor yer yer çekmiyor \n",
      "\n",
      "** 118 Evim florya havaalanın nin karşısında 1 katta oturuyorum cam kenarına veya balkona çıkmasam görüşemiyorum kimse ile ailede vodafone kimde varsa durum bu \n",
      "\n",
      "** 119 Sinyal gücünü artıracak alt yapı yatırımı istiyoruz \n",
      "\n",
      "** 120 Tarifeler biraz daha uygun fiyata olabilir \n",
      "\n",
      "** 121 4 5G ve 3G internet hizini yukseltin lutfen cok sorun yasiyoruz bulundugumuz izmirde \n",
      "\n",
      "** 122 Baz istasyonu yakınımıza kurulsun \n",
      "\n",
      "** 123 vodafonedan memnun değiliz sozlesme 59tl fatura 103tl cidiyetsiz isler limit asimi hile bos isler limit asma kardaesim sahtekarsiniz \n",
      "\n",
      "** 124 Bulunduğum bölgede internet hızı cok kötü \n",
      "\n",
      "** 125 4 5 g olmasına rağmen internet hızı çok düşük \n",
      "\n",
      "** 126 Alt yapı alanında yetersizliklerin olduğu ve bu alanda iyileştirmeye gidilmesi gerekmektedir \n",
      "\n",
      "** 127 Youtube da video izlemede kötü pubg mobile gibi oyunlarda ping sorunu var \n",
      "\n",
      "** 128 Tatillerde Ordu ili Akkuş İlçesi Ketendere Köyünde geçiriyoruz Turkcell kullananlar 4 5G internete giriyor biz birileriyle konuşabilmek için yüksek tepelere tırmanıyoruz  Kaç kere bu konuda şikayetçi olduysa da umursayan olmadı  2020 yılında çekmeyen şebeke kaldı mı kendinizebirsorun isterim  Bu konuda tarafıma geri dönüş yaparsanız sevinirim iyi çalışmalar \n",
      "\n",
      "** 129 Hepsi iyi sadece evdeki Vodafone net hiç iyi değil çekim gücü çok düşük sadece bulunduğu odadan bağlayabiliyorum evin diğer alanlarından hiç çekmiyor \n",
      "\n",
      "** 130 Dışarda bı nebze iyi ama evde çekmiyor \n",
      "\n",
      "** 131 İnternet kolay kolay çekmiyor şebeke de aynı şekilde evimde telefonu kullanamıyorum neredeyse bütün odaları geziyorum biriyle konuşmak için bunun çözülmesi için birşeyler yapılmasını arz ederim yoksa hattımı turkcelle tasiyacagim \n",
      "\n",
      "** 132 Arama esnasında sürekli telefon kesilip kapanıyor  Buna çözüm bulabilirsiniz \n",
      "\n",
      "** 133 Sebeke cekim sorunu yasiyorum \n",
      "\n",
      "** 134 Kapsama alanı genişletilmeli İnternet ve telefon heryerde çekmiyor onun harici bu problem yok \n",
      "\n",
      "** 135 Alt katta oturuyorum telefon çekmesi için cama yapışıyorum \n",
      "\n",
      "** 136 Baz istasyonlarının bakımı yapılmalı şikayet olan yerlerdekiler ihtiyaca göre yenilenmeli bina sayıları ve yüksekliği arttı yetersiz kalıyor \n",
      "\n",
      "** 137 Baz istasyonlarının çoğalması \n",
      "\n",
      "** 138 Alt yapı için yatırım yapmanız gerek \n",
      "\n",
      "** 139 Konuşma sırasında yıllardır kesilme kapanma  ton bozukluğu  aradan farklı cızırtı sesi çok fazla  telefonum yeni sıfır yani bu sorun hep var  türk telekoma geçmiştim bu sorunlar için şuan tekrar vodafonea geldim hala devam ediyor \n",
      "\n",
      "** 140 Kendi evimin içinde bile ne şebeke nede internet çekiyor \n",
      "\n",
      "** 141 Tahaaut dolduğu an tekrar 20 yıllık operatörün Turkcell geri döneceğim Berbat bir alt yapınız var sürekli kapanıyor Hat gidiyor Internet sürelikli kasıyor geç bağlanıyor Eşim de bende memnun değiliz \n",
      "\n",
      "** 142 Evimde odanın birinde 4 5G ile internete girerken diğer odada E ile giriyor böyle olunca interneti kullanamıyoruz ve malum bazı odalarda konuşamıyoruz bile şebekenin güçlendirilmesini istiyoruz \n",
      "\n",
      "** 143 Tarifedeki haklarımız bitmeden TL mizi 0 düşürüyor \n",
      "\n",
      "** 144 Reklam a çok para harcamayın şebeke yi daha güçlü yapmaya çalışın arkadaşlar Turkcell e geçiyor ben de geçicicem az kaldı daha kötü olursanız \n",
      "\n",
      "** 145 Bulunduğum bölgede şebeke sorunu var  Her telefon konuşmam kesiliyor  Arayanlar bana ulaşamıyor \n",
      "\n",
      "** 146 Mobil veri ile vodafone TV seyrederken donma lar oluyor Bunu da iyileştirirseniz tadından yenmez__ \n",
      "\n",
      "** 147 Vericilerin çoğaltılması \n",
      "\n",
      "** 148 Kapsama alanının arttırılması LÜTFENNN \n",
      "\n",
      "** 149 Bunu siz bilmelisiniz konuşurken bu zamanda hat kesilmesi ne demek \n",
      "\n",
      "** 150 Bir çok yer baz istasyonlari kurulmali şebekeler çekmiyor kaldiğim yerde özellikle hiç çekmiyor \n",
      "\n",
      "** 151 İnternet hızı düşük \n",
      "\n",
      "** 152 Esenlerde yaşıyorum ve hiç çekmiyor Alt yapı güçlendirilmeli \n",
      "\n",
      "** 153 Çekim ağının artırılması ve alt yapının daha fazla güçlendirilmesi \n",
      "\n",
      "** 154 Video izlerken çok duraksiyor \n",
      "\n",
      "** 155 Konuşmalar sık sık kesilyor ve arama düşüyor  Son zamanlarda bu daha sık olmaya başladı \n",
      "\n",
      "** 156 Fiyatlarınız pahalı \n",
      "\n",
      "** 157 Fatura her ay bir önceki aydan fazla bahane de fatura aşımı elli yaşındaki annem nasıl faturayi aşacak msj bilmez net bilmez gelen aramaya ali demekten başka \n",
      "\n",
      "** 158 Baz istasyonlarını artırın hiç düzenli konuşamıyorum \n",
      "\n",
      "** 159 Daha geniş bir kapsama alanı olursa iyi olur  İstanbul bakırköy ve ataköyde sürekli servis yok sorunu yasiyorum ve konusurken telefonnum surekli kesiliyor \n",
      "\n",
      "** 160 Ic mekanlarda yani ev ve dukkan gibi yerlerde cekim kalitesi ve internet hizi cok dusuk \n",
      "\n",
      "** 161 bulunduğum bölgede arazi yapısınedeni ile coğu yerde çekmemekte dir evrenselller yada yansıtıcı lar ile bölgelerde dahafazla aktif olunabilir ve cogu yerde ki baz istasyonlarınız hale 3g bunlarında 4 5 g ye gecirmeniz daha iyi olacağını düşünüyorum şimdiden teşekkürler \n",
      "\n",
      "** 162 Yan odada wifi çekmiyor hani mesafe olarak 1 adim anca ama çekmiyor \n",
      "\n",
      "** 163 Baz istasyonlarını güçlendirilmesi \n",
      "\n",
      "** 164 amasya merzifon hayrettin köyünde evimde şebeke çekmiyor 15 yıllık müşterinizm \n",
      "\n",
      "** 165 Daha önce uygulama üzerinden de bildirim yaptım   telefonum evimde hiç çekmiyor o yüzden Wi Fi le arama açık devamlı  O da arada kendi kendine kopuyor ve iletişim problemi yaşayabiliyorum \n",
      "\n",
      "** 166 Internet çok yavaş hızlansa çok iyi olur \n",
      "\n",
      "** 167 Bulunduğum yerde bir noktada az çekiyor bazı noktalarda hiç çekmiyor Eşimin Turkcell hattı sorunsuz çalışıyor Baz istasyonları hepsi aynı noktada sanırım vodafone sinyal gücü düşük Böyle devam ederse ben de Turkcell e geçiş yapacağım \n",
      "\n",
      "** 168 Konuşma yapamiyorum sürekli kesiliyor \n",
      "\n",
      "** 169 3 katlı evimin 3 katında da ne arama yapabiliyorum nede internet kullanamıyorum kaç kez müracaat ettik alt yapı yok alt yapı yok  gercekt ge vodafone benim için kocaman bir sifir \n",
      "\n",
      "** 170 Mobil şebeke hızı düşük Ev interneti sürekli kesilmektedir \n",
      "\n",
      "** 171 Tunceli ili pertek ilçesi sağman köyünde telefon hiç çekmiyor yapabiliyorsanız verici kurun \n",
      "\n",
      "** 172 Baz istasyonlarınızı mümkünse geliştirin \n",
      "\n",
      "** 173 İnternette çok bağlantı sorunu yaşıyorum Video kalitesi çok kötü donmalar yaşıyorum sürekli \n",
      "\n",
      "** 174 Çekim gücü çok zayıf hiç memmun değilim kesinlikle tevsiye etmem \n",
      "\n",
      "** 175 ne asansöre girince  nede evde başka bir odaya gidince allah korusun konuştugun yer nereyse sopa yutmuş gibi oradan ayrılamiyorsun Heleki konuşman çok onemli ise bir kesildimi bütün herşey alt üst oluyor Geeldigim hatta geri dönecegim Binanın eksi iki katinda bile şakır şakır konuşuyordum \n",
      "\n",
      "** 176 Cihaz borcumdan dolayi size katlanmak zorundayim son 2 faturam var bittigi anda turkcelle gecicem hicbiryerde çekmiyorsunuz kimseyede tavsiye etmiyorum \n",
      "\n",
      "** 177 Vericileri güçlendirilmesi diğer kurumlar daha çok verici olduğunu belirtmek isterim Teşekkürler \n",
      "\n",
      "** 178 Baz istasyonlarını arttırabilirsiniz \n",
      "\n",
      "** 179 Videolar nariren de olsa donma yapıyor \n",
      "\n",
      "** 180 Bir yikdir evde gorusme yyapamiyirum cunku çekmiyor beb paarkinson hasrasiyim ac durumlarda hic kimseye mmumkudeğil ulasamiyorum bisyere faturali oduyorumm ustelik kullabamadugim faturalari  Banadacyazuk \n",
      "\n",
      "** 181 Evimin içinden telefonla konuşmak için balkona çıkmak ve evin içinden mobil interneti kullanamamak belki bunu iyilestirebilirsiniz \n",
      "\n",
      "** 182 Çanakkale merkezde yaşıyorum ama merkezden 25 km uzaktaki bağ evimize gittiğimizde   Dümrek Köyü  benim  eşimin ve babamın dünyayla tüm iletişimimiz kopuyor  Orada hiç çekmiyor ve bu yüzden aile üyelerim teker teker vodafone dan ayrılıyor  Bu konuda bir çalışmanız olmayacaksa biz de yakında ayrılmayı düşünüyoruz \n",
      "\n",
      "** 183 Youtube videolarını 720p60 seyredemiyorum donuyor en fazla 480p düzeltirseniz sevinirim \n",
      "\n",
      "** 184 Benim evimde hiç bir şekilde telefon çekmiyor cama cıkmak zorunda kalıyoruz gereğini yapmanızı rica ediyorum \n",
      "\n",
      "** 185 Baz istasyonu sayısını arttırın \n",
      "\n",
      "** 186 Başak mahallesi 1654 Sokak no 12 de oturuyoruz fakat evimiz 3 Katta olmasına rağmen yıllardır balkonlara çıkıyoruz çekmesi için biz yorulduk ama inşallah çözeceğinizi umuyoruz ölmeden \n",
      "\n",
      "** 187 Kendinizi yenilemeniz gerektiğini düşünüyorum bir adım önce çeken telefon bir adım sonra asla çekmiyor birkaç kez aramak zorunda kalıyorum konuşmak için eve internet aldık 2 oda arkadan çekmiyor evin belli noktalarında hazılola geçiyoruz bu nasıl bir mantık anlamıyorum az kaldı başka bir hatta geçmeye 3 hat va r birinternet değiştirmek üzereyim sabrımı zorluyorsunuz \n",
      "\n",
      "** 188 hiç memnun degilim vodafone gectigim icin çok pisman oldum kalite sıfır tarife yükselmeye taahhüt bozmuyosunuz ama düşürmek isteyince taahhüt bozma cezası en kısa 1 yılım dolsun turkcell geçiş yapacagimm \n",
      "\n",
      "** 189 vodafone geçtim çekmiyor baz istasyonlarının güçlendirin yetersiz alanlara baz istasyonu kurun \n",
      "\n",
      "** 190 Semtin tam ortasında dairemizin içinde çekmiyor konuşmak için ya pencereye yada dışa çıkıyoruz daha öne müşteri hizmetlerine bldirdim bunu ama sebekede sorun yok denip kapatıldı \n",
      "\n",
      "** 191 kocaeli merkez otogar yanında oturuyorum  evimin içinde ve evimin bahçesinde telefonum şebeke çekmiyor  görüşmelerim kesiliyor \n",
      "\n",
      "** 192 Daha çok yıllar gerekiyor gelişmemiz için adam gibi çekmiyor vodafone yıllardır turkcell müşterisiydim vodafone geçtim pişman oldum tekrar turkcell e geçeceğim bu gidisle \n",
      "\n",
      "** 193 Benim evim üçüncü kat çekmiyorsa nerede çekecek \n",
      "\n",
      "** 194 Şebeke hiç bir yerde çekmiyorr \n",
      "\n",
      "** 195 Telefonum evde çekmiyor cam kenarında konuauyorum \n",
      "\n",
      "** 196 İkamet ettiğim evde şebeke problemi devamediyor evde kal diyosunuz telefon şebeke yok yazik yazik \n",
      "\n",
      "** 197 İnternet hizi yukseltin \n",
      "\n",
      "** 198 Yıl 2020 çekim gücü hala çok düşük \n",
      "\n",
      "** 199 Hat kesilmelerim oluyorve bulunduğum yerde telefonum çekmeyebiliyo \n",
      "\n",
      "** 200 Mobil şebeke tavsiye edicegim birşey yok ama çok kötü şebekeniz var 4 düncü katta oturuyorum evimin içinde çekmiyor hiç memlun degilim \n",
      "\n",
      "** 201 Şebekeler ve internet çekmiyor konuşurken kapanıyor Gereğinin yapılmasını arz ederim \n",
      "\n",
      "** 202 Çekim gücü az evlerde bile zor çekiyor arama yapmaya bazen videolar donuyor surekli \n",
      "\n",
      "** 203 Kapsama yetersiz videolar çok geç açiliyorgoruntulu konuşmalarda donma çok oluyor \n",
      "\n",
      "** 204 çekmiyor hizli interneti yok yavaş \n",
      "\n",
      "** 205 Baz istasyonlarin güçlenmesi ve yaygınlaşması lazım diye dusunuyorum \n",
      "\n",
      "** 206 Sürekli kesintiye uğruyor konuşurken \n",
      "\n",
      "** 207 Çekim gücünde çok sıkıntı yaşıyorum umarım geliştirmek adına adımlarınız olur \n",
      "\n",
      "** 208 Ben Doğanhisar Koçaş köyündeyim hattınız  çekmiyor verici kurulmasını istiyorum \n",
      "\n",
      "** 209 İnternet berbat Çağrılarda şebeke sorunu bildim bileli var Sözleşmenin bitmesini iple çekiyorum resmen geri Turkcell e dönücem \n",
      "\n",
      "** 210 Bazı yerlerde az çekiyor kapsama alanları geliştirilmeli \n",
      "\n",
      "** 211 Çekimi düşük bazı yerlerde şebeke çekmiyor \n",
      "\n",
      "** 212 çekmiyor şebekesi hiç iyi değil böyle giderse Türk Telekom a geçcem \n",
      "\n",
      "** 213 Tire sarılar köyü hiç çekmiyor pzar günleri mahrumum Ödemiş çamyayla köyü az çekiyor mahrumuz iyileştirirseniz müşteri potföyü yükselir \n",
      "\n",
      "** 214 Türk telekomdan size sizden de Turkcell e geçecem \n",
      "\n",
      "** 215 Evimde ön oda da çekmiyor konuşmak için arka odaya geçmek zorunda kalıyorum \n",
      "\n",
      "** 216 Malesef heryerde çekmiyor alt yapıya birazdaha özen gösterilmeli bu konuda biraz sıkını çekiyoruz birvodafone kulanısı olarak tesekkurlerürler \n",
      "\n",
      "** 217 Şebeke çekmiyor giriş katta oturmama rağmen telefonum çekmiyor bu yüzden vodafone dan ayrilicam \n",
      "\n",
      "** 218 Canlı tv izlerken donma oluyor bu düzeltirse gayet güzel olur \n",
      "\n",
      "** 219 Kapsama alanı ve çekim gücü geliştirilmeli \n",
      "\n",
      "** 220 Puhu TV vb Uygulamalarda film izlerken sürekli donuyor \n",
      "\n",
      "** 221 Telefon cekmede internet ve video izlemede kalite düşüklüğü mevcut \n",
      "\n",
      "** 222 Elektirik gittiğinde şebeke gitmesin o kadar ücret ödüyorum bu şekil devam ederse Turkcelle geçecem \n",
      "\n",
      "** 223 Baz istasyon sayınızı arttırmalısınız özellikle Bağcılar demirkapı mahallesinde \n",
      "\n",
      "** 224 Cogu yerde çekmiyor video lar izlerken donuyor \n",
      "\n",
      "** 225 Fiyatına göre gayet iyi fakat evde arka odalarda internet hiç çekmiyor  Çektiği odada 2 diş çekiyor sadece belki 2  Katta oturduğumuz için olabilir  Fiber kablo kullaniyorsunuz sanırım belki biraz daha yaygın bir sebeke aği kurulabilir \n",
      "\n",
      "** 226 Telefonumun şebeke sorunu var internet baglantisi yavaş donma yapiyor birçok yerde çekmiyor \n",
      "\n",
      "** 227 Öncelile 10 yıldan beri vodafone kullanıcısıyım ve çok memnunum ama köye geldiğim zamanlar hiç çekmiyor belirli yerlere gidip zorla çektirmem gerekiyor acil bir şey olduğunda haber vermek zor olabilir bunun için vodafone nin çoğu yere ulaşması gerekiyor  Şimdiden teşekkür ederim \n",
      "\n",
      "** 228 Maalesef çekim gücü çok çok düşük ufak bir kuytuya girdiğiniz de şebeke yok kötü niyetle söylemedim yani sıkıntı \n",
      "\n",
      "** 229 Verici sayısını yükseltirseniz telefonlarımız çeker \n",
      "\n",
      "** 230 Baz istasyonlarin sayısı artırılmalı ve gerekli bakım yapilmali \n",
      "\n",
      "** 231 Alt yapıya daha fazla yatırım yapmalısınız \n",
      "\n",
      "** 232 Özellikle Silivri Selimapaşa ve Silivri Beycilerde 360p de video izlerken bile donmalar ile karşılaşıyorum  Çekim gücü yok denilecek seviyede speedtest oranı her zaman 0 60 2 arasında değişiyo 2 üstüne cıkmıyor \n",
      "\n",
      "** 233 Valla tavsiye bilmem o kadar para ödüyorum ve rezillik taahhüt bitince Turkcell e geçeceğim \n",
      "\n",
      "** 234 Köylerde daha yavaş bazı yerlerde hiç çekmiyor \n",
      "\n",
      "** 235 1 hafta önce Konya sefa köye gezinti için gittigimde vodafone çekim hiç yoktu Konyanın civarındaki göl ve barajlarda çekim neredeyse yok \n",
      "\n",
      "** 236 Kırıkkale de berbat bir konuşma esnasında hat kesilme ve hat düşmeli var sizin vereceğiniz kesilen dakika yerine iyileşme yapın düzelmezse değiştireceğim umarım kayıtsız kalmazsınız sıkıntı bakın ay içinde kaç defa hat düşmüş \n",
      "\n",
      "** 237 Telefonum zemin katta çekmiyor \n",
      "\n",
      "** 238 Ne evde nede balkonda çekmiyor Görüşmelerimizi sokaktanyapıyoruz Ve kullanamadığım internetin faturasını ödüyorum Taahhütüm bitince kesinlikle operatörümü değiltiricem \n",
      "\n",
      "** 239 Daha 1 ay olmadı kullanıyorum ama sürekli ünlem isareti veriyor videolar donuyor \n",
      "\n",
      "** 240 Sivas ta maalesef ne internet ne de şebekeniz çekmiyor On üç sene türktelekom kullanıp üç dört ay önce geçtim vodafoneye Çok pişman oldum Taahhüt biter bitmez bırakacağım \n",
      "\n",
      "** 241 Üsküdarda oturuyorum 4 kat da odama geçtiğimde tek diş şebeke çekiyor baz istasyonlarını genişletmek gerekir bununla ilgili çok şikayette bulundum \n",
      "\n",
      "** 242 Evimde telefon dogru duzgun çekmiyor  cama yapışık konuşmaktan vok yoruldum lutfen çözüm bulun \n",
      "\n",
      "** 243 Video ierken donup duruyor videolar bu gelistirilebilir \n",
      "\n",
      "** 244 Sağlıklı görüşme yapamıyorum sık sık hat kesilmesi oluyor daha görüşme yapmadan hat kesiliyor \n",
      "\n",
      "** 245 İnternet çekim ve hızının daha iyi olması lazım Şebeke iç ve dış mekan kısımlarında daha iyi çekmesi için iyileştirme yapılması Şuan mevcut olarak bu sıkıntıları çok çekiyoruz Lütfen bir an önce bu sorunlar iyileştirme yapılmaz ise 15 yıllık vodafone aboneliğinden çıkacağım ekim ayında sözleşmem bitiyor iyi çalışmalar \n",
      "\n",
      "** 246 İnternetim hızlı değil sürekli 3G çekiyor \n",
      "\n",
      "** 247 Örneğin kendi evimde vodafone salonda çekerken oturma odamda çekmiyor Nasıl oluyor bu durum    Anlamak imkansız \n",
      "\n",
      "** 248 Tarife çok ama çok pahalı insanları zorda bırakıyorsunuz asgari ücretle çalışıyorum yine faturaya yetmiyor lütfen bu yazıyı okuyun ve uygun tarife çıkartın en uygun tarife 55 TL Allah var yukarıda sizi görüyor bunu helal etmem \n",
      "\n",
      "** 249 Sancaktepede oturuyorum evde otururken telefon çekmiyor arayanlar ulaşamıyor Wi Fi yoluyla internet araması yapınca ulaşılıyorum \n",
      "\n",
      "** 250 500 hane olan bizim köyde vodafone çekim gücü neredeyse sıfır biraz duyar olun lütfen \n",
      "\n",
      "** 251 3 katta oturuyorum şebeke 2 çizgi bazı odalarda çekmiyor çok pişmanım turkceli bırakıp vodafone geçtiğim için \n",
      "\n",
      "** 252 Mb Cok hızlı tükeniyor ve internet hızı çok düşük \n",
      "\n",
      "** 253 İnternet bazı yerlerde çekmiyor mesela oturduğum evin arka odasında çekmiyor kardeşim arayıp söyledi fakat herhangi bir işlem yapılmadığı için başka operatöre geçti bende başka operatöre geçmeyi düşünüyorum \n",
      "\n",
      "** 254 Burda sebeke cekmıyor malesef gelin malleye baz ıstasyonu kurun lutfen \n",
      "\n",
      "** 255 Şebeke kesintisi video oynatma ağır İnternet hızı düşük \n",
      "\n",
      "** 256 Telefonla cama yapışarak konuşuyorum salonda yada başka bir odada kesinlikle çekmiyor  evde internet olduğu için internetinizi  kullanmıyorum çünkü oda çekmiyor \n",
      "\n",
      "** 257 Mobil internet hızı gerçekten yavaş geliştirilmeye ihtiyacı var \n",
      "\n",
      "** 258 İnternet hızım uzun zamandır çok düşük \n",
      "\n",
      "** 259 Kapsama alanınız bulunduğum çevrede yetersiz internetiniz Den memnun değilim \n",
      "\n",
      "** 260 Verici yani istasyon sayısını arttırması gerekli istanbul gibi bir metropolde bile sıkıntı yaşıyorum \n",
      "\n",
      "** 261 Şebeke çok zayıf bulunduğum bölgede şikayet ediyorum değişe hiç birşey yok \n",
      "\n",
      "** 262 Paket fiyatları çok yüksek \n",
      "\n",
      "** 263 Bu korona olayından sonra ne internet doğru çekiyor nede telefonlar doğru çekiyor sürekli konuşurken kesiliyor Bıktık artık \n",
      "\n",
      "** 264 İnternet hızı kapalı ortamlarda bazen çok yavaşlıyor \n",
      "\n",
      "** 265 Evim üst katta telefonum çekmiyor \n",
      "\n",
      "** 266 neler yapılabilir siz daha iyi bilirsiniz ama mümkün oldukça çabuk yapın taahhütname bitince eski operatöre geçicem \n",
      "\n",
      "** 267 Bulunduğum yerde baz istasyonu kurmak \n",
      "\n",
      "** 268 Mobil veri hızı internet yavaş \n",
      "\n",
      "** 269 Bulunduğum evin neredeyse tamamında internet çekmiyor  Aynı şekilde telefonda çekmiyor  Arayanlar ulaşamıyor   internet hizmetine ulaşmak gerçekten sıkıntı  Tahattüt olmasa bu hizmet ile kimse beni bu hatta tutamaz  Evimdeyim ve inşallah bu anketi gönderebilirim \n",
      "\n",
      "** 270 Şuan Giresun Eynesil Ada köy köyünde misafirlikyeyim İnternet ve telefon çok sık çekmemektedir Gümüşhane Kürtün Taşlıca köyü çatalkaya mevkiisinde telefon ve İnternet neredeyse hiç kullanılmamaktadır Bu bölgelerde çalışma yaparak şebeke sorununu çözümlemenizi rica ediyorum \n",
      "\n",
      "** 271 Bölge olarak baz istasyonu sayısı arttırabilirsiniz veya bölgelere koyduğunuz baz istasyonlarını en uygun konuma inşa edebilirsiniz \n",
      "\n",
      "** 272 Tarifem çok yüksek geliyor 5 ayim kadı Turkcelle gececem \n",
      "\n",
      "** 273 Ev içinde çekmiyor da geziyorum oda oda \n",
      "\n",
      "** 274 Paketleri daha ucuz olması \n",
      "\n",
      "** 275 Ben bu operatöre Köyüme gittiğim yararlanayım diye geçmiştim  Ancak gittiğim köyümde  Sırakaya Köyü  Kahta Adıyaman  vodafone hattı çekmiyor  Telefon ve internet ulaşımı gerçekleşmiyor  O bölgeye verici ihtiyacı var \n",
      "\n",
      "** 276 Tarifeleri daha makul seviyeye çekerseniz çok sevinirim \n",
      "\n",
      "** 277 2 kelime konuşamıyorum karşıdakini hiç anlayamıyorum bağlantı çok kötü  Yada hat kapanıyor  Çok şikayetçiyim bu konuda ne yapacaksanız yapın artık Şehirin göbeğinde şebeke arıyorum yer değişikliği yaparak görüşme esnasında _ \n",
      "\n",
      "** 278 Heryerde şebeke çekimi iyi değil şehir içi güzel ama köye gelince kullanamıyorum \n",
      "\n",
      "** 279 Ev içinde internet sıfır arama sıfır her şey sıfır Tahhüt bitsin rakip markanıza geçeceğim yani Turkcell \n",
      "\n",
      "** 280 Tarifeler cok pahalı \n",
      "\n",
      "** 281 Alt yapının yeterli olmadığını düşünüyorum \n",
      "\n",
      "** 282 Mobil internetim çok yavaş \n",
      "\n",
      "** 283 Baskalariyla konusurken kesiliyor hat dusuyor \n",
      "\n",
      "** 284 Paket bitince otomatik 250 mb 12 tl bunun kalkması lazım bunun yüzünden Turkcelle geçiş yapıcam \n",
      "\n",
      "** 285 Köyde hiç çekmiyor \n",
      "\n",
      "** 286 Oturduğum dairede telefonu kılıfından çıkartmadan kullanamiyorum   O kadar saçma bir durum ki evin içinde telefon iki diş güç bela cekiyor heleki evimin alt katına inince 0 çekim gücü   Iyi çalışmalar dilerim \n",
      "\n",
      "** 287 Her arama da şebeke kesiliyor tavsiye sormak yerine ben degil bence siz gelistirmelisiniz \n",
      "\n",
      "** 288 Köy bölge lerinde iyi çekmiyor \n",
      "\n",
      "** 289 alt yapınız güçlendirin artık kaçıncı yüzyıldayız dünyada internet hızı çekme durumu ortadayken bu kadar zayıf kalmanızı anlayamıyorum \n",
      "\n",
      "** 290 Malesef cekım gucu zayıf adres bilgilerim mevcut evim bodrum veya giriş kat olmamasına ragmen her yerde cekmıyor ya balkonda yada salonda konuşup İnternete baglanıyoruz yani reklamlarda denizin ortasında ceken vodafone evımın salonunda cekmıyor \n",
      "\n",
      "** 291 kac yildir vodafone kullaniyorum hala oturdugum evin iki odasinda hem internet hem arama çekmiyor kullanamiyorum \n",
      "\n",
      "** 292 Çok sık telefon kapanması yaşıyorum her ay 120  verip hizmet alamamak hiç hoşuma gitmiyor hattımı değiştirmeyi düşünüyorum \n",
      "\n",
      "** 293 İnternet hızınız çok yavaş 4 5g olmasına rağmen hiç çekmiyor hızı iyileştirirseniz çok iyi olur \n",
      "\n",
      "** 294 Oturduğum evin içerisinden çekmiyor konunusurken hat kesiliyorinternet hiç çekmiyor \n",
      "\n",
      "** 295 Bulunduğum ev ve iş yerinde 4 5G 1 yada 2 sinyal çekim yapıyor ve sürekli 3G düşüp 4 5G bağlanıyor Arada kalıyor bazen bu yüzden mobil internette hız problemi yaşanabiliyor Genel olarak konuşma kalitesinde probşem yaşamadım Sadece 4 5G için bazı lokasyonlardaki baz istasyonları yetersiz gibi \n",
      "\n",
      "** 296 Baz istasyonlarını arttırır ve güçlendirirseniz daha iyi olacağına inanıyorum \n",
      "\n",
      "** 297 4 5G göstermesine rağmen maalesef internet çok yavaş  Ev 2 katlı  Alt katta konuşamıyorum  Ses karşı tarafa ulaşamıyor  Konum değiştirmek zorunda kalıyorum \n",
      "\n",
      "** 298 Evde telefon çekmiyor ikinci katta oturduğuma rağmen şebeke sorunu çok yaşıyorum \n",
      "\n",
      "** 299 Köy bağ gibi yerlerde 0 rezalet icerisinde lutfen duzeltiniz kolay gelsin \n",
      "\n",
      "** 300 İnternet hızı cok zayıf ve mb lar cok hızlı tükeniyor eskiden böyle değildi \n",
      "\n",
      "** 301 İnegöldeki evimizin içinde konuşamıyoruz  pencere kenarlarına gidip konuşabiliyoruz \n",
      "\n",
      "** 302 Kapsama alanını genişletmeniz önemle rica olunur \n",
      "\n",
      "** 303 Çekim alanı düştü sanırım Turkcell e geçiricem hattımı \n",
      "\n",
      "** 304 Evin içinden konuşamıyoruz Illaki balkona çıkmamız gerekiyor ya da cam kenarına Evim 3 katta ve şehrin göbeğinde yaşıyorum Sadece evde değil seyahatlerim Dede araç içerisinde yolda giderken çoğu zaman Bağlantı kopuyor \n",
      "\n",
      "** 305 İç mekân çekim gücü çoğu yerde iyi  video izlerken de sorun olmuyor ön yükleme olduğu için  lakin online oyunlar da çekim gücü ve hızı internet in kalitesi ortaya çıkıyor  Oyunda donma  ping  denilen geriden gelme olayı çok sinir bozucu  Hani denilir ya iki dakikalık kafa dağıtmak istiyorsun ama iyice deli olup çıkıyorsun \n",
      "\n",
      "** 306 Bazı evlerde  mesela istanbul yenimahalle 1 derya sokakda ev içerisinde hiç çekmiyor bıktım \n",
      "\n",
      "** 307 Paket fiyatları ekstra ücret kesilmesin \n",
      "\n",
      "** 308 Çekim gücünüz biraz zayıf iyileştiriseniz çok seviniyirim \n",
      "\n",
      "** 309 İnternet alt yapısında iyileştirme yapılmalı İnternet çekim gücü hiç iyi değil Ev interneti de aynı şekilde çekim gücü çok kötü 1 metrelik alanda bile çekmiyor \n",
      "\n",
      "** 310 Oyundayken veya video izlerken kasmalar yaşanıyor \n",
      "\n",
      "** 311 Zeytinburnu yeşiltepe mahallesinde oturuyorum ne mutfakta ne de odam da çekmiyor şebeke \n",
      "\n",
      "** 312 Sebeke bazen gidiyo ve hic gelmiyo internette biraz agir \n",
      "\n",
      "** 313 Reklama para vereceğinize yatırım yapın altyapınızı geliştin \n",
      "\n",
      "** 314 Evimde neredeyse hiç bir odada çekmiyor internet ve arama yaparken çok kesilmeler yaşıyorum  internet ve konuşma kapsamasinin genişletilmesi gerekli kırklareli merkez de   kırklareli merkez armağan  kırklareli merkez geçitazı ve kırklareli merkez demirköy iğneada köyünde hiç çekmiyor bunlar düzeltilmesi gerekli \n",
      "\n",
      "** 315 internetin her zaman zayıf benim evin içinde çekmiyor balkonda çekiyor sadece \n",
      "\n",
      "** 316 Konuşmalar sürekli hışırtılı ve kopuyor  Ev içinde konuşulmuyor 1 kat ve alt katlarda pencere kenarında konuşuyorum  İç odalarda 4G yazısı yerine GPRS yazısı geliyor  ev içinde sürekli ta 3G yada E yazıyor  Müşteri Hizmetleri ile dahi konuşurken anlaşılmıyor konuşulanlar  Bu aralar cep telefonu ile konuşmak ve internete girmek gerçekten çok yorucu ve bunaltıcı \n",
      "\n",
      "** 317 Guclendirici alıcılar in baz istasyonlarının kurulması lazım acilen \n",
      "\n",
      "** 318 İstanbul içinde bazı bölgelerde örneğin gungorende evimde 2 katta şebeke neredeyse sıfır konuşma bile zorla yapıyorum \n",
      "\n",
      "** 319 Daha güçlü baz istasyonları kurulabilir İlçelere ve şehir dışlarına yakın yerlerdeki baz istasyonları güçlendirilebilir Bu konuda daha önceki şikayetlerim değerlendirilebilir \n",
      "\n",
      "** 320 videoları izlerken donma oluyor Şebeke bazı yerlerde çekmiyor \n",
      "\n",
      "** 321 Sebeke sorunu oluyor ve video izlerken hızı Yavaş ve sanki izleme kısıtlaması var gibi açıkçası cekim kalitesi kötü ve hic memnun değilim sözleşmem biter bitmez oparetör değişeceğim \n",
      "\n",
      "** 322 İstanbulda Beylikdüzü Dereağzı mahallesi ve Esenyurt örnek mahallesi bölgelerinde çekim gücü düşük  bu bölgeler de kesinlikle iyileştirme yapılması gerekli \n",
      "\n",
      "** 323 Kapsama alanının genişletilmesi ve internet hızlarının arttırılması gerek \n",
      "\n",
      "** 324 Evde cep telefonu kullanımında cok zorlanıyorız  Şebeke genelde çekmiyor \n",
      "\n",
      "** 325 Bulunduğum bölgede az çekiyor konuşurken kesiliyor en kötüsü de bu birde internet merkezi yer olsa bile çekim kalitesi düşük yeni baz istasyonu yada güçlendirme çalışması yapılması gerekiyor \n",
      "\n",
      "** 326 Kapsama alanını geliştirin bin pişmanım vodafone geçtiğimden telefon internetim bazen Edgeye geçiyor yıl 2020 ayıp \n",
      "\n",
      "** 327 Bu teknik bir durum Bence altyapı geliştirilmelidir \n",
      "\n",
      "** 328 İnternet hızı çok yavaş şebeke hep az çekiyor talebime bakıp \n",
      "\n",
      "** 329 İstanbul esenlerde 3  Katta oturuyorum ve hiç bir şekilde çekmiyor konuşamıyorum \n",
      "\n",
      "** 330 Paketleriniz çok pahalı \n",
      "\n",
      "** 331 Vericilere bakılmasını istiyoz internete giremiyoz duzgun \n",
      "\n",
      "** 332 Mobil internet hızının biraz yükselmesini isterim \n",
      "\n",
      "** 333 Vericilerinizi artırın alt yapı yatırımı yapın biraz Milas merkez dahil mobil internet problemi var Milas ın kırsal alanlarından bahsetmiyorum bile Aldığınız paraları hakedin biraz \n",
      "\n",
      "** 334 Çekim bölgelerini artırmanızı ve vericilerinizi artırmanızı talep ediyorum kullanamıyorum telefonum çoğu yerde çekmiyor \n",
      "\n",
      "** 335 Hızı çok yavaş \n",
      "\n",
      "** 336 Konusurken kesiliyor ses gelmiyo kopuyor internetyavas \n",
      "\n",
      "** 337 Mecidiyeköy meydanında mevcut internetimden sitelere giris saglayamiyorum  Cok yavas cekiyor  Youtubeden video izlerken güçlük yaşıyorum  Arnavutkoy ilcesinde de bazi bolgelerde sebeke ve internet hizmeti cok yavas kaliyor \n",
      "\n",
      "** 338 alt yapı güçlendirmesi \n",
      "\n",
      "** 339 Bulunduğum yere daha da güçlendirilmiş bir baz istasyonu istiyorum \n",
      "\n",
      "** 340 İnternet çok kötü 10 saniyelik video yu 1 dakika da izliyorum sürekli donuyor \n",
      "\n",
      "** 341 Telefon çekmiyor konuşurken kapanıyor \n",
      "\n",
      "** 342 Şebekeniz hiç çekmiyor bütün ailemi turkcell taşıcam ne hediye gönderdiniz aileme internet ne başka birşey bütün ailemi Turkcell taşıcam \n",
      "\n",
      "** 343 Alinan ek paketler mobilden iptal edebilse iyi olur \n",
      "\n",
      "** 344 Arama yaparken hat düşmüyor çok sıkıntılı \n",
      "\n",
      "** 345 Tavsiyem yok 2 senedir arayip cekmedigini bildiriyorum ama degisen birsey yok baska operatore gecmeyi dusunuyorum turk telekom bile daha iyi cekiyor \n",
      "\n",
      "** 346 Ordu ili ve Ulubey ilcesi arasina baz istasyonu gerekiyor  Bu baz istasyonu ile akpinar  Fındıklı  Kayadibi  Doglu  Sayıp gibi koy ve mahallelerin internet sebeke sorunu çözülür saygılar \n",
      "\n",
      "** 347 Evimde vodafone çekmiyor internet mutfakta çekmiyor  telefon la konuşurken karşıdali sesimi almıyor kesik kesik geliyor diyor  Bunlara çözüm sağlarsanız neden tavsiye etmeyelim  Kiliste yaşıyorum bu arada \n",
      "\n",
      "** 348 Baz istasyonları çoğaltılabilir merkezlerde dahi İnternet ve konuşma problemleri yaşıyorum \n",
      "\n",
      "** 349 Alt ve üst yapınızı yenileyip düzeltin 1 _ 2 aydır vodafone hiç çekmiyor \n",
      "\n",
      "** 350 Hiçbiyerde çekmiyor evde pencereden pencereye koşuyorum konuşmaya çalışırken net desen ayrı \n",
      "\n",
      "** 351 Baz istasyonu artırılabilir \n",
      "\n",
      "** 352 Turkcell e kıyasla çok kötü derecede şebeke ve internet deneyimi Megakent istanbul gibi şehirde çekmeyen 10 dan fazla ilçede çekmiyor Hiç memnun degilim en kısa süre içerisinde vodafone dan hattımı taşıyacagım \n",
      "\n",
      "** 353 Kapsama alanın genişletilmesi ve internetin kalitesinin artırılmasını tavsiye ederim \n",
      "\n",
      "** 354 3 5G de internetim asla çekmiyor 4 G de kullanım sağlıyorum fakat bu şekildede internetim aşırı hızlı gidiyo şebeke hızının yükseltilmesi ve hızlandırılması gerekiyo \n",
      "\n",
      "** 355 İnternet yavaş video açmakta zorlanıyor her yerde çekmiyor başarılar saygılar \n",
      "\n",
      "** 356 Faturasız paketlerdeki internet daha bol olsun Diğer SMS DAKİKA gayet yeterli Tabi fiyatlar sabit kalsın \n",
      "\n",
      "** 357 Verici cogaltirsaniz belki düzelir \n",
      "\n",
      "** 358 Daha fazla baz istasyonu kurulması gerekiyor İlçemizin merkeze yakın yerinde var ancak merkeze biraz uzak olan birçok mahallede olmadığı için çekim gücü çok zayıflıyor \n",
      "\n",
      "** 359 Fatura indirim yapın \n",
      "\n",
      "** 360 Telefon çekmiyor konuşurken kapanıyor \n",
      "\n",
      "** 361 İnternet hızının iyileştirilmesi gerekiyor \n",
      "\n",
      "** 362 Belirli yerlerde şebeke çekmiyor internet hızı yetersiz \n",
      "\n",
      "** 363 Bursa altınşehirde 237 Sokak civarında telefon çekmiyor ve internet hızı çok düşük oluyor Orada oturmuyor olsam sıkıntı olmazdı ama malesef tam orada oturuyorum \n",
      "\n",
      "** 364 Daha çok baz istasyonu kurun tarifeleriniz uygun ama çekmiyor \n",
      "\n",
      "** 365 Çoğu kez video izlerken donma yaşıyorum  O yüzden böyle puanlama yaptım \n",
      "\n",
      "** 366 İnternetiniz eskisi gibi hiç iyi değil video izlerken flim izlerke çok donuyor gerğin yapılmasını arz ederim \n",
      "\n",
      "** 367 Baz istasyonu sayınızı artırınız \n",
      "\n",
      "** 368 vericilerinizi mumkun oldugunca cogaltmaniz \n",
      "\n",
      "** 369 4 5 G kullanıyorum ama videolar hep donuyor uygulama çok geç iniyor \n",
      "\n",
      "** 370 Hic bir yerde çekmiyor   Lutfen cekim gücunü arttırın \n",
      "\n",
      "** 371 Şebekeniz beşkuruş etmez bırakın birine tavsiyeyi hatlarımın hepsini Turkcelle geri geçirecegim şuan üzerime beş hat var hepsini geri alacam \n",
      "\n",
      "** 372 Baz istasyonları çoğalsın son zamanlarda sebeke çekmiyor telefon acıkken bıle kapalı oluyor \n",
      "\n",
      "** 373 Internet hızı çok yavaş \n",
      "\n",
      "** 374 Mersin Silifke Keben köyünde internet hiç çekmiyor  Köye gittim zaman giremiyom ilgilenirseniz sevinirim tesekkurler \n",
      "\n",
      "** 375 Son dönemlerde internet çekim hızında yavaşlama var \n",
      "\n",
      "** 376 Balıkesir Altıeylül Ataköyde çekmiyor köy olarak şikayetçiyiz  Savaştepe Çavlı köyündede çekmiyor şikayetçiyiz \n",
      "\n",
      "** 377 Köyde çekmiyor bazı durumlarda çekmiyor \n",
      "\n",
      "** 378 Nevsehir merkeze bagli uchisar kasabasinda vodafone sebeke ve interneti cogu yerde çekmiyor ilgilenirseniz cok seviniriz \n",
      "\n",
      "** 379 Evimin içinde çekmeyen şebekeyi ne yapayim ki yıl olmuş 2020 hala aynı sorunlar not evim 1 kat öyle bodrum kat falan değil \n",
      "\n",
      "** 380 Baz istasyonlarinizi cogaltin Tekirdağ da internete giremiyoruz bu nedir ya \n",
      "\n",
      "** 381 İnternet hızının biraz daha hızlanması lazım Çekim sıfır \n",
      "\n",
      "** 382 Görüşme esnasında sürekli hat kesiliyor \n",
      "\n",
      "** 383 4 G de bile video donuyor \n",
      "\n",
      "** 384 Çekim gücü sıkıntı çoğu yerde 2g var bunların düzeltilmesi lazım \n",
      "\n",
      "** 385 Baz istasyonlarinin sayisini artirabilirsiniz son 1 ay icinde 2 kere yer değistirdim iki yerde de internetim kesinlikle çekmiyor \n",
      "\n",
      "** 386 beş para etmezsiniz kaliteli reklamlar yapiyorsunuz yok daglık bölgede cekiyor yok denizdede ceker hep ayak yapiyorsunuz en kisa süredede numarami Turkcelle tasiyacagim memnun degilim \n",
      "\n",
      "** 387 Daha fazla baz istasyonları kurulmalı \n",
      "\n",
      "** 388 Köylerde bütün şebekeler internete girebiliyorken vodafonelu olan bizler giremiyoruz  kargı köyü taşdibi mahallesi bucak burdur kontrol edebilirsiniz  Sırf bu yüzden çok sevdigim yıllardır kullandıgım şebekemi degiştirmek zorunda kalıcam \n",
      "\n",
      "** 389 Faturali sabit hat ucretleriniz con yuksek musteri hizmetlerinde bazi arkadaslar cok ukala \n",
      "\n",
      "** 390 Bulunduğum bazı bölgelerde hiç çeköiyor ayrıca 1080p video izlemek istediğim zaman sürekli donma gerçekleşiyor \n",
      "\n",
      "** 391 Paketim bitince ek paket alıyor uyarı yapılmadan ek paket istemiyorum \n",
      "\n",
      "** 392 Baz istasyonu arttırma veya güçlendirme bölge SAMSUN BAFRA Şirinköy \n",
      "\n",
      "** 393 Verici sayısını artırın Laf olsun diye anket yapmayin bu sekilde harcadiginiz parayi yatirima ayirin \n",
      "\n",
      "** 394 İnternet hızının geliştirilmesi \n",
      "\n",
      "** 395 Hic bir sekilde memnun degilim mobil hattim hic bir yerde çekmiyor tahahut surem biter bitmez tasimis oldugum 4 hattimi farkli bir operatire gecisini saglayacagim ayni sejilde evde internet hattimida \n",
      "\n",
      "** 396 İnternet çok yavaş video açmıyor donuyor vodafone yanımda ya bile girilmiyir vs 2 dış çekiyor izmit bayındırlık \n",
      "\n",
      "** 397 İnternet hızı çok yavaş ve her yerde çekmiyor \n",
      "\n",
      "** 398 Video izlerken veyabirşey indirirken hızımız biraz daha yüksek olsa süper olur \n",
      "\n",
      "** 399 Lütfen ağ kalitenizi arttırın hiçbir yerde çekmiyor Turkcell e geçicem \n",
      "\n",
      "** 400 Mobil veri hızı çok yavaş iyileştirilmesini isterim \n",
      "\n",
      "** 401 Kırşehir aşıkpasa mah bile çekmiyor türkiye nin göbeği nasil menmun olabilirim senem dolunca tekrar Türk Telekomye gececegim \n",
      "\n",
      "** 402 Çoğu yerde çekmiyor İnternet çekme hızı çok yavaş \n",
      "\n",
      "** 403 Tokat zile temecük köyünde internet hiç yok denecek kadar kötü memlekete gidince internet konusunda çok sıkıntı yaşanıyor \n",
      "\n",
      "** 404 Trabzon vakfıkebir kirazlık köyü mısırlı köyü deregözü köyü mevkiiinde şebeke çekmiyor ilgilenilmesinin rica ederim \n",
      "\n",
      "** 405 bulunmuş olduğum lokasyon da telefon gorume bile yapamıyorum internet biraki 4 5 G devamlı H de Müşteri hizmetleri olsun her şeyi ile başı boş bir GSM şirketi Tahutum dolduktan sonradirek Turkcelle Not Gün içinde bulunmuş olduğum lokasyondaki çekim gücünü kontrol edebilir siniz \n",
      "\n",
      "** 406 Kapali alanlarda sorun oluyor internet cekme hizi yavas ve konusmalarda sıkınti oluyor \n",
      "\n",
      "** 407 Yaylalarda çekmiyor heryerde çekiyor deniliyor ama \n",
      "\n",
      "** 408 Benim için sorun değil artık 10 yıllık faturalı hat kullanıcısıyım ama bu sene başka bir oparetöre geçiş yapacağım \n",
      "\n",
      "** 409 Fatura fiyatlarının kabarık olması biraz sıkıntıya sokuyor \n",
      "\n",
      "** 410 İnternet hızı çok kötü \n",
      "\n",
      "** 411 Bir an önce bulunduğumuz bölgeye baz istasyonu kurulmasını rica ediyorum \n",
      "\n",
      "** 412 Oyun oynarken kesiliyor video seyrederken donuyo konuşurken kesiliyor \n",
      "\n",
      "** 413 İnternet hızınız rezalet durumda taahhütüm bittiği an hattımı başka yere taşıyacağım \n",
      "\n",
      "** 414 Hızlansın internet kullanımı çok yavaş yetersiz çekmiyor memnun değilim \n",
      "\n",
      "** 415 Cekim gucu az hatta evin icinde odadan odaya cekmedigi ve internete giremedigim oluyor \n",
      "\n",
      "** 416 Son zamanlarda şebeke sorunu var çekim gücü zayıf \n",
      "\n",
      "** 417 İnternet hızım çok kötü arada giremiyorum bile internet çekimi ve hızını gözden geçirmenizi diliyorum \n",
      "\n",
      "** 418 Diger hatlara göre çok kötü Telefon taksidi bitince hemem geciş yapicam \n",
      "\n",
      "** 419 Maaleaef burada şebeke gücü çok düşük bu yüzden türktelekoma geçeceğim \n",
      "\n",
      "** 420 Görüşme esnasında hat kesilmesi yaşanabiliyor \n",
      "\n",
      "** 421 Mümkünse baz istasyonu sayınızı arttırıp çanakkale bölgesindeki çekim gücünüzü lütfen güçlendirin iyi calismalar \n",
      "\n",
      "** 422 İnternetim hiç çekmıyor arama yaparkende telefon suratıma kapanıyor hiç memnun kalmadımmm bu hattan en koşa sürede kurtulucammm vodafone den \n",
      "\n",
      "** 423 Özellikle İnternet hiç çekmiyor baz istasyonu sorunu var genel olarak istasyon sayısı artırılmalı \n",
      "\n",
      "** 424 Çekim gücü çok sayif birçok yerde çekmiyor  düzenli tl yüklememe rağmen hiç internet hediyesi vermiyo \n",
      "\n",
      "** 425 Fatura çok geliyor bu hizmete bu bile çok şebekenizi güclendirin \n",
      "\n",
      "** 426 Bazi bolgelerde cekmedigi icin Turkcelle gecmeyi planliyorum \n",
      "\n",
      "** 427 Artvin Şavşat eskikale ve çifte hanlar mevkiisinde çekmiyor çeken yerde de düşük çekiyor Artvin merkezde de videolar izlerken donuyor \n",
      "\n",
      "** 428 Mobil internet hızından memnun değilim insanı deli ediyor \n",
      "\n",
      "** 429 Ben esenyurt zafer mahallesinde oturuyorum yıllardır aynı şebeke yok bizi arayan ulaşamıyor hic birseyi kullanamıyorum bir dışarı çıkarken iş yerinde kullanıyorum sanki dağ başındayız bu konu zaten çözülmez ise tahatüm bitince hattı mi Turkcell çekiyor ona taşıyacağım Telefonum 05452708959 \n",
      "\n",
      "** 430 Alt yapı güçlendirilmesi lazım özellikle önce bitecek kullanımların daha önce datadan yemesi bakımından \n",
      "\n",
      "** 431 Şebekede devamlı kopma oluyor internet hızı çok düşük \n",
      "\n",
      "** 432 İç mekanlarda zorluk çekiyorum internet bazen çok yavaşlıyor videoyu sürekli duraklatıyor \n",
      "\n",
      "** 433 İnternet verilerini ve hızını hiç beğenmiyorum bu sebeple bunun düzeltme olması gerek artı arama verisi \n",
      "\n",
      "** 434 Özellikle video izlerken ve YouTube izlerken çok kasabiliyor  Çalışmanız için teşekkür ederim \n",
      "\n",
      "** 435 Türk telekoma geçeceğim cayma bedelinin süresini bekliyorum \n",
      "\n",
      "** 436 Son zamanlarda vodafone hiçbir yerde cekmemekte ve telefonla konuşurken pat dye kapanmaktadır değiştirmeyi düşünüyorum \n",
      "\n",
      "** 437 Telefonlar çekmiyor  sürekli kesiliyor ve kendi kendine kapanıyor  Konuşmanın en önemli yerinde telefon kesiliyor  Çok sinir bozucusunuz \n",
      "\n",
      "** 438 En kısa zamanda turkcelle gececegim çekim ist orman içinde çekmiyor sahilde çekmiyor birde En ufak fatura gecikmesi yüzünden musteri hizmetleri günde 59 defa ariyor bir an önce iptal ettirecegim \n",
      "\n",
      "** 439 Kesinlikle hiziniz cok dusuk \n",
      "\n",
      "** 440 Daha çok baz istasyonu vodafone birçok yerde çekmiyor ve zor duruma koyuyor \n",
      "\n",
      "** 441 Kullanicilara anket yaparak nerede nasil cektigini gorebilirsiniz ve lutfen cekeim kalitesini yukseltin biz vodafoneden memnunuz ama cekim cok kotu hatta en kotu olan oparator bu \n",
      "\n",
      "** 442 Faturalarımda indirim istiyorum yada telefon kanpanyası istiyorum \n",
      "\n",
      "** 443 Az bir kırsal görse hemen şebeke gidiyor  Biz ki kırsalda yaşayan kişileriz kırsal alanlara baz istasyonun ya da daha güçlü şebeke ağı iyileştirilmesi yapılması gerekir   Nevşehir  Bölükören Köyü \n",
      "\n",
      "** 444 Intarnett hızı çok yavaş düzeltilmesini istiyorum \n",
      "\n",
      "** 445 Malesef ki çekmiyor  Konuşurken dıt diyip birden kapanıyor karşı tarafta aynı operatör olmasına rağmen \n",
      "\n",
      "** 446 selamınaleyküm öncellikle ama vodafone guzel ama nedense internet paketleri çok pahalı ve yanımda uygulamasında internet fazla cıkmıyor ve bu yüzden çevremdekilere tavsiye edebilirmiyim bilmiyorum ama internet ve fiyatları düşürülür ve internet fazla cıkarsa tabiki tavsiye ederim yanımda uygulamasında internet az cikıyo ve bu yüzden hatı başka operatöre geçmeyi düşünüyorum teşekkürler \n",
      "\n",
      "** 447 Her 2 aramadan biri kesiliyor herkes telefonun çekmediğini söylüyor tek aramada kimse bana ulaşamıyor \n",
      "\n",
      "** 448 Ankaranın göbeğinde ilçelerinde çekmiyor bir anda hat düşüyor ben böyle kalitesiz bir çekim gücü görmedim hattımı da taşıyacağım \n",
      "\n",
      "** 449 Baz istasyonlarının sayısı artırılıp kapsama kalitesi genişletilebilir \n",
      "\n",
      "** 450 Şehirlerde yeni yapılaşmanın olduğu bölgelere baz istasyonu kurulumu yapılmalı \n",
      "\n",
      "** 451 Ne telefonla konuşabiliyorum konuşurken birden  kapaniyor  ne de interde dolasabiliyorum \n",
      "\n",
      "** 452 Manisa nın Sarıgöl ilçesinin 30 köyü var muhtemelen 20 sinde doğru düzgün çekmez  Sadece konuşmaya yeter internet zor  30 bin nüfustan bahsediyoruz \n",
      "\n",
      "** 453 Şebeke çok az çekiyor ve İnternet ağırlaşıyor çoğu yerde arama yaptığında hat kesiliyor \n",
      "\n",
      "** 454 Köye gidiyorum çekmiyor \n",
      "\n",
      "** 455 bence sorunların çözmelisiniz baz istasyonlari guclendirmelisiniz evde internetimiz var sözde fibernet ama surekli kopuyor sizi kullanıp memnun olmayan binlerce kişi var evin icinde çekmiyor diye eve vodafone internet baglattik onada wifiden dogru durust baglanamiyoruz surekli kopuyor bu zamanda ben esim ve ev internetiyle beraber 250 lira vodafonea aylik para harciyoruz ama artik sabrimiz tasmaya basladi \n",
      "\n",
      "** 456 Şebeke sıkıntısı var köyde çekmiyor \n",
      "\n",
      "** 457 Konuşurken karşıtarafla olan görüşmelerimde sürekli sesin kesilmesi ve hattın kopması durumunun düzeltilmeli ve her yerde çekim kalitesi yüksek olmalı \n",
      "\n",
      "** 458 Internetin hızını biraz daha yükseltilmesi \n",
      "\n",
      "** 459 Abi aramada sıkıntılar var şebeke az çekiyor tuvalette çok az çekiyor 4 5g yim normalde E çekiyor bide İnternete video izlerken 750 pixelde izliyorum çok kasma oluyor \n",
      "\n",
      "** 460 Videolarda sebepsiz anlık donmalar ve kesilmeler oluyor  Aynı ortamda bulunan diğer operatörler rahatça konuşup İnternete girerken ben internette sayfa açılması bekliyorum  Çekim gücünüzü düzeltiniz \n",
      "\n",
      "** 461 Paketleriniz çok pahalı ve istediğim paketler yok numaram 5536346416 \n",
      "\n",
      "** 462 Çekim çok sıkıntı çekmiyor \n",
      "\n",
      "** 463 Çekim artırılmalı bunun için verici sayısı yetersiz artırılmalı memnun değilim \n",
      "\n",
      "** 464 cok kesinti oluyor çok mağdur oluyorum başka gsm operatörüne geçmeyi düşünüyorum \n",
      "\n",
      "** 465 İnternet hızı diğer sağlayıcıya oranla çok düşük \n",
      "\n",
      "** 466 Verici sayısı arttırılabilir \n",
      "\n",
      "** 467 Geçen yıl kampanyalı tarifenize geçtim bin pişman oldum Defalarca müşteri hizmetleri ile konuştum iyileşme olmadı tarifemin bitişi ile Turkcell e geçicem \n",
      "\n",
      "** 468 Şebeke seviyesi düşük antene yakın olmama rağmen hala çekmiyor \n",
      "\n",
      "** 469 4 5 biraz yavaş biraz hızlansa hiç fena olmaz \n",
      "\n",
      "** 470 Köylerde internet çekimi yok gibi   Lütfen biraz daha güçlü olsa   Yuotube de video izlerken duraklama oluyor başka internet sitesi instgramda aynı sıkıntı oluyor \n",
      "\n",
      "** 471 Bulunduğumuz konum itibariyle şebeke sıkıntısı var Kuracağınız yeni istasyonlarla hem şebekeyi iyi yaparsınız hem de çok daha fazla müşteri kazanırsınız müşterinin baktığı en önemli unsur şebekenin iyi olması inşallah diyarbakır çınar başaklı mahlesine iyileştirme yaparsınız bekliyoruz \n",
      "\n",
      "** 472 Şebeke internet berbat son 1 buçuk yıl dır çok kötü ve hiç memnun değilim 15 yıllık fodafonluyum ama bu sene artık başka operatörlere geçecem ve ailemde herkes başka operatörlere geçecek sanırım yani bu gidişle vodafone kaybediyor hepimizi \n",
      "\n",
      "** 473 Ben çok sık doğaya giden birisiyim  Kamplar  geziler kısacası kırsal bölgedeyim  vodafone a büyük umutlarla geldim ama maalesef kırsal alan kapsamasında tek bir operatör var ve bu vodafone değil \n",
      "\n",
      "** 474 Bulunduğumuz yere baz istasyonu kurulması \n",
      "\n",
      "** 475 vodafone TV yi izlerken sürekli donuyor konuşurken ses kesiliyiyor \n",
      "\n",
      "** 476 Cekm gucu duşuk hçde memmun degilim vodafonedan svmiyorumda cikmak istedm kabul gormedi tavut name bitnce hemn cikacam \n",
      "\n",
      "** 477 Alt yapinizi guclendirip kapali mekanlarda cekim gucunuzu arttirabilirsiniz \n",
      "\n",
      "** 478 Baz istasyonlarına önem verilebilir Bulunduğum bölgedeki istasyon devamlı arızalanıyor \n",
      "\n",
      "** 479 Çayırova  Kocaeli de oturuyorum telfonum çekmiyor yaa elektirik gidince hiç çekmiyor rezalet kapsama alanı kötü yada türk telekomla  daha iyi bir alt yapı yapılabilir \n",
      "\n",
      "** 480 Evimde telefon çekmiyor ve bunu bildirmek için asla size ulaşamıyorum Bu sebeple bu ay başka bir operatöre geçeceğim \n",
      "\n",
      "** 481 Çok şükür taahhüt bitti ilk işim Turkcell e geçmek olacak çekimi kötü arama kalitesi kötü pişman oldum vodafone geçtiğime \n",
      "\n",
      "** 482 vodafone yanımda uygulamasına sınırlama konulmalı yoksa avantajlı aşım paketi almaktan 50 TL lik fatura 128 TL geliyor Teşekkürler \n",
      "\n",
      "** 483 Samsun terme ambartepe  bulgurlu köyü orta mahallede vodafone hiçbir şekilde çekmemektedir verici takılmasını köy halkı olarak ısrarla istiyoruz \n",
      "\n",
      "** 484 Vidio izlerken donma oluyor \n",
      "\n",
      "** 485 Şebeke sorunu çözmek için kesinlikle fazla baz istasyonunu artırmanız gerekiyor Yoksa çok müşteri kaybedersiniz \n",
      "\n",
      "** 486 Baz istasyonlarinizi arttirin \n",
      "\n",
      "** 487 Konuşma esnasında sürekli kesiliyor  Hiç beğenmiyorum \n",
      "\n",
      "** 488 Heryerde çekmiyor cekim gucunuzu artirin lutfen cekmeyen yerde internetimi bile kullanamiyorum \n",
      "\n",
      "** 489 Özellikle kırsal kesimlerde  köy ve mezralarda çekim gücünü artırırsanız daha iyi olur   Birde yeni geçiş yapan abonelere yaptığınız kampanyaları uzun süre  sizlerle olan abonelerinize de uygulasanız  daha iyi olur \n",
      "\n",
      "** 490 vodafoneda ic mekanda internet hizi ciddi anlanma dusuyor Bazi bolgelerde 240mbps hiza erisirken bazi bolgelerde 4 5mbps hizlara dusuyor Bu sebepten ne olumlu nede olumsuz yorum yapamiyorum stabil bir operator degil vodafone da 4G nin cekmedigi cok nadir yer gordum ama 4g nin cekmesinin her zaman avantajini goremiyorum bazen rakip operatorlerin 3g hizlari vodafone 4g hizini gecebiliyor \n",
      "\n",
      "** 491 vodafone ye Faturasiz hatlara güzel her bütçeye uygun sınırsız internet vb Paletler yüklensin \n",
      "\n",
      "** 492 Şebeke berbat özelikle bayramdan sonra Sözleşmem bitsin üzerime olan bütün hatları Turkcell yada türktelekoma taşıyacağım benin gibi düşünen çok var çevremde \n",
      "\n",
      "** 493 Çekim gücünüz çok zayıf Internet fena değil bu yüzden tahadutum biter bitmez başka oparotere geçeceğim \n",
      "\n",
      "** 494 Yani çekim gücü hiç hoş değil hem benim benim anlaşma yaptığım fatura tutarindan fazla miktar geliyor bu konuda hiç memnun değilim \n",
      "\n",
      "** 495 Merhaba öncelikle iyi çalışmalar dilerim tavsiyem şu mesela trabzon yomra yenice köyü eskiden internet çekiyordu şuan eskisi gibi çekmiyor var olan kalite gitti ileri gitmemiz gerekirken gerilemek hoş değil iyi günler dilerim \n",
      "\n",
      "** 496 Baz istasyonlarının arttırılması gerekiyor İstanbul Kartal Soğanlık yeni mahalle cahit Külebi sokak da bulunan evimde telefon çekmiyor \n",
      "\n",
      "** 497 Baz istasyonları arttırılabilir Konuya hakim olmadığım için tavsiye veremeyeceğim Iyi çalışmalar \n",
      "\n",
      "** 498 Alt yapınızın sağlam olmadığı yerde lütfen satış yapmayınız Modem yanımda internet hızı çok düşük müşteri no 10788632 \n",
      "\n",
      "** 499 Telefonum hiç biryerde çekmiyor internetim çok geç açılıyon konuşurken sürekli kapanmalar oluyo \n",
      "\n",
      "** 500 Baz istasyonu felan kurun bu civara internet rezil çekmiyor \n",
      "\n",
      "** 501 Çoğu yerde çekmiyor taahhüt bitince ilk işim Turkcell e geçmek olacak emin olun \n",
      "\n",
      "** 502 baz istasyonlarına bakım ve onarımı yapılabilir 4G yüklemesi yeni baz istasyonları \n",
      "\n",
      "** 503 İnternet tarifeleriniz fiyatları biraz yuksek biraz uygun olsa daha iyi olur \n",
      "\n",
      "** 504 Daha fazla baz istasyonu kurulmalı \n",
      "\n",
      "** 505 Memleketim olan Erbaa Kozlu köyüne ne zaman gitsem telefonum hiç çekmez merkeze 16 km uzak olmamıza rağmen acil destek istiyorum \n",
      "\n",
      "** 506 Şebeke her zaman çok kaliteli değil  1 dakikalık bir video izlerken bile donuyor  internet kalitesi çok düştü \n",
      "\n",
      "** 507 çekmiyor Baz istasyonlarını arttırın Bazı yerlerde hiç çekmiyor Yani arama yapılmıyor Yıllardır böyle artık düzeltin Baz istasyonu olmayan yere baz istasyonu dikin İnternet çok yavaş hat bazen şehir merkezinde evin içinde çekmiyor Evin içinde çekmiyor hat \n",
      "\n",
      "** 508 Bazı yerlerde çekim gücü az örneğin ben torbali ayrancilarda izmir yani çekim şebeke az oluyor \n",
      "\n",
      "** 509 Telefonum çekmiyor malesef taahhüt dolunca Turkcell düşünüyorum \n",
      "\n",
      "** 510 Merkezlerden uzak yerlerde mezralarda bazen de köylerde şebeke sorunları var çözüm bekliyoruz \n",
      "\n",
      "** 511 Şehir içi bazı noktalar da 3G bile az çekiyor vodafone TV bazen saçmalıyor Ayrıca tarife ve paketler de internet limiti yükseltilmeli Örbek 20 25 GB a çıkarılmalı Teşekkürler \n",
      "\n",
      "** 512 Şebeke gücü çok zayıf  Videolar çok donuyor sim kart güncellemesi ve cihaz güncellemelirimi yaptığım halde düzelmedi başka cihazda denesemde sonuç aynı oldu  bitiksiniz \n",
      "\n",
      "** 513 Daha iyi bir şekilde olması için vericilerinizi arttırabilirsiniz \n",
      "\n",
      "** 514 İnsanları tuzağa düşüren berbat bir operatör Faturalı ya geçiş yaptırıp her ay kat be kat ödeme yaptırdınız haram zıkkım olsun \n",
      "\n",
      "** 515 Iyisiniz daha iyi olabilirsiniz bazen konuşma esnasında telefon aniden kesiliyor \n",
      "\n",
      "** 516 Cekim gücü cok düşük ve interneti her yerde çekmiyor \n",
      "\n",
      "** 517 Ben şuan Aksaray ili gülağaç ilçesinin bekarlar köyündeyim ve burda vodafone un çekim güçü hiç güzel değil sizden ricam eğer yapılabiliniyorsa verici ve alt yapı uygulaması yapılmasını rica ediyorum \n",
      "\n",
      "** 518 Ordu ili Gölköy ilçesinde ve çevresinde doğru dürüst çekmemektedir vodafone taşıdığım numaramı mecburi olarak turkcell e taşımak zorunda kaldım \n",
      "\n",
      "** 519 Tarıfe ucretii cok pahalı ve sozleşme bitimi hatımı kopatıracam tarıfe yuzune \n",
      "\n",
      "** 520 Ankara Akyurt ilçesinde oturmaktayım ne hat adam akıllı çekiyor ne de internet hattı başka bir operatöre geçirmeyi bile düşünüyorum \n",
      "\n",
      "** 521 Alt katta oturuyorum yillardir duzelir diye bekluyoruz ama bir duzelme gözlémleyemiyorum telefonla konusmak icin camlarin onune cikiyoruz \n",
      "\n",
      "** 522 Daha iyi çekmeli telefon görüşmelerinde aniden hat kesiliyor \n",
      "\n",
      "** 523 Her yerde çektiğini söyleyemem baz istasyonlarının artırılması gerekiyor teşekkürler \n",
      "\n",
      "** 524 Köylerde telefon hiç çekmiyor Allah rızası için köylere de el atın ordakilerde insan lütfen Samsun Çarşamba mahmutlu mahallesi \n",
      "\n",
      "** 525 bulunduğum bölgede birçoğu bölgede vodafone çekmiyor  gerekli iyileştirme yapılırsa iyi olur  Türktelekom dahi daha çok çekiyor   tüm arkadaşlarım Türktelekoma geçti  böyle giderse bende geçiş yapıcam \n",
      "\n",
      "** 526 Sadece vodafone şebeke si çok kötü Turkcell vodafone dan daha iyi çekiyor arıza giderilmezse hat değiştirme işlemi ni yapacaz arz ederim \n",
      "\n",
      "** 527 Telefon merkezi bir yerde çekmiyor daha iyi daha donanımlı baz istasyonları kurulabilir \n",
      "\n",
      "** 528 Baz istasyonu sayınızı artırımı yapılması gerekiyor yani yatırım \n",
      "\n",
      "** 529 Eyüp topçular baz istasyonu sebebiyle sürekli   konuşmalarda kopma oluyor kontrol edilebilir \n",
      "\n",
      "** 530 4G olduğum ve şehir merkezinde yaşadığım halde internet hızım aşırı yavaş Çoğu zaman video izlerken takılıp kalıyor aramalarım kesiliyor \n",
      "\n",
      "** 531 Bazı bölgelerde baz istasyonu eksikliği nedeniyle çekim kalitesi düşük bundan dolayı şikayet ve ardından operatör değişikliği söz konusu olabiliyor Kiralamacı arkadaşlar buralarda uygun bir yerle anlaşarak istasyon kurulursa sıkıntı çözülür iyi çalışmalar \n",
      "\n",
      "** 532 Şebeke problemi var  sürekli kopma yaşanıyor ve her yer de çekmiyor \n",
      "\n",
      "** 533 Türkse le göre daha ucuz paketleri ama şehir merkezinde evimde çekmiyor işim gereği Türkiye yi geziyorum şebeke notum 0 sözleşme bitince numaramı taşıyacagım \n",
      "\n",
      "** 534 Aynı evin içinde oda değiştirdiğim de şebeke çekmiyor İstanbul gibi bir yerde hemde \n",
      "\n",
      "** 535 İnternet hızı bazen çok düşük \n",
      "\n",
      "** 536 Adıyaman merkezde bazı mahallelerinde hiç çekmiyor Baz istasyonu eksikliği var sanki Bu konuda kendisini geliştirirse daha iyi sonuçlar elde edebilir \n",
      "\n",
      "** 537 Kullandığım fatura 100 tl dışardan yeni gelenlere aynı faturayı 80 liraya sunuyorsunuz müşteri kapmak için ama elinizdekini kaybedeceksiniz haberiniz yok \n",
      "\n",
      "** 538 Hiç beğenmiyorum şebekenizi yıllardır kullanıyorum taahhüt bitmesini bekliyorum ne şebekeniz ne internetiniz çekiyor hemde köyde bile çekmiyor diğer mobil ağlara göre oldukça zayıf numaramı başka operatöre taşıyacağım \n",
      "\n",
      "** 539 Fatura tarifeleri çok yüksek fiyatta onların fiaylari dussun \n",
      "\n",
      "** 540 İnternet çok pahalı Biraz daha makul fiyat aralığı olabilir Kullandığımız paketlerde artık SMS yerine daha fazla internet hakkı tanımlanabilir \n",
      "\n",
      "** 541 Kesinti cok oluyor mobil internette çok agir \n",
      "\n",
      "** 542 Son zamanlarda Konuşma esnasında hat kesiliyor  Zor durumda kalıyoruz  İnternette çalışmıyor  Sürekli donuyor \n",
      "\n",
      "** 543 Alt yapı güçlendirmesi \n",
      "\n",
      "** 544 Hiçbir yerde çekmiyor internet hızı rezalet taahhütüm biter bitmez bir daha bu operatöre geçmemek üzere ayrılacağım \n",
      "\n",
      "** 545 Baz istasyonu kalitesi ve sayısı artırılmalıdır \n",
      "\n",
      "** 546 Asla internetim çekmiyor Hicbir zaman da bunun cozumu saglanmadi o yuzden taahhüt bitince vodafone dan ayrilacagim \n",
      "\n",
      "** 547 Köy ve ilcelerde cekim gücünüz yetersiz ve internet cok kotu il icin soyleyecek sözüm yok ilce ve köy mahalle de cok zayif \n",
      "\n",
      "** 548 Çoğu yerde ve bölgede şebeke çekmiyor dahası kapalı alanlarda da çekmiyor böyle giderse turkcelle geçeceğim \n",
      "\n",
      "** 549 Harcama yaparak baz veya verici istasyonlarınızı verimli hale getirmenizi rica olunur \n",
      "\n",
      "** 550 Daha çok Baz istasyonu kurulması gerekli \n",
      "\n",
      "** 551 İçerik zenginliği bakımından vodafone 1 numara ama alt yapının güçle güçlendirilmesi ve internet hızının artırılması şart \n",
      "\n",
      "** 552 Bazı yerlerde mobil şebeke çekmiyor videolarda oynatma hızı çok düşüyor \n",
      "\n",
      "** 553 Hiç bir yerde çekmediği için internette dahil olmak üzere alt yapıyı düzeltmelisiniz \n",
      "\n",
      "** 554 şuan da bilecik ili yenipazar ilçesi yukarıboğaz köyündeyim fakat köyümüzde şebeke hiç çekmiyor köyün belli bölümlerine gidip birilerini arayabiliyoruz bunun için şebeke kapsamının genişletilmesini önemle arz ve rica ediyoruz \n",
      "\n",
      "** 555 Baz istasyonlarını cogaltmak gerek \n",
      "\n",
      "** 556 Bin kere müşteri hizmetlerini aramama rağmen hiç bir şey değişmeyen hep aynı cevapları veren sorumsuz bir firmasınız taahhütüm bittiğinde Turkcell operatörüne geçiş yapacağım \n",
      "\n",
      "** 557 Baz istasyonlari kurun dogrubduzgun sehir merkezlerinde bile çekmiyor \n",
      "\n",
      "** 558 Şebeke çogu yerde çekmiyor interneti yavaş daha hızlı olabilir \n",
      "\n",
      "** 559 Konuşmaya başladıktan sonra hat kesiliyor ikinci kez arayıp konuşuyorsun bazen yine kesiliyor bunlar olmazsa sıkıntı yok \n",
      "\n",
      "** 560 Şebeke gücünün daha iyi olması hiç memnum degiliz vodafone kullanıcısı olarak \n",
      "\n",
      "** 561 Bence çarkı paket olmadan da çevirebilelim diğerlerinde çevirme hakkı var sizde yok lütfen bunu okuyun ve sizde birşeyler yapınnn \n",
      "\n",
      "** 562 koyumuzde sebeke çekmiyor  Batman samanlı Beşiri samanlı köyü \n",
      "\n",
      "** 563 Taahutum bittiği anda başka bir operatöre gecegim Beni bu kadar pişman eden bir başka operatör olmadı \n",
      "\n",
      "** 564 Tavsiyem al yapısını güçlendirmesi baz istasyonunu çoğalması gerekmekte ev internetim de telefonum vodafone ve iş yerinde telefonumun interneti çekmiyor evde de ev internetinin bağlantıları kopuyor lütfen çözüm istiyorum \n",
      "\n",
      "** 565 Baz istasyonlarınızı cogaltmaninizi istiyorum biz bunu sadece büyükşehirlerde kullanmıyoruz otobanın kenarında köyümüz var internet ve şebeke denen bisey yok \n",
      "\n",
      "** 566 Kırsal kesimleri yeterince  önem vermenizi rica ediyorum özellikle konuşma da büyük sorun yaşaniliyor \n",
      "\n",
      "** 567 Videolarda sürekli donma oluyor Ama sanırım bulunduğumuz bölgeyle alakalı bilmiyorum Yinede memnunum \n",
      "\n",
      "** 568 Alt yapısının daha da geliştirilip köy vb Civarlara 4 5g kurulmasının temini olsa daha verimli bir hizmet olabilir \n",
      "\n",
      "** 569 Olduğum bölgede vodafone çekmiyor Turkcelle geçeceğim \n",
      "\n",
      "** 570 Memnun değilim Bu operatörden ayrılmayı düşünüyorum \n",
      "\n",
      "** 571 İnternet çok yavaş ve kapalı alanlarda çekmiyor Vodaffona geçtiğim için pişmanım \n",
      "\n",
      "** 572 Sahada geliştirilmeli ve uygun fiyat verilmeli fatura fiyatları çok yüksek \n",
      "\n",
      "** 573 Video bile izleyemiyorum internet sürekli donuyor \n",
      "\n",
      "** 574 Baz istasyonları çoğaltılırsa daha iyi olur \n",
      "\n",
      "** 575 Aramalar da mobil şebeke kullanımında berbat durumda hiç çekmiyor Videolar donarak izliyorum \n",
      "\n",
      "** 576 Video izlerken duraklamanın olmaması gerekiyor \n",
      "\n",
      "** 577 Çorum Osmancık Kamil Köyünde çoğu yerde telefon çekmemektedir  Özellikle internet için şebeke ararken telefon çekim gücünü kaybediyor tel çoğu zaman kapalı gözüküyor ama açık İnternet ile hat çekimi arasında sürekli olarak bir düşme var ve bu sorunu bir çok kere arayıp söyledik ve mail olarak da bildirdik Kendim Çorum da ikamet ediyorum ama çoğunlukla köye gitiitğimde bu sorunu yaşıyorum ve ailemde köyde oturuyorlar çok madur kalıyorlar bu duruumdan dolayı eğer mümkünse tekrar Çorum Osmancık Kamil köyüne tekrar bakılmasını rica ederim teşekkür ederim ilginizden dolayı \n",
      "\n",
      "** 578 İl merkezinde kapalı alanda şebeke problemi yaşıyorum açık alanda video izlerken çok donma oluyor Taahhütü olmasa farklı bir gsm şirketine geçeceğim \n",
      "\n",
      "** 579 Mevcut bulunduğum bölgeye baz istasyonu kurulması gerekli \n",
      "\n",
      "** 580 Kesinlikle yatırım yapmalıdır alt yapı çalışması olmalıdır çekmeyen çok yer var ben bile bırakmayı düşünüyorum birde utanmadan çekmeyen internetin kampanyasını yapıyorlar uzay çağına girdik birde 5G diye bahsediyorlar bir fırın ekmek yemesi lazım \n",
      "\n",
      "** 581 Fiyatları biraz uygun hale getirin fiyatlar yüksek \n",
      "\n",
      "** 582 Kapsama alanının genişletilmesi gerekirse baz istasyonu sayısının çevreye doğaya insana en az zarar verici şekilde artırılmasını talep ediyorum \n",
      "\n",
      "** 583 Hiç memnun değilim hiç çekmiyor o yuzden Turkcelle gecicem \n",
      "\n",
      "** 584 Videolarda 1080p izlerken donma olabilir ev içinde \n",
      "\n",
      "** 585 Internet cok donuyor sebeke çekmiyor bu yuzden turkcelle gecis yapacam \n",
      "\n",
      "** 586 Tarifeler zenginleştirilebilir Aniden tarife bitimlerinde farklı yollar oluşturulabilir \n",
      "\n",
      "** 587 Altyapı düzenlemesi çünkü yağmur kar vs hemen çekmiyor \n",
      "\n",
      "** 588 Şu an yaşadığım bölgede şwbeke çekim sıkıntısı yaşıyoruz Internet hızımız çok düşük \n",
      "\n",
      "** 589 Şebekeniz çekmiyor Sistemden de kontrol edebilirsiniz bütün görüşmelerim yarıda kesiliyor Şebekenizi kullandığım için pişmanım Tahüttüm bittiği an başka operatöre geçiş yapacağım \n",
      "\n",
      "** 590 Çok kötü bir alt yapısı var hizmet çok kötü \n",
      "\n",
      "** 591 Çekim gücü hiç iyi değil sürekli kapalı sinyali veriyor \n",
      "\n",
      "** 592 Hiç bir yerde çekmiyor Turkcell den geçtim attan indim eşşeğe bindim sandım gerçekten vodafone tam bir skandal tahattüt bittiği dakika Turkcelle geri gececem \n",
      "\n",
      "** 593 Baz istasyonları biraz daha çoğaltılabilir \n",
      "\n",
      "** 594 Internet paketleri cok pahali \n",
      "\n",
      "** 595 Faturalarım çok şişik tek şikayetçi bu diğer yönleri güzel özellikle sunulan ek paketler \n",
      "\n",
      "** 596 İnternet hızlı değil çekim sorunlarında mevcut baz istasyonları arttırılmalı \n",
      "\n",
      "** 597 Baz istasyonları güçlendirilmeli \n",
      "\n",
      "** 598 Ankarada ikamet ediyorum ayrıca Turkcell hat kullanıyorum evim dahil çoğu yerde vodafone hattımı çekmediğinden dolayı sağlıklı kullanamıyorum Muhtemelen taahhüt süresi bittiğinde aynı şekil devam ederse hattımı kapattıracağım \n",
      "\n",
      "** 599 valla o işlerden çok anlamam ama telefon direkleri çoğaltılabilir ve türk telekomdaki gibi daha ucuz fiyatlara daha çok infernet verebilirsiniz örneğin 30 liraya 15 gb 750 dk 1000 sms gibi daha dün arladaşım türk telekoma geçiş yaptı böyle giderse bende çıkacam vodafoneden teşekkür ederim \n",
      "\n",
      "** 600 Alt yapılarınızı genişletin hiç bir yerde telefon çekmiyor \n",
      "\n",
      "** 601 Şebeke sorunlu ayriyeten de tarifeler hepsi kazık uygun fiyata olan yok \n",
      "\n",
      "** 602 Altyapıyı daha da güçlendirmek gerektiğini düşünüyorum \n",
      "\n",
      "** 603 Şebeke sorunu videolardaki donma düzeltilirse sevinirim \n",
      "\n",
      "** 604 İnternette 4 5 g açık olsa bile videoları donarak izliyorum \n",
      "\n",
      "** 605 Bazen dağlık alanlarda veya çukur bahçe içlerinde çok fazla çekmiyor internet aslında böyle yerlerde lazım internet mesela fındık bahçeleri \n",
      "\n",
      "** 606 Bulunduğu m Amasya ili Suluova ilçesine bağlı Boyalı köyünde şebeke yoktur  Bu bölgeye bir verici istemekteyiz  Köydeki herkes hattını değiştirmek zorunda kalıyor \n",
      "\n",
      "** 607 Kapsama alanında biraz problem var geliştirilmesi lazım \n",
      "\n",
      "** 608 Konuşma esnasında aramanın kapanmasından bıkyım \n",
      "\n",
      "** 609 Oturmuş olduğum semte hala bazistasyonu yapacak vodafone Taahhütüm bitsin başka operatöre geçeceğim \n",
      "\n",
      "** 610 53 tl ödedigim faturam 200 tl yi aştı soygun resmen hattımı acil birsekilde baska operatöre tasııyorum belki bir açıklama olur \n",
      "\n",
      "** 611 Çekim gücü yok ve sıkıntı yaşıyorum \n",
      "\n",
      "** 612 Çekim gücü biraz daha fazla olursa seviniriz bağzi yerlerde çekmiyor \n",
      "\n",
      "** 613 İnternet daha hızlı olması gerekir \n",
      "\n",
      "** 614 Baz istasyonlarını çoğaltmalısınız \n",
      "\n",
      "** 615 Alt yapı eksikliğinden dolayı şebeke promleri çok yaşıyorum \n",
      "\n",
      "** 616 Kazık atıyorsunuz paketleriniz cok yüksek \n",
      "\n",
      "** 617 çekmiyor internet yavaş ayrıca söylenilen ücretten 5 10 lira faturanıza fazla yansıtılıyor \n",
      "\n",
      "** 618 Alt yapı izi geliştirmeniz \n",
      "\n",
      "** 619 Yeterince alt yapı oluşturarak kapsama alanı ve internet sistemi güçlendirilebilir \n",
      "\n",
      "** 620 Kaldırdığıniz her baz istasyonunun yerine 2 tane ekleyerek çoğaltmanızı tavsiye ederim ankara da sincan da ustan bul da esen yurtta  vodafone  deyince herkes kaçar olmuş \n",
      "\n",
      "** 621 Çok çok baz istasyonu kurulsun vodafone olduğuma bin pişmanım \n",
      "\n",
      "** 622 Sürekli telefon görüşmelerim kesiliyor  Sonradan saniye olarak iadesinin yapılması hiçbir şeye yaramıyor \n",
      "\n",
      "** 623 Elazığ ili Baskil ilçesi Kadıköy köyünde şebeke konusunda sıkıntılar devam etmektedir \n",
      "\n",
      "** 624 Şehir merkezlerinde bilet şebeke sıkıntısı çekiyorum baz istasyonları arttırılabilir sinyali kuvvetlendiriciler arttırılabilir \n",
      "\n",
      "** 625 İnternet alt yapısının ve telefon alt yapısının değişmesi Lazım İnternet zaman zaman çekmemekle birlikte telefonlara biraz yüklenince kitlenmesi bir oluyor bu nedenle alt yapının değişmesi lazım \n",
      "\n",
      "** 626 Video izlerken donmalar oluyor Mobil sebekede sıkıntı yok ama ev ınternetinde ciddi sıkıntı olmakta Bunu da giderirseniz mükemmel olacak \n",
      "\n",
      "** 627 Ben Bilecik merkezde vodafone internetinden hiç memnun değilim video bile izlerken sürekli donma yaşıyorum \n",
      "\n",
      "** 628 Corum Laçin kuyumcu köyünde şebeke çekim gücü tamamen yok denecek kadar sıkıntılı  internet hızı çok düşük konuşma performansı net değil değil ev içinde şebeke çekmiyor belirli noktalara telefonu bırakmak zorunda kalıyoruz lütfen acilen çözüm bekliyorum ben bir sağlık çalışaniyim ve uzaktan mr bt  covid 19  raporlarimi köyde yazmaya çalışıyorum çok sıkıntı yaşıyorum tavsiye üzerine vodafone geçtim fakat memnun değilim \n",
      "\n",
      "** 629 Vericileriniz çok az   Burda konuşurken konuşmam kesiliyor   Şebeke yok oluyor   Servis dışıyı gösteriyor  telefonum açık olduğu halde ulaşmılmıyor oluşum     İnternet kesik kesik geliyor      Hiç memnun değilim \n",
      "\n",
      "** 630 Aylık 110 tl fatura ödüyorum fakat İstanbul Tuzla Kimyacılar Organize Sanayi de calışırken telefon hiç çekmiyor inanamıyorum yakında turk telekom a gececeğim \n",
      "\n",
      "** 631 59 tlsozlesme yaptim 103tl fatura talebim olmadan ek paket acmissiniz kime sordunuz hep tuzak bu yuzden vodafoneu birakmayi dusunuyorum \n",
      "\n",
      "** 632 Home ofis çalışıyorum  Maalesef iç mekan arama kalitesi şebeke çekimi çok iyi değil  Çoğunlukla ses 2 3sn sonra geliyor ya da konuşurken hat düşüyor  Bulunduğum Maltepe cevizli mah neşe sokaktaki durum bu \n",
      "\n",
      "** 633 Evin içinde bile çekmiyor sanki video veya flim izlerken donuyor \n",
      "\n",
      "** 634 Altyapı ya yatırım yapın boşyere reklam yapmayın zaten iyi olursanız vatandaş reklamını yapar \n",
      "\n",
      "** 635 Bazı yerleşim yerlerinde çekim gücü düşük \n",
      "\n",
      "** 636 İnterneti hızlandırın 4 5g yazıyor ama 3g gibi çekiyor \n",
      "\n",
      "** 637 Telefonumuz diğer hatlar gibi çekmiyor ben türk telekomdan Vodafone geçtim ama bazen çok az çekiyor fatura süremi yeniden yeniledim ama biter bitmez Vodafone dan ayrılacağım \n",
      "\n",
      "** 638 Hiç memnun değilim Turkcell e geçeceğim \n",
      "\n",
      "** 639 Şehrin ortasında evimde konuşabilmek için balkona çıkmak zorunda kalıyorum  Gerisini siz düşünün ömerim de yok malesef  Tamamen ekonomik olduğu için kullanıyorum birzahmet iyileştiren \n",
      "\n",
      "** 640 Nasıl başarabilirsiniz bilmiyorum ama diğer operatörler hatta isim de vereceğim Turkcell heryerden çekerken vodafone doğru düzgün çekmiyor Ben Çamlıca da yaşıyorum tepemde eyfel kulesi kadar verici kuleleri var binanın en üst katındayım ama yine de internete ZOR giriyorum Sizin bu işi düzelteceğiniz yok ben ilk telefonumu aldığımdan beri bu operatörün müşterisiyim ama artık sıkıldım Turkcell e geçeceğim SİZ DE KESİNLİKLE ÇİZGİNİZİ BOZMAYIN BÖYLE DEVAM EDİN \n",
      "\n",
      "** 641 çekmiyor konuşma sırasında kopmalar çok fazla yasaniyor \n",
      "\n",
      "** 642 Mobil veri hızı bana göre çok düşük 4 5 g hizini hiç beğenmedim diğer operatörde de daha hızlı idi ve mesela İstanbul Riva da telefon çekmiyor nedeni ne \n",
      "\n",
      "** 643 Telefonla konusurken konusma kesiliyor kapaniyor  Diger telefonum da vodafone hatli o da kesiliyor Hep ayni yerde degiliz  05414038064 aradik ayarlari gonderecegiz dedi call center ancak gondermedi \n",
      "\n",
      "** 644 İnternet hızı çok yavaş Bundan memnun değilim maalesef İyileştirilmesi gerektiğini düşünüyorum \n",
      "\n",
      "** 645 Çok severek kullandığım vodafone dan sırf şu şebeke sorunu yüzünden Turkcell e geçiş yapacağım \n",
      "\n",
      "** 646 Şebeke durumunda yetersiz kalıyor video durumların donma yaşanıyor youtube uygulamasıda fiyat ve teknik destekte mükemmel destekçi oluyorlar şebeke diğer operatöre göre geriden geliyor her alanda çekmiyor diger oparetör kaşılaştırmasında \n",
      "\n",
      "** 647 Fiyatlar çok yüksek \n",
      "\n",
      "** 648 Ev ortaminda video izlerken donma yaşanıyor ve oyun oynarken de öyle bu 2 yil dir bu şekilde \n",
      "\n",
      "** 649 Çekim alanı çok az benim yaşadığım yerde kisin hiç çekmiyor \n",
      "\n",
      "** 650 Ulan en kötü şirketsiniz yakaladığım ilk fırsatta ailecek Turkcelle geçeceğiz \n",
      "\n",
      "** 651 Şebeke sorunu cok fazla sıkıntılı diğer lerine göre biraz daha düşük \n",
      "\n",
      "** 652 Daha iyi olabilir internet çekmiyor video izlerken hep durakliyor \n",
      "\n",
      "** 653 Konuşmalarımız kesiliyor iş yeri içinde şebeke internet asla çekmiyor 20 yıllık vodafoneluyum Türktelekoma geçiceğim daha dünkü şebeke markaları sizden çok çok üstün \n",
      "\n",
      "** 654 Eskiden ne yapıyordunuz bilmiyorum ama ona geri dönün Zamanında yanınızdan bile kalite olarak geçemeyen operatörler simdi önünüzde koşuyor Arayınca da yardımci olunmuyor Üstüne aşırı yüklü mevla isteniyor En kısa zamanda operatör değiştirmeyi düşünüyorum Taahhüt sürem dolsun \n",
      "\n",
      "** 655 Görüşmelerim devamlı kesiliyor ve sonrasında iade ediliyor lakin kesildiğinde tekrar görüşme yapamayağım konuşmalarda oluyor  bu çok büyük bir sorun benim için  İyileştirmek sizin işiniz nu tekrarlamaya devam ederse vodafone da son dönemim olacak \n",
      "\n",
      "** 656 Çoğu yerde çekmiyor köyde arazide her şebeke çekiyor vodafone çekmiyor gelişim yapıp ilgilenmediler yıllar önce daha iyiydi buna rağmen fiyatlar  da yüksek \n",
      "\n",
      "** 657 Internet çekimi hic yok video izlerken kesip kesip duruyor \n",
      "\n",
      "** 658 Hic bir sekilde internetim ve sebekem çekmiyor turkcelle geri donecegim kimseye de tavsiye etmiyorum vodafoneu \n",
      "\n",
      "** 659 Bulunduğum yerde çekmiyor İnternet hızı berbat \n",
      "\n",
      "** 660 Turkcelle gecicem cunki baska yerden size gelene 27 gb internet 75tl biz yillarin vodafonelusu bize 102tl bu sizce adaletmi \n",
      "\n",
      "** 661 İnternet hizmetiniz yavaş \n",
      "\n",
      "** 662 Fiyatları düşürun biraz \n",
      "\n",
      "** 663 Evimde iş yerimde çekmiyor Taahhüt sürem bitince değiştirmeyi düşünüyorum \n",
      "\n",
      "** 664 Youtubede video izlerken surekli donma oluyor merkezden uzaklaştıgım zaman arazide telefon internet kesinlikle çekmiyor \n",
      "\n",
      "** 665 Bağzı kırsal bölgelerde çekmiyor \n",
      "\n",
      "** 666 Sürekli servis dışı alan diyerek durup dururken telefon kapanmalari ile ilgili düzeltme yapılmalı \n",
      "\n",
      "** 667 İnternet hızı çok yavaş mobil veride bunun düzeltilmesini istiyorum \n",
      "\n",
      "** 668 Mobil internet hızım AŞIRI düşük \n",
      "\n",
      "** 669 Ben turkcell den gectim 15 sene kullandim Ama gercekten hic memnun degilim Hic bir yerde çekmiyor Umarim duzelir \n",
      "\n",
      "** 670 İnternet hızı biraz daha yükseltilebilir \n",
      "\n",
      "** 671 Çok fazla uzun süreli telefon konuşması yapıyorum  10 konuşma yapıyorsam 6si rahat pat diye kesilip dakika iadesi yapılıyor  Dakika iadesi yerine kesilmemesi sağlansa daha mutlu ve memnun olurdum  Ayrıca il içinde merkezde de yaşasam çok fazla geziyorum  İlçelere beldelere gittiğimde çok fazla internet kesintisi yaşıyorum  vodafone yanımda da uygulamasında yükleme karşılığı vaad edilen hiç bir internet de gelmiyor  Sanırım uygun bir zamanda başka bir operatör düşünebilirim  Genel bir değerlendirme yapacak olursak memnun değilim \n",
      "\n",
      "** 672 Hiç memnun değilim ilk fırsatta hattımi taşıyacam \n",
      "\n",
      "** 673 İnternet hızı ve kalitesi hiç iyi değil daha çok gelişmesini tavsiye ederim \n",
      "\n",
      "** 674 Alt yapısına çok yatırım ayırmalı \n",
      "\n",
      "** 675 Video izlerken ınternetim olmasına rağmen sürekli donuyor Ve internet yavaş Ama geri kalan herşey çok iyi Teşekkürler vodafone \n",
      "\n",
      "** 676 Mobil şebeke çekiminden hiç memnun değilim internet çekiminden de memnun değilim \n",
      "\n",
      "** 677 internet yavaş konuşurken çekim düşük veriyi yükseltebilirsiniz \n",
      "\n",
      "** 678 Evde internet daha hızlı olabilir arada yavaşlıyor \n",
      "\n",
      "** 679 15 yıldır müşterisiyim 1 ay sonra 3 hattım var Turkcell geçiş yapacam \n",
      "\n",
      "** 680 Çok berbatsınız Asla önermem ve taahhüdüm bitince çıkacağım \n",
      "\n",
      "** 681 Çekim alanı çok düştü eskiden her yerde rahat kullanma imkanı vardı ama artık çoğu yerde çekmiyor _ \n",
      "\n",
      "** 682 İnternet hızınızı düzeltin adam akıllı internet hızı yapın yoksa hiç bir müşteriniz kalmıyacak \n",
      "\n",
      "** 683 Çekmeyen bölgeler var İnternet bazen çok yavaş \n",
      "\n",
      "** 684 Internet çekmiyor  telefon konuşma sırasında kapanıyor memnun değilim \n",
      "\n",
      "** 685 1 yıldır iyileştirmediniz bundan sonra mi iyilestireceksiniz Tahattütüm bittiği gün TURKCELL e geçeceğim \n",
      "\n",
      "** 686 Şebekeniz her yerde çekmiyor köylerde olsun özellikle karaedenizliyim unyeninbazi köylerinde şebeke aramaktan oluyoruz lutfen ordu unye nünde bazı köylerine verici konsun \n",
      "\n",
      "** 687 Bizim köyde vodafone şebekesi hiç çekmiyor   Yücelen mahallesi yoğurtçu sokak siverek şanlıurfa  Bunun biran once düzeltilmesini istiyoruz \n",
      "\n",
      "** 688 Tarifeler pahalı olup bana uymadığından Mobil şebekemi değiştireceğim \n",
      "\n",
      "** 689 Ben 5  Katta oturuyorum internet evimde çekmiyor gün içerisinde dışarda zaman zaman donukluk yapıyor geç gelior ki benim 15 GB İnternetim sınırsız WhatsApp Facebook paketim var ama ne yazık ki evimde çekmiyor \n",
      "\n",
      "** 690 Bulunduğum bölgede çekim gücü zayıf \n",
      "\n",
      "** 691 Şebeke internet alt yapı biraz daha gelişse daha iyi olur \n",
      "\n",
      "** 692 Alt yapınızı güçlendirin \n",
      "\n",
      "** 693 Youtubeden 360 p de dahi video izlerken zorlanıyorum internet hızı berbat en kısa zamanda hattımı kapatmayı düşünüyorum \n",
      "\n",
      "** 694 Konuşurken hat kendiliğinden kapanıyor \n",
      "\n",
      "** 695 Bu aralar çok sık İnternet kopması ve telefon kesilmesi oluyor \n",
      "\n",
      "** 696 Cihazım İphone 7 plus Video izlerken düşük kalitede hızlı fakat kaliteyi 720p 1080p Seçtiğim zaman video çok yavaşlıyor Arama kalitesi şehir içinde mükemmel ama merkezden uzaklaşınca çok kötüleşiyor Yazlıkta kalıyorum şehir merkezinden uzakta arkadaşlarımla konuşurken kesilmeler oluyor arama hatası veriyor \n",
      "\n",
      "** 697 Köy kasaba bölgelerine daha cok onem vermelisiniz \n",
      "\n",
      "** 698 Ben köyde yaşıyorum köylerde şebeke çekmiyor bununla ilgilenmenizi rica ediyorum bu arada 15 senedir vodafoneluyum \n",
      "\n",
      "** 699 Çanakkale ili Biga ilçesi Güleç Köyü bölgesinde sık sık internet bağlantı sorunu yaşıyorum  Gereği neyse yapılmasını istiyorum  Okan Taştepe \n",
      "\n",
      "** 700 Mobil veri çok yavaş \n",
      "\n",
      "** 701 4 5 g kullanmama rağmen şuan bulunduğum yerde internet çok sık kesintiye uğruyor eskiden köy şimdilerde mahalle olan yerler için altyapı çalışmaları arttırılabilir \n",
      "\n",
      "** 702 Sadece video izlerken donma var düzelirse tavsiye ederim \n",
      "\n",
      "** 703 İnternet hızı daha yüksek ve daha çok yerde 4G alt yapısı olmalı Maslakta olmama rağmen açık alanda dahi internet yavaş oluyor bazen \n",
      "\n",
      "** 704 Her yerde çekmiyor videolar duraksiyor bunlar birazdaha iyileştirilirse iyi olur \n",
      "\n",
      "** 705 İnterneti aşırı yavaş kullanılmıyor doğru dürüst Video izleyecek olsak defalarca duraksıyor \n",
      "\n",
      "** 706 Kırsal kesimlerde çok çok zayıf internet yok denecek kadar çekmiyor  Ben Gaziantep Güllüce köyünde ikamet ediyorum şebeke çekmiyor  Lütfen en kısa zaman da bu sorunu düzeltin  Kolay gelsin \n",
      "\n",
      "** 707 internet hızınız gerçekten berbat 720 p de bile video izlenmiyor sürekli donuyor ve çekim ağı olarak heryerde çekim gücü var ama kalitesi yok bodrum katta oturuyorum Farklı operatör çekerken vodafone çekmiyor evi mi değiştirmeliyim yoksa sizi mi bilemiyorum internet hızınızı biraz arttırmaya özen gösterin Teşekkürler \n",
      "\n",
      "** 708 Şuanlik güzel ama bağ evlerinde çekmiyor çok yavaş \n",
      "\n",
      "** 709 Video izlerken bazen çok bekletiyor ve bazı yerlerde çekmiyor merkezde olmama rağmen \n",
      "\n",
      "** 710 Daha fazla kapsama alanı ve altyapı iyileştirmesi yapmanız lazım \n",
      "\n",
      "** 711 Konusma sirasinda 2 dakika olmadan kapaniyor \n",
      "\n",
      "** 712 Çekim gücü zayıf her yerde çekmiyor iyileştirilmez ise iki hattım var aktarmayı duşunuyorum \n",
      "\n",
      "** 713 Alt yapınızı geliştirmek için çalışmlarda bulunun lütfen \n",
      "\n",
      "** 714 Özellikle küçük yerleşim yerlerinde alt yapı desteklerini arttırmalısınız \n",
      "\n",
      "** 715 Paketler çok yuksek \n",
      "\n",
      "** 716 Arama yaparken sık sık şebeke gidiyor  telefon kapanıyor  bunun düzelmesi için lütfen bir şey yapın \n",
      "\n",
      "** 717 Bazen internet çekim hızı yavaşlıyor \n",
      "\n",
      "** 718 Zonguldak caycuma persembe ve köylerinde sebeke okadar zayifki insan cileden cikiyor gelistirilmesini istiyoruz lutfen \n",
      "\n",
      "** 719 Benim evimde telefon çekmiyor  balkona cıkiyorum o kadar belirtim \n",
      "\n",
      "** 720 İnternet daha hızlı olması gerekiyor çünkü baya yavaş \n",
      "\n",
      "** 721 Video izleme esnasında video kalitesini yükselttiğim vakit donuyor video bu sorunun ortadan kalkması gerekir \n",
      "\n",
      "** 722 internet hızının yükselmesi \n",
      "\n",
      "** 723 Faturalarda daha iyi kampanya yapılması lazim \n",
      "\n",
      "** 724 Şebekenizaten çoğu yerde çekmiyor gücü yetersiz \n",
      "\n",
      "** 725 İnternet çok yavaş videolarda donma yapıyor \n",
      "\n",
      "** 726 Videolarda donma oluyor ve şebeke varken internet kesintisi oluyor \n",
      "\n",
      "** 727 Altyapı yatırımınızı araştırmanızı öneririm Şehir merkezinde dahi çekmemesi tam bir garabet \n",
      "\n",
      "** 728 Şebekeniz doğru düzgün hiç çekmiyor \n",
      "\n",
      "** 729 Faturaları biraz düşürün \n",
      "\n",
      "** 730 Hiç bir yerde çekmiyor videolar donuyor bence buna bir çözüm olmali daha çok verici yerleştirebilirsiniz \n",
      "\n",
      "** 731 Kırsal kesimlerde çekmiyor bulunduğum yer kütahya tavşanlı kavaklı köyü orda çekmiyor mesala internet erişimi yok \n",
      "\n",
      "** 732 Amasya tasovada devre köyünde ne doğru düzgün telefon çekiyor nede internet \n",
      "\n",
      "** 733 Video izlerken takılmalar oluyor onun dışında çok memnunum teşekkürler vodafone \n",
      "\n",
      "** 734 İnternet cok yavas berbat 3g daha hızlı 4 5g den \n",
      "\n",
      "** 735 Karabükün safranbolu köylerinde çekmiyor ilgilenirseniz \n",
      "\n",
      "** 736 İnternet hızı çoğu zaman çok yavaş oluyor \n",
      "\n",
      "** 737 Hiç bir şekilde çekim gücü yok sürekli şebeke gidiyor \n",
      "\n",
      "** 738 Vatsap görüntülü aramaları sürekli kesintiye uğruyor videolarda çok fazla donma oluyor \n",
      "\n",
      "** 739 Evin içinde bile yatak odasında çekmeyen bir şebeke yaptığınız reklamlara yazık \n",
      "\n",
      "** 740 Hesaplı fatura bekliyoruz \n",
      "\n",
      "** 741 Şebeke çekim gücü kaliteli değil  yetersiz \n",
      "\n",
      "** 742 Sıkıntılı çekmiyor vodafone nin çekim gücü diye birsey yok hepsi hikaye \n",
      "\n",
      "** 743 Alt yapının güçlenmesi çekim gücünün artırılması gerekir \n",
      "\n",
      "** 744 Tavsiyem internet hızlanması lazım çok Yavaş \n",
      "\n",
      "** 745 Alt yapılarının güçlendirilmesi \n",
      "\n",
      "** 746 Konuşma esnasında ara ara baglantı kapanıyor  Beni arayanları Meşkule alıp hemen arkasından ben aradıgımda baglanmada güçlük çekıyorum  Bazen hiç bağlanmıyor \n",
      "\n",
      "** 747 Samsun Vezirköprü ilçesinin çoğu yerinde ve köylerinde çekimi çok kötü \n",
      "\n",
      "** 748 Daha iyi bir şekilde çekim gücü olabilir alt yapı yetersiz kalıyor üstünde çalışıla bilinir Çekim gücü yetersiz kalıyor her yerde sorun yaşıyorum doğru düzgün çekmiyor \n",
      "\n",
      "** 749 Bulunduğum bölgede alt yapı olmadığından dolayı İnternet şebekemiz çok ağır çekiyor \n",
      "\n",
      "** 750 Faturasız hatlara da uygun peketler sunmalısınız Herkes faturalı kullanmak zorunda değil Hiç doğru düzgün paket yok vodafone dan gitmemek için tek sebebim hat işlemleri ile uğraşmak istememem Zaten çekim gücü hiç yok desem yeridir Hiç ama hiç memnun değilim \n",
      "\n",
      "** 751 İnternet hızını daha fazla olmalı \n",
      "\n",
      "** 752 Kapsama alanlarını genisletme ve altyapı yi güçlendirmesi gerekir Çorum merkeze 18 km olmasına rağmen çekim çok zayıf İletişim gidip geliyor evlerde telefon sabit bir yerde olmayınca hiç konuşulmuyor Buna biran önce çare bulsunlar \n",
      "\n",
      "** 753 Çok yerlerde şebeke yok çok yerlerdede sinyal zayıf yani kaliteli görüşme yapamıyorum \n",
      "\n",
      "** 754 Konuşma esnasında bazen hat düşüyor \n",
      "\n",
      "** 755 Faturamı düşürün çok geliyor bana kampanya sunun \n",
      "\n",
      "** 756 İnternet hızını geliştirmeniz gerekiyor \n",
      "\n",
      "** 757 Mesela YouTube da video izlerken 480p olarak takılmadan izleyebiliyorsun biraz daha yükseltince kaliteyi takılmalar oluyor izlenmiyo diğer operatör de son kalitede hiç takıntısız izlenebiliyor yani kısacası internet kalitesi sıkıntılı \n",
      "\n",
      "** 758 İnternet bazen çok yavaşlıyor \n",
      "\n",
      "** 759 Gerçeğiyle çok Güzel  Gayet Memnunum  ama Köyümün internet Çekim gücü Çok Yavaş  Hatta telefon şebekesi bile çekmemekte  Tuhaf olan ise  Evin damına çıkıp bir noktasında durduğum zaman iyi bir internet çekimine sahip olabiliyorum  Köyümün bağlı olduğu Baz İstasyonunda Bir güçlendirme yapılırsa  Köyümde olan insanların Tamamı vodafone Geçeceğine inandığım Ve inandığınız Herşey Üzerine Yemin Ederim  Lütfen bunu dikkate Alın  Lütfen _ BATMAN GERCÜŞ NURLU KÖYÜ \n",
      "\n",
      "** 760 Çekim gücü zayıf ve internet çekim gücü de zayıf \n",
      "\n",
      "** 761 Diyarbakır da şebeke iyi çekmiyor  Geliştirilmesi lazım  Gereğinin yapılmasını arz ederim \n",
      "\n",
      "** 762 bıktım artık konuşurken kopmalardan  defaten bildirmem rağmen iyleşme olmadı  yok 12 saniye iade edildi yok 24 saniye konuşma ide edildi felan ama düzltşn birrn önce \n",
      "\n",
      "** 763 İnternet girerken donuyoyor video oynatmakta zorlaniyor \n",
      "\n",
      "** 764 Telefonla konuşurkenbiranda hat kesiliyor ve telefon kapanıyor  Normal arama yapamıyorum doğru düzgün  En kısa zamanda yardımcı olursanız sevinirim teşekkürler \n",
      "\n",
      "** 765 Diğer firmaların en iyi çektiği yerlede dahi 360p den fazla video bile izlenmiyor Yanımda uygulaması bir çöp son gelen güncelleme ile zaten hiç açılmıyor Velhasıl denemek için aldığım vodafone hattımı son 10 gün kullanıyorum bunca zaman neden sizin firmanızı kullanmadığımı gayet iyi açıkladınız teşekkürler \n",
      "\n",
      "** 766 Bir çok yerde çekmiyor internet çekimi düşük \n",
      "\n",
      "** 767 Heryerde çekmiyor internet hızı diğer operatorlere göre düşük \n",
      "\n",
      "** 768 İzmir  menderes ilçesine bağlı köylerde genel olarak sıkıntı var bu sebeple diğer operatörlere geçen arkadaşlarım oldu \n",
      "\n",
      "** 769 4 5 g kullanıyorum ama video izleme hızı yavaş Donma oluyor Bazı yerlerde şebeke çekmiyor \n",
      "\n",
      "** 770 50 tllik faturaya 100 lira ödedim işe yaramaz çalışanlarınız yüzünden inşallah işleriniz bozulur \n",
      "\n",
      "** 771 Yaptığım şikayetlerin dikkate alınması ve altyapı çalışmalarını hızlandırmanız lazım \n",
      "\n",
      "** 772 her yerde çeken kesintisiz bağlantı için daha kaliteli alt yapı çalışmaları yapılmalı Ve imaj tazelenmeli itibar kaybı çok \n",
      "\n",
      "** 773 Büyükagac koyunde telefon çekmiyor çatak van \n",
      "\n",
      "** 774 Faturalarınız çok pahalı rakip firma daha ucuz \n",
      "\n",
      "** 775 Fiyatlar çok pahalı aşırı \n",
      "\n",
      "** 776 İnternet hızı çok kötü mecburiyetten kullanıyorum \n",
      "\n",
      "** 777 Köy yakınlarında çekmiyor Adana Seyhan Gölbaşı ve Yolgeçen Köyleri arası Mecburen ayrılacam \n",
      "\n",
      "** 778 Köy bölgelerinde çekmiyor \n",
      "\n",
      "** 779 Tavsiyem faturasız hatlara yeni interneti bol kampanyalar istiyorum yoksa diğer şebekelere geçmeyi düşünüyorum arz ederim \n",
      "\n",
      "** 780 3 katta oturdugum evimde telefonum Huawei p20 lite olmasına ragmen çekmiyor Babamdaki  vodafone hatıda çekmiyor  bu konuda herkes rahatsız \n",
      "\n",
      "** 781 Daha iyi bir çekim ve daha iyi bir alt yapı \n",
      "\n",
      "** 782 Cekim gücü  zayıf   şebeke çekmiyor internetimi  kullanamıyorum şebeke çekmiyor \n",
      "\n",
      "** 783 Şebeke bizde kesinti oluyor internet sürekli kopuyor aramalarda ses bazen gidiyor mecbur tekrar aramak zorunda kalıyoruz yani bu kadar büyük bir firmada bunların yaşaması üzücü bir an evvel düzeltilmesi lazim \n",
      "\n",
      "** 784 Çekim gücü olarak yetersiz kalıyor merkezi yerlerde bile çekmiyor \n",
      "\n",
      "** 785 Mobil verinin biraz daha hızlı olması lazım \n",
      "\n",
      "** 786 Kulada Yoresel olarak ve koylerde cekmesi digerlerine gore zayif \n",
      "\n",
      "** 787 Köylerde çekmiyor mahrumuz tire sarılar ödemiş çamyayla \n",
      "\n",
      "** 788 Köyüm dağlık ormanlık oralarda ne telefon ne Internet çekmiyor \n",
      "\n",
      "** 789 Kapsama alanı genişletilebilir \n",
      "\n",
      "** 790 Hiç bir şekilde telefonum çekmiyor daha fazla kaliteli olabilir \n",
      "\n",
      "** 791 Kapsama alanını genişletin çekmiyor çoğu yerde \n",
      "\n",
      "** 792 Birazdaha uygun fiyatlar olsa daha iyi olacak saygilar \n",
      "\n",
      "** 793 İnternet veri hızınız çok yavaş \n",
      "\n",
      "** 794 Kapsama Alanının genişletilmesi için baz istasyon ların çoğaltılması müşteri ihtiyaçlarına yönelik teknolojik alt yapı ve ayrıca Müşteri Şikayet ve sorun giderme konularında duyarsız ve ilgisiz kalınıyor geri dönüşler olmuyor \n",
      "\n",
      "** 795 Internet hizinin inanilmaz kotu Gunduz 8 bitlere kadar dusen bir internet hiziniz gece gayet hizli oluyor Ancak uykumda kullanamadigim icinbirisime yaramiyor vodafonedan memnunum tek sorun internet hizinizzz bunun acil duzeltilmesi lazimm tesekkurler \n",
      "\n",
      "** 796 çekmiyor çoğu yerde alt yapı güçlendirilsin \n",
      "\n",
      "** 797 Hattım iç mekanda çekmiyor internet çekmiyor konuşma yapamıyorum internete giriş yapamıyorum hattımla ilgili çekim gücü iyileştirme yapılıp düzeltilirse sevinirim hattımı iç mekan da kullanamıyorum \n",
      "\n",
      "** 798 Video da duraksama oluyor sonra şebeke problemi de var 2 dişin üstüne zor çıkıyor ve benim evin 6 katt internet hızı da hiç iyi değil acilen düzeltilmesi lazım Şu yazıyı yazarken bile internete duraksama oluyor \n",
      "\n",
      "** 799 İstanbulun göbeği üsküdar da bile çekmiyor aramalar da ses kesiliyor hat düşmüyor  Çok pişmanım vodafone kullandığıma \n",
      "\n",
      "** 800 Çekim gücü çok zayıf her yerde çekmiyor ilgilenirseniz sevinirim \n",
      "\n",
      "** 801 Alt yapı çalışmalarınız daha da geliştirmeli ben adıyaman turgut reis mah Kullanmaktayım ve il geneli de şebeke sorunu yaşıyorum \n",
      "\n",
      "** 802 Alt yapılardaki sorunların giderilmesi de sizlerin daga iyi bir çalışma yapıp şebeke hızve kesilmelerine çözüm üretecek kapasitede olduğunuz için sizin uzamanlarla bu tür sorunlara çözüm geliştirebilirsiniz İyi çalışmalar \n",
      "\n",
      "** 803 İnternet hızınız güzel ama videolarda donma çok yaşanıyor hd kalitede bir video izlememiz çok zor ve antalya gibi büyük bir şekihir de mazidağı denilen yerleşim alanında şebeke sıfır 6 Katta dahi çekmiyor böyle giderse operatörümü değiştirmek zorunda kalıcam \n",
      "\n",
      "** 804 Şebeke çok kötü 4 5g var ama çekmiyor video donuyor ses kesintisi oluyor ve oyunlarda çok kasıyor \n",
      "\n",
      "** 805 hic çekmiyor surekli aramalarim kapaniyor karsi tarafin sesi gelmiyor hic çekmiyor__ \n",
      "\n",
      "** 806 İnternet hızı ve Video izlenmelerde aksalıklar var çok donmalar yaşıyorum \n",
      "\n",
      "** 807 Alt yapı çalışmalarınızı bir an önce bitirdisenizde bizde sizde rahat etsek \n",
      "\n",
      "** 808 İnternet zaman zaman çok yavaşlıyor \n",
      "\n",
      "** 809 Faturasız hatlar için daha az paket fiyatı verilmeli ve ben o yüzden kendime paket alamıyorum sadece konuşma paketi koysanız daha çok memnun kalırım ve herkese öneririm \n",
      "\n",
      "** 810 İnternetden video seyrederken donuyor Normal arama yaparken arama kendiliğinden sonlanıyor \n",
      "\n",
      "** 811 İnternet hızınız yavaş düzeltirseniz çok memnun olurum Teşekkürler \n",
      "\n",
      "** 812 Hattımı Turkcelle taşiyicam bok gibi iş yapıyor sunuz afedersinizde ek paket alıyorum ikidir gözükmüyor bide adam kekliyorsunuz çekmiyor internet falan da ha bide tarife mi istediğim zaman aktive edip yenileyebiliyordum oda kalkmış virüs çıkalı abarttınız iyice \n",
      "\n",
      "** 813 Telefon görüşmesi yaparken sürekli hat kesiliyor sonra tarafınızdan sn ye geri veriliyor ama ne çare \n",
      "\n",
      "** 814 Evde bile çekmiyor çok kötü \n",
      "\n",
      "** 815 Yeterli altyapı ve şebeke gücüne sahip olamadıgınızı dusunuyorum \n",
      "\n",
      "** 816 Kapsam alanı arttırılmalı mardinde yaşıyorum hala şebekenin çekmediği yerler var \n",
      "\n",
      "** 817 Şehir içinde bile çekmiyor telefon  aramalar kesilip duruyor  çoğu zaman hat düşmüyor \n",
      "\n",
      "** 818 Kapalı alanlarda internet hızı ciddi oranda düşüyor \n",
      "\n",
      "** 819 Mobil ağ çok kötü video izlenmiyor Surekli donuyor ve çok pişmanım geçiş yaptığım için \n",
      "\n",
      "** 820 İnternet hızı çok yavaş \n",
      "\n",
      "** 821 Köyde çekmiyor \n",
      "\n",
      "** 822 konusma sirasinda kapanıyor memnun değilim \n",
      "\n",
      "** 823 İnternet hızı geliştirilebilir video izlerken donmayabilir iç mekanlarda daha iyi çekebilir Bunların olması dahilinde herkese tavsiye edilir \n",
      "\n",
      "** 824 Iğdır götürmez köyün de şebeke sıkıntımız var mesela köyümüzdebirverici olursa memnun oluruz modafonlu olarak \n",
      "\n",
      "** 825 vodafone TV izlerken çok donma yapıyo olldugumuz yerde İnternet çok zayıf \n",
      "\n",
      "** 826 Ben 19 Mayıs ilçesinde çalışıyorum ilçe merkrzinde hat full çekmesine rağmen internet yavaş ve video izlerken sürekli donmalar oluyor kackere müşteri hizmetlerini aradım ama çözülmedi \n",
      "\n",
      "** 827 Köylerde kırsal kesimlerde hiç çekmiyor telefon şebeke yok baz istasyonu yok bence kırsal kesimlere daha çok yatırım yapılmalı \n",
      "\n",
      "** 828 Mukkenmel ama biraz cok bahali oldu icin biraz tarifeleri GB DK SMS yükseltip fiyatlari duruseniz hersey cok guzel olcak \n",
      "\n",
      "** 829 Evim Tuzlanın merkezinde 2 katta ve görüşme yapmak için balkona çıkmak zorundayım  Zira evin içinde çekmiyor \n",
      "\n",
      "** 830 Bazen internette yavaşlama oluyor ve video izlerken duruyor \n",
      "\n",
      "** 831 vodafone nun sebekesi açik ve kapali alanlarca hic çekmiyor ben hic şebeke konusundan memnun degilim bunun bir an önce düzeltilmesini talep ediyorum \n",
      "\n",
      "** 832 çekmiyor işte çekse çok güzel \n",
      "\n",
      "** 833 Cogu yerde sebeke cekim sıkıntısı oluyor bir an önce düzeltilmeli \n",
      "\n",
      "** 834 Köylerde biraz daha iyileştirme yapılabilir çünkü çekmiyor \n",
      "\n",
      "** 835 Hattım 4 5 g full görünmesine rağmen video bile oynatamıyorum Berbat \n",
      "\n",
      "** 836 İnternet çekim hızı çok yavaş \n",
      "\n",
      "** 837 Bizim köyde şebeke çekmiyor Erzurum çat yayalasuyu köyü hacı Dursun Mezrası \n",
      "\n",
      "** 838 Altyapı ve arge çalışmalarına biraz daha fazla yatırım yapılmalı \n",
      "\n",
      "** 839 Tarifeler çok pahalı _ \n",
      "\n",
      "** 840 Hiç beğenmedim  çekim  gücü  zayıf  internet  sıkıntı \n",
      "\n",
      "** 841 Alt yapınız çok kötü kesinlikle çok pişmanım \n",
      "\n",
      "** 842 Benim faturam çok yüksek geliyor devreden tarife istedim bana yüksek tarifeli bir şey yapmışlar ondan hiç memnun değilim \n",
      "\n",
      "** 843 Hat dusmeden kapanıyor buna bı care bulmanız lazım hıc cekmıyor \n",
      "\n",
      "** 844 Konuştuğum sırada hat kesiliyor \n",
      "\n",
      "** 845 Alt yapisi olmayan yerler için internet kullanamıyoruz ne gibi çalışma yapmiyorsunuz \n",
      "\n",
      "** 846 İnternet hızınız çok düşük \n",
      "\n",
      "** 847 Alt yapısının güçlendirilmesi lazım \n",
      "\n",
      "** 848 Alt yapınızın biraz daha düzelirse iyi olur diye düşünüyorum \n",
      "\n",
      "** 849 İnternet aşırı derecede yavaş ve sürekli internet yok diyo \n",
      "\n",
      "** 850 Hattım çekmiyor cekim gucu bazı zaman ulaşamıyorum hattima \n",
      "\n",
      "** 851 Alt yapı çok zayıf biraz kalabalık olunca armalar ve internet kilit oluyor çöküyor yetersiz sanırım \n",
      "\n",
      "** 852 vodafone yeni yatırımlar yapıp alt yapısını güçlendirmesi gerekiyor yoksa abone kaybetmeye devam edecek \n",
      "\n",
      "** 853 Kapsama alanı genisletmenizi Bazı bölgeler ile görüşme yapılamıyor Diğer operatörler ile görüşme yapılıyor \n",
      "\n",
      "** 854 Lütfen Akpınar ın yöresinde kapsama alanını geliştirin \n",
      "\n",
      "** 855 Video izlerken donma oluyor Daha iyisi olabilir \n",
      "\n",
      "** 856 Köylerde ve benzeri alanda sebeke fazla çekmiyor o yuzden buralari da dikkate alıp daha iyi olabilir diye düşünüyorum \n",
      "\n",
      "** 857 Hakkari merkezdeyim internet oda da çekmiyor videolari internet duraksamadan izlemek için 144p yapıyorum Lütfen bunabirçare bulun Başka bir hata geçiş yapmamı istemezsiniz sizde Teşekkür ederim \n",
      "\n",
      "** 858 Doğru dürüst çekmiyor internet hızı çok yavas \n",
      "\n",
      "** 859 Şebeke ve internet hızı çok düşük bunun geliştirilmesi gerekiyor \n",
      "\n",
      "** 860 Özelikle köyler de çekmiyor şebeke kime sorsam memnun degil şebekeden örnek kırşehir toklumenköyü cekim yok diyecek kadar az baz istasyonuz yok giderilirse özellikle köylerde cok güzel olur tesekkurler \n",
      "\n",
      "** 861 Ev içerisinde şebeke çok zayıf kalıyor ben 10 uncu katta oturuyorum \n",
      "\n",
      "** 862 Kapsama alanını genişletin yada daha genişbirbant ağı kullanın evin içinde telefonla konuşamıyorum \n",
      "\n",
      "** 863 Son zamanlarda internetim çok yavaş 30 saniyelik video izlemek için 5 dk beklediğim oluyor video falan 144 punto izliyorum zar zar ve her ay 150 200 tl fatura ödüyorum \n",
      "\n",
      "** 864 Köylerde bazı yerlerde çekmiyor çekmesi için yer değiştirme yapmak gerekiyor sabit durmak gerekiyor \n",
      "\n",
      "** 865 Diğer operatörden gelenlere fiyatlar ucuz ama daimi müşterilere kazık \n",
      "\n",
      "** 866 vodafone her yerde çekmez diyorlardı inanmıyordum ama öyleymiş  Çekim gücü çok zayıf \n",
      "\n",
      "** 867 Alt yapıyı güçlendir \n",
      "\n",
      "** 868 Özellikle kasaba yada köy gibi mevkiilerde şebeke sorunu yaşıyoruz ve ormanlık alanlarda bu anketi hazırladığınız için teşekkür eder iyi çalışmalar dilerim \n",
      "\n",
      "** 869 Fatura biraz daha uygun olursa iyi olur \n",
      "\n",
      "** 870 video izlerken takılmalar çok olabiliyor düzeltilirse çok iyi olur \n",
      "\n",
      "** 871 Merhaba sayin vodafone ailesi normalde yozgat merkezde kaliyorum ama iş geregi mecbur köy e gidioz ama orda şebeke çekmiyor bu bizim icin çok büyük bir sıkıntı bu sorunun giderilmesini isdiyoruz \n",
      "\n",
      "** 872 Kastamonunun azdavay ilçesi kircalar köyü çömez mah olan memleketimde hiç çekmiyor Umarım bu sorunu dikkate alirsiniz \n",
      "\n",
      "** 873 Altyapı konusunda zayıf operatör interneti çok zayıf \n",
      "\n",
      "** 874 Bi paket bitmeye yakın uyarı bile yapmadan 50 ltllik faturayı 250 TL yaparak ve bana kullanımın bittiğine dair mesaj gelmeden nasıl böyle birşey olur size önerimbirpaket biterken mesaj atında insanlar mağdur olmasın \n",
      "\n",
      "** 875 Fiyatlarıniz çok kötü ve pahalı internetten menmun degilim tahattutum bitti çok şükür ay ortasında taşıyacam hattımı vodafonede PİŞMANLIKTIR \n",
      "\n",
      "** 876 Gorusmelerim devamli olarak kesiliyor \n",
      "\n",
      "** 877 Kırsal bölgelerde telefonumuz çekmemektedir örnek Memleketim Sivas İmranlı Boğazören köyüne gittiğimde veya Aydın Paşa yaylasında telefonumuz çekmemektedir bu bölgelerde verici olmasının biz müşterilerinizi memnun edecektir iyi çalışmalar \n",
      "\n",
      "** 878 Alt yapınızı geliştirmeniz gerek \n",
      "\n",
      "** 879 çekmiyor evimde ne telefon ne de internet \n",
      "\n",
      "** 880 İlk husuz alt yapi cok zayif yirmi yilikbirfadofon kulanicisi olarak cok uzuluyorum internek cok yavas ve kesintili hatda aramalarda cok kesiliyo \n",
      "\n",
      "** 881 Maltepe merkezde bahçe katında oturuyorum çekmiyor telefon evin içinde  büyük ihtimal başka firmaya geçicem \n",
      "\n",
      "** 882 Şebeke sorunu var yaşadığım bölgede çekim neredeyse yok denecek kadar az \n",
      "\n",
      "** 883 Fatura tutarlı biraz daha indirimli olabilir \n",
      "\n",
      "** 884 Düzgün tarifler ek paketlerle idare edilir bir operatör haline getirin bari uygun fiyatlarla \n",
      "\n",
      "** 885 Aşım paketi otomotik devreye geçmese iyi olur \n",
      "\n",
      "** 886 Tarifeleri aşırı pahalı biraz ucuzlasın yoksa türk telekoma geçebilirim \n",
      "\n",
      "** 887 internet çok kötü bahçelievler de 4katta şebeke çekmiyor 33 liraya anlaştığım fatura 3ay sonra 36 oldu kesinlikle tavsiye etmem \n",
      "\n",
      "** 888 Sürekli hat düşüyor \n",
      "\n",
      "** 889 Fatura niye çok gelmiş \n",
      "\n",
      "** 890 Her ay faturam ayrı yüksek böyle internet olmaz \n",
      "\n",
      "** 891 Çekim gücü az çekiyor birşey yüklerken saatlerce bekliyoruz \n",
      "\n",
      "** 892 Hat sürekli kesiliyor \n",
      "\n",
      "** 893 110 lira fatura ile başladım 235 lira en son fatura ödedim size o yüzden hiç memnun değilim \n",
      "\n",
      "** 894 Her yerde çekmiyor çekim daha güçlü olması lazım iş yerinde fabrikada bazı yerlerde tam çekmiyor \n",
      "\n",
      "** 895 Bazı yerlerde çekim yok internet yok çok düşük çekim yapan yerler var vodafone çekmediği yerde diğer operatör ler vızır vızır internette giriyor \n",
      "\n",
      "** 896 Paketleri biraz daha uygun fiyat yaparsanız daha iyi olur \n",
      "\n",
      "** 897 Fiyatlarınızı düşürün biraz \n",
      "\n",
      "** 898 Bizim evden net hiç çekmiyor  ne önerecek kimsede ilgilenmiyor bütün mahalle camdan konusuyoruz \n",
      "\n",
      "** 899 Alt yapıyı güçlendirebilirsiniz \n",
      "\n",
      "** 900 Uygun ek paketler sunun dalga gecmeyin \n",
      "\n",
      "** 901 Konuşurken sürekli kopuyor  ses kesiliyor  ses kalitesi çok kötü  Bir şekilde iyileştirme yapın artık \n",
      "\n",
      "** 902 Sinyal gücü zayıf  en yakın istasyona 500m mesafedeyim ama görüşmeler kesiliyor  işyerimde çekmeme sorunu oluyor \n",
      "\n",
      "** 903 Trakya bölgesinde çekim gücünüz çok kötü  Ne internet kullanılabiliyor ne de arama yapılabiliyor \n",
      "\n",
      "** 904 Faturasız tarifeler çok pahalı uzun süredir abone olanlara özel düşük tarifeler yapılabilir \n",
      "\n",
      "** 905 Lütfen fatura aşımını otomatik ek paket müşteriye sormadan ellemeyin 30 TL faturamı 47 TL ödüyorum \n",
      "\n",
      "** 906 Ev icinde oda oda dolasiyoruz telefon çekmesi icin \n",
      "\n",
      "** 907 Sebeke çekim hiç iyi değil internet berbat \n",
      "\n",
      "** 908 Hatta devamli kesilme oluyor ararken dusuyor \n",
      "\n",
      "** 909 Kampanyada Biz eski abonelerin Red li fiyatlarından ucuz kampanyalar konduğünda üzülüyorum Ayni indirimli fiyatların bize de yansıtılmasını arzu ediyorum \n",
      "\n",
      "** 910 Internet cekim gucu cok iyi deqil sebeke bu aralar telefon ile konusurken kesiliyor \n",
      "\n",
      "** 911 Paketleriniz çok pahalı alt pakete geçemiyorum o yüzden hat değiştirecegim \n",
      "\n",
      "** 912 Faturalidan çıkma bedeli olmasa çok iyi olur istedigimiz zaman çıkabilmeliyiz aslında \n",
      "\n",
      "** 913 Ben migros çalışanıyım bulunduğum mağazada telefon çekmiyor vodafonedan geldiler cekim gucunu artirmak icin bir alet bagladilar ondada arada bir cekiyo izmir bergamada migrosta calisiyorum \n",
      "\n",
      "** 914 Evde telefonu pencere kenarına birakmazsam şebeke çekmiyor   Çeken yerlerde de internet hızı çok düşük  Lütfen şu şebekeye bir çözüm getirin  Bazen internetten yararlanmak için soğuk günlerde dışari çıkmak zorunda kalıyorum  Sebeke ve internet çekecek diye hastalanıyorum   vodafone den başka bir operatöre geçiş yapmak istemiyorum  Ama bu sorunlar beni başka operatöre çekmek için zorluyor \n",
      "\n",
      "** 915 şebekeler sıfır aramalar yarıda kapanıyor \n",
      "\n",
      "** 916 Şebeke sıfır çekim gücü yok bazı yerlerde çekmiyor \n",
      "\n",
      "** 917 Tarifeler daha uygun fiyatlı olabilir \n",
      "\n",
      "** 918 Alt yapınızı güçlendirin \n",
      "\n",
      "** 919 Samsun ruh sağlığında çekmiyor altyapı yatırımı yapmalısınız \n",
      "\n",
      "** 920 Alt yapı zayıf hiçbirşey çekmiyor \n",
      "\n",
      "** 921 Tarife ücretlerinde biraz indirim olsa daha iyi olur \n",
      "\n",
      "** 922 Paket alıryorum bazen geliyor bazen gelmiyor \n",
      "\n",
      "** 923 54 olan sabit faturam bu ay 250 tl geldi iki hattım var çikicam vodafonedan bugüne kadar boyle bir sey olmamisti internet aşiyorsa sabit fiyat garantisine noldu yaziklar olsun cok kisiye metetmistim vodafoneu simdi biraktiricam saygilar \n",
      "\n",
      "** 924 Intarnet paketim 10 gb ve surekli donuyo 4 gunde bitiyo bu yüzden hic memnun değilim ve ayrıca 10 gb internet yapiyosunuz faturasiza en fazla 10 gb millet daha cok internet istiyo faturaliya geciyo kazı atiyosunuz yok şunun aşımı yok bunun aşımı böyle devam ederseniz tüm müşterileri kaybedersiniz \n",
      "\n",
      "** 925 Evimin hiçbir köşesinde çekmiyor \n",
      "\n",
      "** 926 Heryerde çekmiyor internet çok çakı zayıf \n",
      "\n",
      "** 927 Evdeyken telefonum çekmiyor alt katta oturmuyorum yinede 1 dış falan zor çekiyor \n",
      "\n",
      "** 928 Paketlerde dakika süreleri yükseltilmesi lazım \n",
      "\n",
      "** 929 Alt yapı heryerde olması ve güçlendirilmesi lazım \n",
      "\n",
      "** 930 Şu an bulundugum yörede çok az çekim var bazı yerlerde çekim neredeyse hiç yok yakında diger şebekeden hat almayı düşünüyorum \n",
      "\n",
      "** 931 Çekim gücü iyi değil çekmiyor ses kalitesi iyi değil internet kullanımında sıkıntı çekiyorum \n",
      "\n",
      "** 932 Paket fiyatları yüksek \n",
      "\n",
      "** 933 Evimin salonunda çekmiyor telefon  Evi mi değiştirelim vodafoneu mu değiştirelim \n",
      "\n",
      "** 934 İç mekanlarda ve çevrede kesinlikle çekmiyor internet çekimi güçlendirilmeli \n",
      "\n",
      "** 935 Internet tarifeleriniz çok pahalı fiyatlar çok yuksek \n",
      "\n",
      "** 936 Tarife fiyatlarında kampanya yapılmalı \n",
      "\n",
      "** 937 Paketler ucuzlaştirilirsa iyi olur \n",
      "\n",
      "** 938 Sürekli hat kesiliyor ve arama düşmeden Hat kesiliyor \n",
      "\n",
      "** 939 Evin farklı odalarına gecince çekim gücü azalıyor yada hiç çekmiyor \n",
      "\n",
      "** 940 çekmiyor  çoğu yerde çekmiyor   evde telefonla konuşabilmek için cama yapışıyoruz \n",
      "\n",
      "** 941 Merhaba benim bulunduğum çekmeköy merkez mahallesinde çekim gücü çok kötü evde tel ile konuşurken pencere kenarı konuşabiliyoruz \n",
      "\n",
      "** 942 Herzaman şebeke problemi var çekim düşük herzaman aynı şekilde devam ediyor \n",
      "\n",
      "** 943 Görüşme yaparken insanların yüzüne kapatmışcasına oluyor yani kesiliyor en rahatsız olduğum konu bu \n",
      "\n",
      "** 944 aramalarda sık sık görüşme kesiliyor \n",
      "\n",
      "** 945 Heryerde çekmiyor çekim gücü çok zayıf 4 5 G çeken yerde arkanı dönünce 3G çekiyor \n",
      "\n",
      "** 946 Evin içinde 3G bile zor çekiyor pencere dibinden ayrılamıyoruz millet 5G ye geçecek _ \n",
      "\n",
      "** 947 Evimde vodafone net var ev için de dahi wifi çekim gücü düşük vodafone telim ise evde çekmiyor \n",
      "\n",
      "** 948 Evimde ne telefon çekiyor ne kendi internetim  Cama yapışık şekilde konuşmam gerekiyor ve hiç memnun değilim bu durumdan  Yakın zamanda düzeltilmesi dileğiyle \n",
      "\n",
      "** 949 Telefon görüşmelerim özellikle diğer vodafonelularla sık sık kesiliyor  Hiç memnun değilim \n",
      "\n",
      "** 950 Net bir adresler verebilirim ki istanbulda çekim probleminiz var ayrıca tam çekiyor dediğiniz bölgelerde de internet hızı düşüklüğü ölçümle gördüm \n",
      "\n",
      "** 951 Evimde odamda çekmiyır yeter artık ya \n",
      "\n",
      "** 952 Bulunduğum bölgede çekim gücü zayıf  Veri açıkken yer değiştirdiğimde eski çekim gücünden çekmeye çalışıyor ve internet gidiyor \n",
      "\n",
      "** 953 Evin içinde hiç çekmiyor ve çok yavaş geçtiğime pişman oldum \n",
      "\n",
      "** 954 Çoğunlukla çekmiyor  aramalar cok gec düsüyor \n",
      "\n",
      "** 955 Telefon görüşmelerim sürekli kesiliyor aramalar da sorun yaşıyorum \n",
      "\n",
      "** 956 Çekim alanı eskisi gibi değil  eskiden çeken yerde artık zor çekiyor \n",
      "\n",
      "** 957 Koskoca 1500 hanelik toki konutlarında evin içerisinde telefon görüşmesi yapamiyoruz  Ya balkona yada pencere dibine girmek zorunda kalıyoruz   vodafonea gectigime  eşim ve oglumuda gecirdigime pişmanım \n",
      "\n",
      "** 958 Çekim gücü çok kötü eskiden daha iyiydi internet hızınız daha da kötüleşti yaygınlaştıkça kalitesizleşmeye başladı umarım bir an evvel çözüm bulursunuz \n",
      "\n",
      "** 959 Evimde asla ve asla çekmiyor defalarca aramama ragmen herhangi bir iyilestirme yapilmadi \n",
      "\n",
      "** 960 Malesef evimde telefonum çekmiyor arayanlar ulaşamıyor  Telefonla konuşabilmek için balkona çıkmam gerekiyor  O bile sıkıntılı  Tek bende olsa cihazdan diye düşünürüm ama evdeki her telefon aynı malesef  Umarım kısa zamanda bu problem çözülür \n",
      "\n",
      "** 961 Görüşme yaparken hat kesiliyor çevremde kullanan diğer vodafone kullanıcıların da da aynı sorun var \n",
      "\n",
      "** 962 Çekim gücünü İstanbul dışında artirmalisiniz Ozellikle internet İstanbul dışında berbat \n",
      "\n",
      "** 963 Sürekli hattım kesiliyor konulmalarım yarıda kalıyor \n",
      "\n",
      "** 964 Hatlar hiçbiryerde çekmiyor çekim kalitesini arttırın \n",
      "\n",
      "** 965 Evin oturma odasında internetim normal çekiyor ama hemen yan odaya geçtiğimde orada hiç çekmiyor maalesef   Lütfen kısa sürede çözüme alınsın \n",
      "\n",
      "** 966 Yaklaşık 4 aydır bulunduğum yerde çekim gücü berbat \n",
      "\n",
      "** 967 Odamda çekmeyen bir Mobil hat kullanıyorum \n",
      "\n",
      "** 968 Evimde wifi kullanmak zorundayım internet çekmiyor \n",
      "\n",
      "** 969 Şebeke hiç bir yerde çekmiyor tambirrezalet siniz \n",
      "\n",
      "** 970 Kesinlikle çekim gücünden hiç memnun değilim \n",
      "\n",
      "** 971 Görüşme sırasında kopmalar oluyor  Dış mekanlarda çekmeyen yerler var \n",
      "\n",
      "** 972 Bulunduğum yerde Sebeke sorunu cok yasıyorum çekim gücü zayıf \n",
      "\n",
      "** 973 Konuşurken hat gidebiliyor  Karşıdakinin yüzüne kapanıyor  Konya merkezde olmama rağmen bu oluyor  Konuştuğum kişi vodafone müşterisi olsa bile oluyor \n",
      "\n",
      "** 974 Hatta sürekli kopmalar mevcut  İnternet hızı sürekli değişken ve pingli  Konuşma ise sürekli kopuyor sesim gitmiyor yada sesim gelmiyor  Yani gerçekten pişmanlıktan başka bir şey değil \n",
      "\n",
      "** 975 Arama bekletme hizmeti çalışmıyor  Başka bir arama geldiğinde görüşme de kapanıyor \n",
      "\n",
      "** 976 İnternette kopma oluyor görüşmelerde kesintiler oluyor \n",
      "\n",
      "** 977 Şebeke çekim gücü arttırılabilir Şebeke çekiyor gözükürken bile konuşamıyorum En merkezi yerde bile arada şebeke sıkıntısı yaşıyorum Bunun iyileştirilmesini istiyorum \n",
      "\n",
      "** 978 Arama esnasında sürekli arama düşüyor  Görüşmenin ortasında telefon kapanıyor \n",
      "\n",
      "** 979 Son günlerde arama konuşmam sık sık kopuyor  Hiç memnun değilim  İki aydır çok sorun yaşıyorum \n",
      "\n",
      "** 980 Telefon görüşmelermimi bulundugum yerden kesintisiz yapamıyorum hiç kimse ile düzgün bir şekilde konuşma sağlayamıyorum en hızlı şekilde iyileştirilmesini talep ediyorum \n",
      "\n",
      "** 981 Kapsama gücü çok zayıf aşırı derecede iyileştirme yapıması gerekiyor  Bulunduğum bölgede çoğu yerde şebeke bile yok \n",
      "\n",
      "** 982 Birden görüşme bazen aniden kesiliyor    Hatlardan olduğunu düşünüyorum \n",
      "\n",
      "** 983 Çanakkale gibi bir yerde görüşme 10 saniyede bir kesilebilir mi \n",
      "\n",
      "** 984 Şebeke çekim gücü az internet bağlantılarında da düşük güçlendirilmesi lazım  Her bir iki ayda bir kullanıcıların internet ve şebeke ayarları otomatik güncellenmeli  Şikayet olması beklenmemeli Arama yönlendirme gibi bazı ayarlar açılmamalı kullanıcıya bırakılmalı \n",
      "\n",
      "** 985 Sürekli olarak telefonla konuşma esnasında hat kesiliyor ve telafi dakika tarafıma tanımlanıyor  Bu sorun sadece Volte yü kapattığımda çözülüyor \n",
      "\n",
      "** 986 Çekim gücü çok kısıtlı çoğu yerde ne internetnede görüşme yapılamıyor bu durumu duzeltirseniz çok iyi olacak \n",
      "\n",
      "** 987 Bu aralar sürekli kapanıp duruyor \n",
      "\n",
      "** 988 Daha öncede şikayetimi belirttim yine aynı şekilde çekim kalitesinden hiç memnun değilim \n",
      "\n",
      "** 989 telefon birisiyle konuşurken son altı aydır kapanıyor Bıktım artık rezil olmaktan \n",
      "\n",
      "** 990 Telefon ile konuşurken şebeke çekmiyor  Çektiği zaman ise görüşme yarıda kalıyor  aniden görüşme kesiliyor  İnternette aynı şekilde çok zor çekiyor  Gereğinin en kısa zamanda yapılmasını rica ediyorum \n",
      "\n",
      "** 991 Sürekli çekmiyor  birisiyle konuşurken habire kapanıyor telefon  telefon ve internet çekimi çok düşük  kusura bakmayın ama çok gelişmeniz lazım  eksik olan birşeyler var bilginize \n",
      "\n",
      "** 992 İzmir Ege bölgesi sanayi odasından çekmiyor  Arama başarısız oluyor aramalar yarıda kesiliyor sesler kopuk kopuk geliyor \n",
      "\n",
      "** 993 Bulunduğumuz mevkiide çekim kuvveti düşük olması sebebiyle bazı zorluklar çekiyoruz çekim kuvvetini artırmak için elimizden geleni yapmanızı rica ederim \n",
      "\n",
      "** 994 Hiç bir yerde şebeke doğru dürüst şebeke çekmiyorn hattınız eski değiştirinm denildi değiştirdim yine aynı arama yapıyorum hep arama reddedildi bağlantı hatasım diyor dıt dıt dıt edip kapanıyor acil aramam gereken yerler oluyor beni rezil ediyor ulaşmak istediğim bana ulaşamıyor ulaşmak istediğime ben ulaşamıyorum \n",
      "\n",
      "** 995 Telefon konuşmalarımda sürekli call failed yazıp telefon kapanıyor   sürekli çekmeyen bir yerdesin diye karşı taraftan uyarılar alıyorum   internet te video izlerken kopmalar beklemeler oluyor \n",
      "\n",
      "** 996 İstanbul da çekmiyor telefon  internet sürekli kopuyor   servis yok yazıyor hat tamamen kapanıyor   Bir süre sonra kendiliğinden geliyor  Çok sıkıntı yaşıyorum  İlk fırsatta başka op  Geçeceğim \n",
      "\n",
      "** 997 Şebeke çekmiyor bazen 4g cekimden 3g ye düşüyor \n",
      "\n",
      "** 998 Hat düşmesi çok fazla gecikiyor Hat düştükten sonra görüşme sırasında pek problem yaşanmıyor ancak görüşme halindeyken yer değiştirme esnasında kopukluklar yaşanabiliyor \n",
      "\n",
      "** 999 Yuksek ve ic kesimlerdee hatt çekmiyor arayana ulasamiyoruz bizi arayanlar ulasamiyor sebeke dusmuyorrr cekim kalitesi sifiirrrrrr duzeltin lanet sebekenizi \n",
      "\n",
      "** 1000 15 yıldır kullanıyorum memnunum \n",
      "\n",
      "** 1001 Şu an için gayet güzel memnunum Şayet memnun olmasaydım yıllarca Abone olarak kalmazdım \n",
      "\n",
      "** 1002 Evet çok memnunum herkese tavsiye ediyorum \n",
      "\n",
      "** 1003 Güzel memnunum şebeke cekisi güzel herşey güzel \n",
      "\n",
      "** 1004 Harika \n",
      "\n",
      "** 1005 Çok güzel çekiyor \n",
      "\n",
      "** 1006 Çok güzel \n",
      "\n",
      "** 1007 Fevkalade güzel \n",
      "\n",
      "** 1008 Bazı alanlarda gayet güzel çok memnun oluyruruz bazı yerlerde görüşmelerde çok zorluk cekiyoruz tüm alanda güçlendirilirse başka hiç bir soronumuz yok teşekkür ederiz \n",
      "\n",
      "** 1009 Baya iyi \n",
      "\n",
      "** 1010 herkese tavsiye ederim çok güzel \n",
      "\n",
      "** 1011 Gerçekten iyi vodafone \n",
      "\n",
      "** 1012 Harika daha ne diyeyim \n",
      "\n",
      "** 1013 Hersey on numara teşekkürler \n",
      "\n",
      "** 1014 Süper çekiyor \n",
      "\n",
      "** 1015 Çok iyi herkese önermek isterim \n",
      "\n",
      "** 1016 Çok guzel \n",
      "\n",
      "** 1017 Çok başarılısınız \n",
      "\n",
      "** 1018 tesekkurler  ederim ben memnunum \n",
      "\n",
      "** 1019 Çok teşekkür ediyorum \n",
      "\n",
      "** 1020 Çok memlunum teşekkürler vodafone \n",
      "\n",
      "** 1021 Başarılarınızın devamını dilerim \n",
      "\n",
      "** 1022 teşekkürler vodafone \n",
      "\n",
      "** 1023 Memnunum iyi çalışmalar dilerim \n",
      "\n",
      "** 1024 Tavsiye ederim iyi \n",
      "\n",
      "** 1025 Herşey 10 numara \n",
      "\n",
      "** 1026 Genel olarak Memnununum \n",
      "\n",
      "** 1027 En iyi hat vodafone \n",
      "\n",
      "** 1028 Her Şey Çok Güzel Olacak \n",
      "\n",
      "** 1029 hersey icin cok tesekker ederim \n",
      "\n",
      "** 1030 Harikasınız \n",
      "\n",
      "** 1031 Çok iyisiniz tavsiyem yok \n",
      "\n",
      "** 1032 Çok memnunum herşey için teşekkürler \n",
      "\n",
      "** 1033 daha iyisi olana kadar güzel \n",
      "\n",
      "** 1034 Teşekkürler tavsiye ediyorum \n",
      "\n",
      "** 1035 Gerçekten güzel olmasını diliyorum \n",
      "\n",
      "** 1036 Internet ve arama çekim gücü iyilestirilmeli öğretmenim okulda çekmiyor...\n",
      "terife degistirdigim için çok pişmanım en kısa sürede operatör değiştirmeyi düşünüyorum. \n",
      "\n",
      "** 1037 edirne saracapaşa mahallesinde 1 aydır hat çekmiyor !!! ne internet ne arama wifi \n",
      "kapandığı an şebeke yok diyor ve hala hiç birşey yapmıyorsunuz \n",
      "\n",
      "** 1038 Merhaba yaklaşık 3 aydır söylüyorum şikayet ediyorum. \n",
      "Hiç bir şekilde yardımcı olunmuyor. 4 tane hattım var.\n",
      " Hepsini Turkcell e geçiş yapacağım. \n",
      "\n",
      "** 1039 Tavsiye bilmiyorum ama vodafone \n",
      "şebekelerinde bir sıkıntı oldgu kesin aramalar da ve internet\n",
      " hızında sürekli bir sıkıntı var düzeltilmesini tavsiye ediyorum \n",
      "\n",
      "** 1040 Sürekli internet kesintiye uğruyor çekmiyor hızı çok yavaş\n",
      " taahhutum bitince kullanmayı düşünmüyorum. Ve herkese de kesinlikle \n",
      "kullanmayın diyorum. Hızının ve çekim alanın mutlaka iyileştirilmesi gerekiyor \n",
      "watsap görüntülü arama bile berbat \n",
      "\n",
      "** 1041 Daha çok çekim gücü sağlayabilirsiniz her yerde telefon \n",
      "çekmiyor videolarda duruyor arama yapılamıyor teşekkürler :) \n",
      "\n",
      "** 1042 Sizi neden kullandığım sorusunabir cevap bulamıyorum. Yerli ve milli değilsin. En hesaplı da değilsin.\n",
      " Zaten hiç bir yerde çekmiyorsun. 2 aydır hastanedeyim. Burnumdan getirdin vodafone. \n",
      "Şimdi beni arayıp bölgesel problem demeyin. Bu 3. Hastanem. \n",
      "Hiç bir yerde çekmiyorsun vodafone. \n",
      "Sana tavsiyem. Geldiğin yere geri git. Bu işler böyle olmuyor. Yurt ışında millete bedava telefon verip \n",
      "burada milleti sömürüyorsunuz. Kur farkı varsa girdiğinizde de vardı. \n",
      "Girmeseydiniz. !!! İLK FIRSATTA DEĞİŞTİRCEM. ! \n",
      "\n",
      "** 1043 Senelerdir vodafone kullanıyorum ama İnternet şebekeniz o kadar kötüki.\n",
      "telefon değiştirdik sıfır aldık ama halen yine aynı. Telefon görüşmesi yaparken hat gidiyor \n",
      "geliyor kapanıyor kendi kendine. Taahhütüm biter bitmez vodafone bırakacağım. Dört gözle \n",
      "bekliyoruz taahhüt bitmesini \n",
      "\n",
      "** 1044 edirne saracapaşa mahallesinde 1 aydır hat çekmiyor !!! ne internet ne \n",
      "arama wifi kapandığı an şebeke yok diyor ve hala hiç birşey yapmıyorsunuz \n",
      "\n",
      "** 1045 Çekim yok denecek kadar az bir kulağında çekiyor diğer kulağa aldığında şebeke sıfır İnternet \n",
      "çok çok yavaş vodafone yanımda sadece ismi var hizmeti sıfır vodafone yapılan şikayetlere cevap \n",
      "verme veya şikayeti çözme sıfır müşteri memnuniyetine önem verme sıfır müşteri mağduriyetini giderme sıfır. \n",
      "Hizmetin iyi olmasını gerçekten istiyorsanız esas yetkili biri ararsa daha net anlaşılır hizmetiniz. \n",
      "Yetkili bunu okuyorsa benim orada en az 5 şikayet dilekçem mevcuttur dönüş hala yoktur Arayın tek \n",
      "tek eksiklikleri sizinle paylaşayım \n",
      "\n",
      "** 1046 Son zamanlarda biraz daha iyi olsa da Dağ arazi ve piknik alanlarında çekim gücü çok çok az iç \n",
      "mekan da sürekli değişen bir internet hızı var şehirde veya belirli çekim gücünün iyi olduğu \n",
      "noktalarda ise internet ve gerikalanlar oldukça iyi diyebilirim. \n",
      "\n",
      "** 1047 Evim ana caddede hiç bir şekilde telefon çekmiyor diğer tüm hatlar çekiyorken \n",
      "wifi olmasa evde maalesef ne telefon ne internet kullanmak imkansız. daha önce de ilettik \n",
      "geri dönüş olmadı ilgilenilirse seviniriz \n",
      "\n",
      "** 1048 Hat cogu yerde çekmiyor internet bazen cok agir isliyor ve arama yapacagim zaman arama \n",
      "cok gec calmaya basliyor kontorlu hatla suanda ilerliyorum fakat bu sekilde faturali hatta \n",
      "hayatta gecmem iyi calismalar. \n",
      "\n",
      "** 1049 En kısa zamanda hattımı değiştireceğim \n",
      "\n",
      "** 1050 İstanbul içinde iyi dışında sürekli sıkıntı var şu an çorlu yenicedeyim anketi tamamlamak için \n",
      "cambazlık yapıyorum Turkcell den size geçiş yaptım Allah’tan eşimi turkcell de bırakmışım sizde\n",
      " sıkıntı yaşadıkça tekrar Turkcell’i kullanıyorum eşimden inşallah bu şikayetleri dikkate alırsınız \n",
      "\n",
      "** 1051 Kapalı alanlarda zaten çekim gücü çok az. Buna ek olarak telefon 4 diş çekip de 4.5G \n",
      "gözükmesine rağmen açık alanlarda bile kısa süreliğine internet kesiliyor. Bu durumdan \n",
      "dolayı operatörümü değiştireceğim. \n",
      "\n",
      "** 1052 2000 li yillar gibi kapali mekanlarda ve kalabalik mekanlarda kesinlikle telefon çekmiyor. \n",
      "Birakin dağı tepeyi hafif yüksek arazilerde komple hat kesiliyor. \n",
      "\n",
      "** 1053 İstanbul Zeytinburnu'nda oturuyorum ve arka odamızda internet çekmiyor E \n",
      "hızına düşüyor videolar ve sosyal medya uygulamaları yavaş akıyor Çağrı merkezini \n",
      "aradığımda ise herhangi bir sorun yok deniyor bizden kaynaklanan bir şey yok deniyor ve telefon \n",
      "kapatılıyor taahhüt bitsin Turkcell'e geçmeyi planlıyorum \n",
      "\n",
      "** 1054 Evimde ve çalıştığım işyerinde sürekli şebekede kopma oluyor evimde \n",
      "balkona çıkmadan hattımı kullanamıyorum daha önce aradım müşteri servisini \n",
      "hiçbirşey yapılmadı böyle devam ederse adıma kayıtlı hatlarımı iptal edecem veya \n",
      "operatörümü değiştireceğim. \n",
      "\n",
      "** 1055 Arama bekletme hizmeti çalışmıyor. Başka bir arama geldiğinde görüşme de kapanıyor \n",
      "\n",
      "** 1056 Daha geniş ve hızlı çekim kapsamına alınmalı Böyle giderse en kısa zamanda hat iptali\n",
      " yapmak ve operatörümü değiştirmek zorunda kalacam. Ilginiz için teşekkür ederim \n",
      "\n",
      "** 1057 WhatsApp durumna bile 5 dk da bakabiliyorum bazen. İnternet berbat. Benim telefonda \n",
      "mi sikinti acaba diye hat değiştirdim.diger hatlarda 4.5G sabit iken Vodafone de H hıza kadar değişiyor. \n",
      "Hakkari/Yüksekova merkez mahallerde (köyler Allah'a emanet) şebeke böyle.Lafin kisasi ya sizin alt\n",
      " yapinizda sikinti var. \n",
      "Ya da başka bir problem var. En kısa zaman duzeltirsiniz omarim.su an bile 4.5G acik bende \n",
      "görünen internet \" H \" \n",
      "\n",
      "** 1058 Kapalı alanda asla internet ve şebeke erişimi sağlanmıyor. Paramızla rezil oluyoruz. \n",
      "Bir telefon ne için kullanılır ki başka arama yapamıyor internete giremiyorum. \n",
      "Artık çmzğn şu sorunu. \n",
      "\n",
      "** 1059 Tavsiye bilmiyorum ama vodafone şebekelerinde bir sıkıntı oldgu \n",
      "kesin aramalar da ve internet hızında sürekli bir sıkıntı var düzeltilmesini \n",
      "tavsiye ediyorum \n",
      "\n",
      "** 1060 Sürekli internet kesintiye uğruyor çekmiyor hızı çok yavaş taahhutum bitince \n",
      "kullanmayı düşünmüyorum. Ve herkese de kesinlikle kullanmayın diyorum. Hızının ve\n",
      " çekim alanın mutlaka iyileştirilmesi gerekiyor watsap görüntülü arama bile berbat \n",
      "\n",
      "** 1061 Daha çok çekim gücü sağlayabilirsiniz her yerde telefon \n",
      "çekmiyor videolarda duruyor arama yapılamıyor teşekkürler :) \n",
      "\n",
      "** 1062 Aramalarda sıkıntı yaşamadım ancak internet kesintisi yaşadığım \n",
      "bölgede sık sık oluyor mekana göre de bağlantı hızı değişiyor \n",
      "\n",
      "** 1063 Defalarca şikayette bulunmamıza rağmen kimse bizi dikkate almadı. Bulunduğumuz adreste şebeke çekmiyor.\n",
      " müşteri hizmetlerinden arandı şebeke problemi olduğu teyit edildi. Ona rağmen hiç birşey yapılmadı. 2020 nin \n",
      "avrupası hemde istanbulunda telefonla görüşmek için balkonlara çıkıyoruz. Kızıma hat alacam ama kendi\n",
      " kızım şebeke hariç herşeyinden memnun olduğum vodafone u istemiyor. \n",
      "KİMSE BİZİ DİNLEMİYOR ÖNEMSEMİYOR. \n",
      "Bu kayıtsızlığınız; taahhütlerimiz bitince tüm vodafone hatlarımızı iptal ettirecek. \n",
      "\n",
      "** 1064 Şehır dışı sık seyahat ediyorum. Konuşma esnasında çok aşırı kesiliyor. \n",
      "Arkasından hediye dakika gönderiliyor. Bunun telafisi bu dakikalar değil çekim gücü artırımı olmalı.\n",
      " Şehir içinde de keza sık yaşıyorum.\n",
      " İnternet X operatöre daha zayıf Y operatöre göre daha iyi ortada kalıyorsunuz. \n",
      "\n",
      "** 1065 Sizin vereceğiniz şebeke çekiminin amına koyayım 50 sefer musteri \n",
      "hizmetini aradım şebeke 1 hafta düzeltecek dedi 3 yıl geçti \n",
      "\n",
      "** 1066 Mobil uygulama gayet düzgün çalışıyor. Çıktığı günden beri kullanıyorum ve şimdiye kadar hiç sorun \n",
      "olmadan girip işlemimi yaptım. Bazı yorumlarda bir yıldız verip girilmiyor eleştirisi bana hiç inandırıcı gelmiyor. \n",
      "Kullanım kolaylığı için eleştiri veya öneri olabilir. Buna saygılıyım fakat çok kötü demek haksızlık. \n",
      "Başarılı bir uygulama ve her geçen geliştiriliyor. Emeği geçenlere teşekkürler. \n",
      "\n",
      "** 1067 1 haftadır akbank mobile giriş yapamıyorum şifremidr bildiğim halde \n",
      "hata veriyor nasıl bir uygulama anlayamadim \n",
      "\n",
      "** 1068 İvedi şekilde borsa kısmına müdahale edilmesi lazım. Son bir aydır saçmalıyor. \n",
      "Program yöneticisinin ekibiyle birlikte işine son verilmesi lazım.\n",
      " Bunu müşteri hizmetlerine de bildireceğim \n",
      "\n",
      "** 1069 AKBANK ISTER ŞUBE BANKACILIĞI İSTER MOBİL BANKACILIĞIN ÇOK FAZLA İLERİSİNDE \n",
      "MÜŞTERİSİNİN HER TÜRLÜ İHTIYACINI IVEDİ CÖZÜM BULUYOR BANKAYI VE BANKANIN\n",
      " TÜM ÇALIŞANLARINI COK TEŞEKKÜR EDERİM. \n",
      "\n",
      "** 1070 10 yıldan fazladır bankanız ile çalışıyorum genel olarak çok memnundum. Son 1 senedir geliştirme \n",
      "adına geri dönüyor gibi. Kredi Kart ile taksit seçeneği kampanyalarınız artık yok kullanım amacı sadece \n",
      "para kart gibi oldu. AkbankMobil çok hızlı ve çok kullanışlıydı son guncellemeden sonra aşırı yavaş. Taksitli \n",
      "alışveriş yapamiyacaksan neden kredi kartı kullanayım. Vade farkı olmaksızın kullanmak istiyoruz. Teşekkürler \n",
      "\n",
      "** 1071 QR kodu okutup para çekemiyorum. Her türlü kamera izni konum izni verdiğim halde uygulamada \n",
      "para çek bölümünden tutarı gridiğim halde QR kodu okuma alanına geçmiyor. \n",
      "\n",
      "** 1072 bir aydır müşteri olmaya çalışıyorum uygulamayı indiriyorum Bilgilerim dolduruyorum \n",
      "fakat son aşamada her zaman aynı yanıt veriyor (Aksilik bir sorun yaşıyoruz en yakın şubeye \n",
      "müracaat edebilirsiniz)!! \n",
      "\n",
      "** 1073 Herşey güzel ama 5000 tl krediyi veremediniz kaç yıldır müşterinizim 5 bin tl hakketmiyormuyum en yakin \n",
      "banka yi işaret etmek ayıptır banka ile çalışan bankanın nerede olduğunu bilmezmi yinede teşekkürler \n",
      "stresimi aldiniz \n",
      "\n",
      "** 1074 Merhaba bu aralar eft ve havaleye sorun var diyerek izin verilmiyor neler oluyor ? \n",
      "\n",
      "** 1075 Çok fazla hat veriyor. Bazen çok acil yapmam gereken işlem oluyor\n",
      " 'bir hata oldu' uyarısı alıyorum İşlem yapamıyorum \n",
      "\n",
      "** 1076 Mobil uygulama ile bankamatikten QR kodu okutarak para çekemiyorum, bir türlü kod okuma \n",
      "ekrani gelmiyor Mobil uygulamada, konumu açtığım halde... \n",
      "\n",
      "** 1077 Selfi ile giriş ve parmak izi ile giriş note 4 de çalışmıyor gerek li izin leri verdiğim halde kamera açılmıyor \n",
      "\n",
      "** 1078 QR kodu okutup para çekemiyorum. Her türlü kamera izni konum izni verdiğim halde uygulamada \n",
      "para çek bölümünden tutarı gridiğim halde QR kodu okuma alanına geçmiyor. \n",
      "\n",
      "** 1079 mobil uygulamadan defalarca kredi kartıma otomatik ödeme talimatı verdiğim ve talimatın alındığını \n",
      "gosterdikleri halde talimatım kayda geçmemiş. kart borcum ödenmemiş kartıma bloke konmuş. kendi \n",
      "yanlışlarını müşteriden çıkarıyorlar!!! musteriye ceza kesmeden önce uygulamanizin düzgün çalışıp \n",
      "çalışmadığını kontrol edin!!! \n",
      "\n",
      "** 1080 Giriş ekranında en yakın akbank menüsüne girdiğimde \"cihazınızın konum servisleri kapalı durumda \n",
      "açmak ister misiniz\" diyor gps konum özelliği açık olduğu halde yine aynı hayatı veriyor. Konum özelliği diğer \n",
      "uygulamalarda sıkıntısız çalışıyor. Android versiyonu 8.0. Lütfen bu sorunu düzeltir misiniz? \n",
      "Ayrıca yeni arayüzünüz eskisinden daha karışık olmuş menüler ve tasarım çok kullanışsız. \n",
      "Başka banka kredi kartı ödemesi yapma menüsünü bulamadım bir türlü. Eski arayüzde çok kolaydı bu işlem. \n",
      "\n",
      "** 1081 On numara, beş yıldız. İdi yorumum da, verdiğim puan da.. Çalışan program çalışmaz oldu, \n",
      "şu anda size hizmet veremiyoruz, lütfen sonra deneyin demeler başlamış. Çok sık karşılaşıyorum, \n",
      "kabak tadı vermeye başladı. \n",
      "\n",
      "** 1082 Bir çok bankanın mobil uygulamasını kullanıyorum, içlerinde en beğendiklerimden birisi. \n",
      "Birden fazla kurumsal hesabı da eş zamanlı kullanmaya izin verse tadından yenmez \n",
      "\n",
      "** 1083 Netten kredi kartı başvurusunda bulundum ve kartım gelince mobil şubeden \n",
      "otomatik ödeme talimatı vermeye çalıştım ve 'şubeye uğrayıp sözleşme imzalamam' gerektiği ile ilgili uyarılarla karşılaştım. \n",
      "Madem işler böyle yürüyor kurye neden kartı getirip bir sözleşme imzalatmak için zahmet etti anlamadım.\n",
      " Akbank rakiplerine bakarak şubesiz bankacılık nasıl olur öğrenmesi lazım. \n",
      "Neyse biz de kartı kapattık kurtulduk. \n",
      "\n",
      "** 1084 Elimden gelse 1 sn bile Akbank ı kullanmam. Ama ne yapalım maaş müşterisiyiz, mecbur. \n",
      "Adamlar kurban arefesinde 1500 limiti aştığın anda 20-30 lira civarı para \n",
      "çekme ücreti istiyorlar bankamatikten.\n",
      " 4000 lira kurban paramı tek seferde yanlışlıkla, açıklamayı okumadan çeksem 50 lira keseceklerdi. \n",
      "4000 lirayı 3 günde ancak çekebildim kesinti yapılmadan. \n",
      "Sen -isim vermeyeceğim- bir katılımdan maaş müşterisi olmasan da içerdeki atm den tek seferde\n",
      " 20bin tl çekbiliyrsun. Krş masrafalınmıyor işlmlrden \n",
      "\n",
      "** 1085 Öncelikle maaş müşterisi olduğumu belirtmek istiyorum hesaba para geldiğinde herhangi bir uyarı yada\n",
      " buna benzer bir bildirim olmuyor bunun dışında ise iki farklı telefonda kullanıma izin vermiyor bununla \n",
      "ilgili düzeltme olursa sevinirim kolay gelsin iyi çalışmalar \n",
      "\n",
      "** 1086 Hay Day iyi bir oyun herkese önerdiğim bir çiftlik oyunu ancak yeni gelen güncelleme oyunu biraz bozdu melesa derbi de kişiye hak 5 e düştü ve puanlar 50 oldu ikincisi ürünlerin maliyeti baya fazla keşke yeni gelen güncellemede onu da düzektseydiniz oyun iyi ama güncelleme bazı kusurları yarattı bence eski hali daha iyiydi herkesin indirmesi gereken bir oyun ben çok severek oynuyorum tabi bazı hatalar giderilirse çok daha iyi olur 🙂☺️🙏 \n",
      "\n",
      "** 1087 Sevgili SUPERCELL öncelikle tüm oyunların bir harika (favorim brawl stars). Hay day de diğer oyunların kadar güzel. Ancak birkaç ekleme ve detayla daha güzel olabilir. Mesela tarlada kullanılan biber vb. ürünler kasalardan çıkabilir. Başka bi örnek verecek olursak mevsimleri ve hava durumlarını oyuna ekleyebilir ve hatta bunları oyuncular kendileri ayarlayabilir. Lütfen bu yorumumu dikkate alın. Sevgilerimi ve saygılarımı sunarım. \n",
      "\n",
      "** 1088 Hay day oyunu nu sevdim ama çok reklam var bide alıp para verip gidiyorlar çok sıkıcı ama guzel 2 puan kırdım )❤❤❤😊😊😊😊😊☺☺☺☺☺☺☺☺☺☺☺☺☺☺☺☺ 3 puan verdim \n",
      "\n",
      "** 1089 Nolur supecell hay day yeni güncelleme gelsin bu güncellemede oyundan atiyor bir, güncellemeyle bunu kaldıra bilirsiniz yeni güncellemede söz veriyorum ki, oyundan atmasa 5 puan verecegim \n",
      "\n",
      "** 1090 Hay day sevdim ama greg lütfen benim kanıma gelsin ne olur \n",
      "\n",
      "** 1091 Hay day oyununu seviyorum oyuna girince tıkladığın veya vadiye girdiğimde beni vadiden atıyor oyunda kaldığın süresindeki etkinliğindeki elmadağ ve hediyeler gelmiyor vizyondaki hediyeler yardımdaki puanlar ve hediyeler gelmiyor oyundan hep atılıyorum çok az oynayabiliyorum kimi zaman gazeteyi goremiyorum arkadaşlara geçişlerin çok ağır otundan tıklasana biraz tıklasana oyundan atiliyorumbu oyunu bırakmak istemiyorum cep telefonum son sistem en kısa sürede düzeleceğini umuyorum sevgilerimle \n",
      "\n",
      "** 1092 Ben 39 a gelmiştim tv nu mu değiştirdim nasıl devam edebilirim bana yardım edebilir misiniz ben HAY DAY oyununu seviyorum Adım selin kara değil düzeltin lutfen \n",
      "\n",
      "** 1093 En sevilen çiftçilik oyunu! Dokunuşlarınla güzel bir çiftlik inşa et! Gelmiş geçmiş en güzel çiftçilik oyunu, cep telefonlarının ve tabletlerin vazgeçilmezi olan Hay Day'e hoş bulduk. Tam tamına 122 farklı ülkede en çok oynanan oyun olan Hay Day'i tamamen ücretsiz oynayabilirsin. Burada topraklar çok verimli, komşular yardımsever ve hayvanlar da pek bir neşeli ve esprili! Burası çok özel bir yer. Yağmur yağmaz, kervan geçmez ama ekinler de ölmez. He bir de dünyanın en tatlı ve komik hayvanları \n",
      "\n",
      "** 1094 Merhaba !bu oyun cok güzel ama durduk yerde oyundan atiyo ve bu cok basima geldi😒bu guzel oyunu neden boyle kotulesdiriyosunuz?Lutfen bu sorun bir an once aradan kaldirilsin.Ben ciftlik oyunlarini cok severim🤩Hay day da en favorim🤭 \n",
      "\n",
      "** 1095 DAY yardim bekliyorum lutfen o kadar yerden yaziyorum ama bana yardimci olan yok rica ediyorum bir cevap verin cok seviyorum hay dayi \n",
      "\n",
      "** 1096 Merhaba hay day, arkadaş listeme girdiğimde oyun direk atıyor hata veriyor. Lütfen bu soruna bir çözüm üretin. Sevdiğimiz oyundan soğutmayın. \n",
      "\n",
      "** 1097 Kesinlikle harika ama keşke hani greg bize alışveriş yapmaya yürüyerek geliyor ya bizde gidebils ek bide hay day de bisey var google giriyorsun bize para veriyor oyun için herkez yapıyo oluyor ama ben yapıyorum olmuyor \n",
      "\n",
      "** 1098 Oyun çok ama çok güzel indirin derim mutlaka ama benim eksik gördüğüm bir kaç şeyi dile getirmek istiyorum 1- Greg'in çiftliği : Greg her gün yeni ürünler satıyor bize bu güzel ama sadece ürün satması yetersiz bence yani sipariş panosu, tekne , kasaba falan var bunlar içinde güzel şeyler düşünülebilir ve Greg bize görevler verse karşılığında rastgele ödül verse güzel olur bence mantıklı ve ilk gelen güncellemede siz yaparsınız bunu süpercell 🙈🙏 (Okuyanlara okuduğu için tsk edrm.) Hay Day 🐔🐔 \n",
      "\n",
      "** 1099 Kesinlikle harika ama keşke hani greg bize alışveriş yapmaya yürüyerek geliyor ya bizde gidebils ek bide hay day de bisey var google giriyorsun bize para veriyor oyun için herkez yapıyo oluyor ama ben yapıyorum olmuyor \n",
      "\n",
      "** 1100 Oyun çok ama çok güzel indirin derim mutlaka ama benim eksik gördüğüm bir kaç şeyi dile getirmek istiyorum 1- Greg'in çiftliği : Greg her gün yeni ürünler satıyor bize bu güzel ama sadece ürün satması yetersiz bence yani sipariş panosu, tekne , kasaba falan var bunlar içinde güzel şeyler düşünülebilir ve Greg bize görevler verse karşılığında rastgele ödül verse güzel olur bence mantıklı ve ilk gelen güncellemede siz yaparsınız bunu süpercell 🙈🙏 (Okuyanlara okuduğu için tsk edrm.) Hay Day 🐔🐔 \n",
      "\n",
      "** 1101 Ben Brawl stars ta supercell bağlandım şimdi Hay Day yapçam giriş \n",
      "\n",
      "** 1102 Çok güzelde bazı şeylere çok altın istiyor.Mahallelerde ben dışında kimse aktif değil.Daha çabuk geklişmeliyiz.Oyun çok cömert her bıt zıt da elmas veriyorlar.Teşekkürler hay day ekibi😺😺😺 Greg'de müşteri olarak gelip ürün almasıda güzel.Genellikle diğer oyunlarda yan hikaye arkadaşını hep unuturlar ama hay day'da greg unutulmuyor. \n",
      "\n",
      "** 1103 Bu oyun mükemmel ben bu oyunu 5 dakika önce indirim ama ben bu oyunu daha önce çok indirip silmiştim şimdi ise bidan indiriyorum. Ben bu Hay Day Oyununu çooooooooooooooooooooooooooooooooooooooooooooooooooooooooooooooooooooook seviyorum. 😀😃😄😁😆😅🤣😂😍🤩😘😻😺😸💋💌💘💝💖💗💓💞💕💟❣️💔❤️🧡💛💚💙💜🖤👄👍 Bu yoruma kakılanlar varsa lıke atsınlar. \n",
      "\n",
      "** 1104 O Okadar güzel bir oyun ki... Daha önce indirmiştim ve 23.seviyeye gelmiştim ama guncellemedigim için silmek zorunda kaldım... ama okadar güzel ki bence mutlaka yükleyin.💜 HAY DAY 💜 \n",
      "\n",
      "** 1105 Oyunu severek oynuyorum üretilen ürünlerin süreleri kısaltılsa daha güzel olur birde makinalar çok pahalı varımı yogumu sattım depoyu kapattım anca aldım düşünun ne mucadele verdigimi Yeni güncelleme de sorun var lütfen yardımcı olun teşekkürler hay day ekibi \n",
      "\n",
      "** 1106 Çok güzel bir oyun çok beğendim.Ama resimde tavuklarla oynuyorum niye oyuncuların resmi görünmüyor anlam veremedim.Yabanci arkadaşlarla oynuyorum ama isimler değişik bayan mi erkek mi bilmiyorum.profilo resmi görünse iyi olur...saygılar ve selamlar hay day \n",
      "\n",
      "** 1107 Oyun çok güzeldir supercellin bravl stars oyununu ve hay day oyununu oynayiram ❤️❤️❤️❤️❤️❤️❤️ \n",
      "\n",
      "** 1108 Hay day o kadar güzel bir oyun ki kesinlikle yükleyin. Sadece 1 yıldız kırmamim sebebi ise 2 tane supecellin oyunlarından brawl stars,hay day oyunlarında ben id im daha önceden bağlıydı ama silince geri alamadım cunki kod atmadiniz. 2. Sorunsa oyun beni sürekli atıyor tlf samsung galaxy j7 pro güncelledim olmadı format attım olmadı. Supercell (cevap yazarmısın) bu sorunları düzlemezseniz sadece beni deyil milyonlarca kullanıcı gidecek. \n",
      "\n",
      "** 1109 Supercell yaptıklarını seviyorum ama brawl starsı onlardan daha fala severim. Hay dayı yeni yüklüyom ama diyer supercelldeki diyar oyunlar yok ama nasıl olduğunu biliyorum herkese selamlar. Brawl starsta ben ama acayip ama çok acayip severim \n",
      "\n",
      "** 1110 Oyun çok güzel hatta bu firmanın yaptığı bütün oyunları oynadım ama artık sadece brawl stars ile hay day oynuyorum neyse oyun güzel ama bazen oyundan atıyo tekrar giriliyo.eskiden atmıyodu artık atıyor. herkesde böyleymiş. O düzeltilirse mükemmel olur \n",
      "\n",
      "** 1111 Yeni güncelleme gelmiş ama hiç beğenmedim yeni güncelledikden sonra insanların resimleri hay day amlemi olarak gözüküyo tekrar güncelleme getirilmesini istiyorum \n",
      "\n",
      "** 1112 Bende brawl stars clas of clans hayday var supercelin oyinlarini çok seviyorum \n",
      "\n",
      "** 1113 Oyunu çok beğendim yeni güncelleme oyunu daha güzel yapmış 1☆ verenlere baktım yok hay day bozuk,yok saçma sapan oyun bu. Supercell hakkıyla 5☆ alıyor \n",
      "\n",
      "** 1114 Hay day oyunu çok güzel ama hayvanların paralı değil yeni seviyeye geçtiğinizde vermesini ve bu sorunun çözülmesini istiyorum. \n",
      "\n",
      "** 1115 Sizi çok seviyorum bi oynunuzu bayılarak oynuyorum ama hay day oynunda birşey var oyun uyarıverip çıkıyo yoksa bütün oyunlarını bayıla bayıla oynuyorum \n",
      "\n",
      "** 1116 Sizi cok seviyorum hay day ekibi 😚 \n",
      "\n",
      "** 1117 Hay day i çok seviyorum \n",
      "\n",
      "** 1118 Hay day ı yeni indiriyorum ama bence güzeldir çünkü supercell yaptı❤🧡❤🧡❤🧡❤🧡❤ \n",
      "\n",
      "** 1119 Hay day dünyanın en iyi oyunu sevmeyenin aklı kittir O derece \n",
      "\n",
      "** 1120 Sizi çok seviyorum bi oynunuzu bayılarak oynuyorum ama hay day oynunda birşey var oyun uyarıverip çıkıyo yoksa bütün oyunlarını bayıla bayıla oynuyorum \n",
      "\n",
      "** 1121 Hay day seni çok seviyorum \n",
      "\n",
      "** 1122 Cok guzel bir oyun cok seviyorum bu oyunu he gun bu oyunla oynuyorum hic burakmiyorum cocuklar tarafindana cok guzel herkesin bileyici bir oyun bence hic bir yere girmiyorum telefonda sadece bu oyunla oynuyorum cunki her kesin bileciyi bi oyun❤🥰olsemde bu oyunu hic burakamam cunki cok seviyor butun oyunlardan bu oyun cok guzel bence bence sizde guzelmi yorumlara yazin❤🥰😘❤👍💬butun oyunlarin icinden sadece bu ouyuna giriyormum sizde bu oyuna giriyorsunuzmu😘😍🥰hay day hay day hay day hay day \n",
      "\n",
      "** 1123 Oyunu seviyorum bagimlilik yapiyor elimden birakamiyor cokk guzel bir oyun sadece hay day bazen oyundan cikiyor kendi kendine onu sevmiyorum bi puanda ondan kirdim ben oyunumu kayp etdim ve halada ariyorum bulurum insAllah neyse ya cokkkkk guzel bir oyun tavsiye ederimmmm bagimlilik yapdi valla hay day siz duramiyorum. Sadece ara bir donuyo baska birsey yok aslibda 1 lvlden baslayanlar evet sikila bilir ama biraz daha fazla lvl kalkarsaniz inanin bana coookk guzel oluyor ve sizede bagimlilikyap \n",
      "\n",
      "** 1124 Iyi geceler. Hay Day oyununu severek oynuyorum. Güncellemelerden sonra oyun açılmıyor ilgilenirseniz sevinirim. \n",
      "\n",
      "** 1125 Vazgeçemiyorum hay day den cook keyifli seviyorum \n",
      "\n",
      "** 1126 Hay Day seni cok seviyoruz bunu biliyorsun 😊 balta ve testere bulma sıkıntımız var.agac kesiyoruz odun stoklasak demirde uretiyoruz balta ve testereyide kendimiz üretsek ne de güzel olurdu 😉 \n",
      "\n",
      "** 1127 Çooookk güzel bir oyun bağımlılık yapiyor Şuana kadar oynadığım en güzel oyun Farm Ville den bile güzel bir oyun fakat bu yorumu yazarken oyun tekrar yükleniyor çünkü sildim oyun kendi kendine durduruldu diyor bence bu bir yıldız kırıp 4 yıldız vermek için bir bahane değil bu sebeple dünyadaki en güzel oyun olduğu için puanim 5 fakat oyun bir süre gećtikten sonra sıkıyor o yüzden oyunu ben bıraktım bunun için yarım puan kırmak istedim ama 1 puan kırabilidiģimiz için 4 puan verdim \n",
      "\n",
      "** 1128 Oyun gerçekten çoooooooooook güzel ama bir sorun var. Benim tabletimin çok iyi olmasına ramen benim tabletime indirince sürekli çıkıyor ama bu oyunu annemde oynuyor ve orda çok güzel yanıt veriyor lütfen oyunu düzeltin oyunu çoooooooooook seviyorum kesinlikle 💯💯💯💯💯 puan hak ediyor ama bazı telefonlarda yanıt vermediği için 1puan kırdım oyun mükemmmmmmmeeeeellll \n",
      "\n",
      "** 1129 Oyunmükemmel ama çoğu şeyi yapmak çok zor mesela soya fasulyesi 20 dk nedir bee bu zaman daha kısa olması bu oyunun hasılatını yukseltir bu yüzden 4 yıldız verdim bunu hak etti \n",
      "\n",
      "** 1130 Super bi oyun eyer bu kadar eglenceli bir oyunu kim icad etmisse ellerine saglik tesekkur ederim size.Ama tek bir akselik var ki,internet olmadigi zaman oyun acilmiyor,gogldan indir diyo bir tek o.Onuda duzeltseniz cok iyi olur arkadaslar.Sizden arzum,dileyim bir tek o nolursunuz onuda duzeltim oyun lap muhtesem olsum.Size soluyorum herkes oyunu beyenecek ve puan verecek.Siz yeter ki,bu sorunu telahivi edin.Yapabilicekmisiniz.Nolur😘😘💙❤💚💛💜 \n",
      "\n",
      "** 1131 Bana deseniz ki, bu oyuna 100 üzerinden kaç puan verirsiniz diye ben 100 derim. oyunun bir özelliğini sevmiyorum \"internetli\" seviyeler göz açıp kapayana kadar yeni seviyeye geçiyor ilk indirdiğim oyun bu ve ben ilk oyunum olarak çoooooooooooooooooooooooooooooooooooooooooooooook sevdim.Ben bu oyunu karşı komşum ile oynuyorum. Satıyorsunuz, alıyorsunuz, reklama veriyorsunuz, ve reklama girip alıyorsunuz yani reklam dediğim gazete. Ama 7.seviyede açılıyor maalesef.Şu an 28.seviyedeyim.💙 \n",
      "\n",
      "** 1132 Dünyanın en popüler çiftlik oyunu elinize emeğinize sağlık teşekkürler hay day ekibi \n",
      "\n",
      "** 1133 DÜNYANIN EN IYI ÇIFTLIK OYUNUNU SUNUYORUM!Karşınızdaaa HAY DAY!Arkadaşlar çoook eğlenceli bi oyun.En iyi anlatabilecegim kelime MUHTEŞEM olur.Zaten bu aralar güzel bi ÇIFTLIK oyunu bulmayı istiyodum.Neyseki şanslıymışım.Yapanın eline emeğine sağlık!!!Hey sen hemen oradaki YÜKLE tuşuna tikla!😃💙💚💛💜💖👌👌✌👊 \n",
      "\n",
      "** 1134 çok güzel bir oyun çiftlik oyunlarını severek oynuyorum ama hayday içlerinde oynadığım en güzel çiftlik oyunu eğlenerek oynadığım çok az oyundan biri insanı hiç sıkmıyor en mutsuz ve üzgün anlarınızda oynadığınızda bile kafanızı dağıtıyor gerçekten muhteşem ötesi bir oyun 5 yıldız bile az 10 yıldız olsa hiç düşünmeden 10 yıldız verirdim kesinlikle yükleyin kötü diyenlere aldırış etmeyin emeği geçen herkesin ellerine sağlık muhteşem bir oyun \n",
      "\n",
      "** 1135 araşlar bu oyun için kimse kötü bir şey demesin ben nerdeyse 20 tane çiftlik oyunu indirdim ve en ama en iyisi bu oyun hay day oyununu yapan kişinin ellerine sağlık 🤩🤩 \n",
      "\n",
      "** 1136 Oyun harika indirmeyen pişman olur oyunu indirin beğenin ve Nehir Farm çiftliğini ziyaret edin çok eğlenceli oyun Teşekkürler HAY DAY \n",
      "\n",
      "** 1137 Merhabalar. Ben Hay Day'i cidden çok seviyorum bazen zorlu olması da eğlenceli oluyor. Çiftliğimi günden güne güzelleştiriyorum. Ve her gün yeni şeyler eklemek çiftliğime beni mutlu ediyor. Eğer bu uygulamayı yüklemeyi düşünen arkadaşlar; yükleyin hiçbir sıkıcı yönü yok tamamen mükemmel bir oyun. HEMEN YÜKLE VAKİT KAYBETME! \n",
      "\n",
      "** 1138 Gerçekten Oyunu Yapanın Ellerine Sağlık Bizim Sülalede Oynamayan Kalmadı Telefondan Anlamayan Nenem Bile Hay Day'a Başladı :D \n",
      "\n",
      "** 1139 Bu oyun kadar harika birşey olamaz kesinlikle indirmelisiniz burdan supercelle thanks. Hay day yapimcilarinada elinize sağlık \n",
      "\n",
      "** 1140 Bence yeni güncelleme harika olmuş yeni özelliklerini çok sevdim bir kaç şeyi sevemedim ama hiç önemli değil o özelliklerde değişiklik yapabilirler daha iyi bir oyun olur hem de çok oyuncu kazanabilir eğer çok oyuncu kazanırsanız çok mutlu oluruz 3 yıldır bu oyunu oynuyorum arkadaşlarımda bu oyuna bayıldılar yani bu yorumdan sonra oyunu oynamanız gerek hay dayı yapana çok çok teşekkür ediyorum bu oyun en iyi çiftlik oyunu olabilir ama bence çiftliğe okul, AVM ve kafe eklenebilir di bence \n",
      "\n",
      "** 1141 Supercell tüm oyunların için çok teşekkür ederim.2013'den beri uğraşıorsun hay day oyununu şuan indiriyorum Babamın telefonunda yüklüydü,2 3 ay önce falan çok sevmiştim Brawl Starsda oynuyorum 2 ay indirememiştim hay day i ama şim di indirdim \n",
      "\n",
      "** 1142 Çiftlik oyunu arıyorsanız bunu kesin yükleyin ama traktör filan yok ama gelsin ekinler büyüdükçe bişi ama beleş olsun oyuna başladım olsun bide bede 29 toprak olsun gazete açık olsun oyuna bala dimi 100 altın olsun oyunu sonradan yukleyenlerede gelsin fazla yer kaplaması supercell ben hay day onuda yükledim brawl stars onuda yani bütün oyunları nizi yükledim uhh elim kırılan kadar yazdım elim açıdan 😊😊😊😊😊 \n",
      "\n",
      "** 1143 Hay Day 'ı 4 yıldır oynarım ve gerçekten sevdim. İndirmelisiniz , Zor bir oyun değil Harika bir çiftlik oyunu 😊 \n",
      "\n",
      "** 1144 Oyun süper ama daha çok özellik ekleme bilir gerçekten bu oyunu yapanların ellerine sağlık yemin ediyorum en güzel çiftlik oyunu budiyer çiftlik oyunlarına alışamıyorum en güzel hay dağ bu oyunu yapan kişilere sesleniyorum ellerinizi sağlık sizlerden başka oyunlarda bekliyoruz... :) :) \n",
      "\n",
      "** 1145 Severek oynadığım bir oyun fakat son zamanlarda dergide alınmaya müsait olan ürüne tıklarınca senden önce başkası aldı diyor ve bu çok sık oluyor.. Tamam ürünlere talep çoktur bazen olabilir bu fakat sık olunca insan oyundan sıkılıyor.. Mesela dergiyi karıştırıyor sayfaların içindeki ürünlere bakıyorum hop yeni dergi açılıyor fakat ürünler çoktan satılmış oluyor.. Bence reklam verildiğinde 3 saat dergide kalacağına 1 saat kalsın ki zaten belli dakkika dolunca yine reklam verebiliyoruz.. Bir de makineler çok pahalı alamıyoruz ücretleri daha cüzi bir rakam olmalı..Bir arkadaş yazmış hangi ürüne ihtiyaç varsa alıcı ihtiyacı olan ürünü reklam verebilsin demiş evet haklı o arkadaşa katılıyorum.. Sadece mahalle arkadaşlarıyla kısıtlı kalmamalı ürün ihtiyacı.. Tmm mahalle de bu durum ücretsiz ama diyer oyuncularında görmesi için olan ücretli olabilir.. En azından facebooktan, oyun içi ekli arkadaşlardan ve takipçilerimiz olan arkadaşlardanda talepte bulunabilsek süper olurdu.. Bunun dışında herkese tavsiye ederim oyunu yükleyin pişman olmazsınız.. Ki artık Hay day çiftlik oyunlarında bir marka.. 😊 \n",
      "\n",
      "** 1146 Bence harika bir uygulama olmuş. Ben bunu oynamıştım o günde ilk oynayışımdı ve şimdi de bu size bu oyunu yaptınız diye teşekkür edüyorum ama ben çiftliğinin adını hâlâ ama hâlâ koyamadım. O yüzden bir puan kırıp 4 puan yapıyorum. Yapanların ellerine sağlık çok güzel bir oyun olmuş bu da benim size küçük bir hediye yani küçük. Bir hediye dediğim. Size bir emoji bırakmak çok küçük bir hediye olsada umarım beğenirsiniz. (Sevgilerimle gamze efiloğlo)🏅🏅🏅🏅🏅🏅🏅🏅🏅🏅🏅🏅🏅🏅🏅madalyolar hediyem \n",
      "\n",
      "** 1147 Oyuna gerçekten bayıldım. Ara ara hay day da küçük sürprizler yapabiliyor. Fazlasıyla bağımlılık yapıyor. Ama bir süre sonra alışınca daha çok zevk almaya başlayacaksınızdır. Kesinlikle muhteşem bir oyun. Tereddütsüz indirebilirsiniz... \n",
      "\n",
      "** 1148 Mahalle ticareti çok güzel olmuş ellerine sağlık hay day \n",
      "\n",
      "** 1149 Hay day benim en sevdigim oyunu kim yaptıysa eline koluna sağlık \n",
      "\n",
      "** 1150 hay day in 7. yaş günü kutlu olsun supercell ekibi elinize kolunuza sağlık vadi çok güzel yeniliklere devam daha çok hayvan ve elmas sıkıntısına bir çözüm lütfen nadiren elmas çıkıyor lütfen ayarlayın saygılarımla \n",
      "\n",
      "** 1151 Hay Day iyi bir oyun herkese önerdiğim bir çiftlik oyunu ancak yeni gelen güncelleme oyunu biraz bozdu melesa derbi de kişiye hak 5 e düştü ve puanlar 50 oldu ikincisi ürünlerin maliyeti baya fazla keşke yeni gelen güncellemede onu da düzektseydiniz oyun iyi ama güncelleme bazı kusurları yarattı bence eski hali daha iyiydi herkesin indirmesi gereken bir oyun ben çok severek oynuyorum tabi bazı hatalar giderilirse çok daha iyi olur 🙂☺️🙏 \n",
      "\n",
      "** 1152 Oyundan çıkamıyorum ya öyle bağımlı oldum ki 🤗 harika bir oyun elinize sağlık sadece çok şarj yiyor ona bir çözüm bulunabilirse sevinirim 😅 sen harika bir detaysın hay day sevgilimle bile bu kadar vakit geçirmiyorum😂😍 \n",
      "\n",
      "** 1153 Uygulamayı açtığımda otomatik başlatılan uygulamalar bölümünü açıyor. İptal ettiğimde de ana ekran resmi geliyor ve öyle kalıyor. Güncellemede yapılan bir sorun var. Kontrol edilmesini tavsiye ederim. \n",
      "\n",
      "** 1154 Sakın yıklemeyin 4 ürün sipariş verdim her biri ayrı geliyor ve ekstra kargo pa ile karşılaşıyonuz yetkili kimseyede ulaşılmıyor \n",
      "\n",
      "** 1155 Ben buradan ürün aldım ve gayet güzel geldi sadece eve getirmediler \n",
      "\n",
      "** 1156 Hiç memnun kalnadım bir sipariş verdim siparişimde 24 ürün vardı 20 ayrı kargoda geldi ne aldım ne yaptım hiç anlamadım son 3 ürün kaldı o da gelsin bi dahada lanet olsun defacto bitti benden mazanın önünden bile geçmem resmen eziyet insana biz sıkıntı lomasın diye internet alış veriş yapıyoz \n",
      "\n",
      "** 1157 Daha önce Güzel diye yorum yaptım ama siparişten sonra kargo lanma süreci çok uzun sürüyor 1 hafta oldu hala kargolanmamis ürünler var,birde bu siparisleri bayram zamanın da versek hiç gelmeyecek anlaşılan. Kargo firması da bi bukadar yavaş 4_5 gün önce verilen kargo daha elimize ulaşmadı.. Yanı neresinden baksanız fiyasko. Firma güzel mallar güzel ama geri planda ki çalışma kötü..Kararsizim açıkçası bidaha alışveriş yapıp yapmamakta.. \n",
      "\n",
      "** 1158 Ben bu uygulamayı çok farklı kullanıyorum :) Mağazadan bakıp seçimimi yapıyorum, bedeni olmasa bile uygulamadan istediğim bedeni satın alabiliyorum. Mağazadan çıktığımda elimde çanta olmuyor. İki gün sonra ürün evime geliyor :) Defacto Akasya AVM'de bu konseptte \"AKILLI\" bir mağaza bile yapmış. Teknolojinin ilerisinde bir marka. Başarıları artarak devam eder umarım. \n",
      "\n",
      "** 1159 Ürün kalitesi güzel ama şu online satış işinde sıkıntı var, 6 parca urün için 4 kez kargo beklemek zorunda kaldim... Aradigimda fsrkli depolardan ciktigini soylediler ama yanlis bu uygulama tek seferde göndermeyeceğinizi bildiğim icin siparis olusturmaya korkuyorum..2 gun once verdigim sipariste de ayni durumu yasarsam son olacak... ( siparislerim temassiz kargo ile tek seferde geldi cok tesekkurler ) \n",
      "\n",
      "** 1160 SAKIN ONLINE ALIŞVERİŞ YAPMAYIN!! 28 gün önce Aydın Söke Novada Avmdeki mağazasından alışveriş yaparken çalışanlardan biri 'EĞER ONLINE ALIRSANIZ DAHA UYGUNA GELIR VE 2 ila 5 GÜN ARASINDA SIZE ULAŞIR' diyerek bizi mağdur etti.Ona güvenip normalde elimizde kasaya götürdüğümüz 7 parça ürünü verdik.3 ürün gelirken diğer 4 ürünümüz 1 aydır gelmedi ve müşteri hizmetleri asla yardım etmedi!Her gün aramamıza rağmen kargoya verildi yapacak biseyimiz yok denildi! ÜSTELİK PARAMIZ DA IADE EDILMIYOR! \n",
      "\n",
      "** 1161 Biraz yavaş olsa da gelişeceğine inandığım bir uygulama. Uygulamadan verilen siparişlerden kargo ücreti alınmaması güzel bir jest. Akşam geçtiğim sipariş 24 saatten daha kısa sürede geldi. Başarılarınızın devamını dilerim. \n",
      "\n",
      "** 1162 Defacto kadar beceriksiz bi firma görmedim Aylar önce sipariş vermiştim adrese 9 gün sonra vardı ve adres istanbulun göbeğinde, 2 gün önce tekrar sipariş ettim farklı bir adrese fakat defacto bu siparişi eski adresime kargoluyor birde kargolanmadan önce 10/15 defa iletişime gectim hiç bir şekilde cevap verilmedi, kargoya verildi şuan olmadığım bir adrese gidiyor, Müşteri ilişkileri berbat. Kargo gecikmeli geliyor, ve iletişimde en az 3 gün gec cevap geliyor oda sacma cevaplar. Tavsiye etmiyrm \n",
      "\n",
      "** 1163 Ödeme seçeneği kolaylığı olan nadir mağazalardan, teşekkürler Defacto \n",
      "\n",
      "** 1164 Güzel ama çok geç kargoya veriliyor \n",
      "\n",
      "** 1165 DeFactoyu seviyorum \n",
      "\n",
      "** 1166 Seviyorum Defacto seni \n",
      "\n",
      "** 1167 uygulamayı indirin 50 tl ye 10 tl indirim yapalım diye mesaj geldi yeni sezon ürün almama rağmen indirim uygulanmadı 3 gündür sistemsel hata deniliyor eşimde yükledi aynı hata ondada oldu defacto milleti kandırıyor herkes telefonuna indirsin diye teşvik mesajları yolluyorsunuz sonrada bizden kaynaklı değil isterseniz silin diyorsunuz indirdikten sonra size prim kazanırmışım zaten sorun odaklı çalışın LCW harika herzaman müşteri memnuniyeti sunan bir firma lanet olsun size. \n",
      "\n",
      "** 1168 Cemre Solmaz Meleğim İçin indiriyorum Tebrik Ediyorum İyi seçim Yapmışınız Csfc BAŞARACAK🌵 \n",
      "\n",
      "** 1169 Uygulamayı indirdim fakat hiçbir şekilde uygulamaya giremiyorum,beni otomatik başlatmaya atıyor sildim gitti \n",
      "\n",
      "** 1170 İğğrreennnçç bir uygulama artık geliştirin bıktım sorun yaşamaktan geri siliyorum her indirdiğimde bidaha indirmicem \n",
      "\n",
      "** 1171 Ya arkadaş yurtiçi ile çalışmayın 10 kasımda sipariş verdim. 13 kasımda defactodan mesaj geldi ürününüz kargoya verildi diye ürün bugün yolla çıkıyor. Ya siz baskı kurmazsanız bu adamlara böyle ürünüm geç gelir. Bu sizin yüzünüzden oldu. Müşteri hizmetlerini aradığımda cuma günü gelmesi gerek dedikleri ürün daha bugün kargoya veriliyor çarşamba gelecek. E ben ne anladım 1.5 hafta sonra gelen üründen. Sanki yurtdışından gelecek!!!! De facto şu konuda suçludur. Yurt içi ile çalışmayacak. Nokta. \n",
      "\n",
      "** 1172 Sırf Cemre solmaz var diye yükledim \n",
      "\n",
      "** 1173 DEFACTO PIŞMANLIKTIR DeFacto dan birkaç parça ürün sipariş ettim. Ürünler stokta var gözüküyordu. Ödemeyi yaptım. Birkaç gün sonra ürünlerin iptal olduğunu gördüm. Müşteri temsilcisi yoğun ilgiden tükendiğini söyledi. Tükendiyse neden hala satışta. 1 ay Sonra tekrar alis veriş yaptım. Yine aynı durumla karşılaştım. Galiba DeFacto bunu kar amacı olarak görmeye başladı. Önce parayı alıyor. Sonra kafasına göre iptal ediyor açıklaması ise yoğun talep \n",
      "\n",
      "** 1174 Kardeşim banka kartı yazıyor ama bilgileri girince kredi kartı girin diyor, bunun yüzünden 7.99 TL hem kargo ücreti 6.89 TL de kapıda ödeme verdim. Ne gerek vardı buna, düpe düz soygun bu!!!! \n",
      "\n",
      "** 1175 Kötü. Seçenekler düzgün çıkmıyor. Arama kısmından aradığımı ürün doğru yazılsa bile çıkmıyor. Bir ürün filtreleyeceğim aynı kategori 30 defa çıkıyor. LC Waikiki filtreleme çok iyi. Uygulama çok iyi. İnceleyin bence \n",
      "\n",
      "** 1176 Ben o kadar beğendim ki elimde para olsa dükkanı alırım harika eşyalar ayakkabılar yaaaaa... işte bu yüzden seviyorum DEFACTO'yu şimdi kötü Yorum yapanları bir kere aldırmayın...benden size söylemesi harika şeyler var almanızı tavsiye ederim. arkadaslar!benden bu kadar!hsjsjdnfbndndjdd SAYGILARIMLA... \n",
      "\n",
      "** 1177 Ben bu kadar kullanışlı bir mobil şubeye rastlamadım.kredimi haftalar öncesinden yatırıp indirim alıyorum bütün hesap hareketlerimi ayrıntılı görebiliyorum havale eft fatura ödemeleri hiç sıkıntı yok sorunsuz hallediyorum şifremi doğru girersem eğer beklemeden hesabıma bağlanıyorum bütün bu artılardan dolayı tebrik ediyorum \n",
      "\n",
      "** 1178 Ancak başka kredi kartlarının ödenmesinde ve başka hesaba. Eftlerde; işlem gerçekleştikten sonra bu işlemlerin kolayca tekrar yapılabilmesi için kayıt etme fonksiyonunun dahil edilmesi daha faydalı olur. Birde; düzenli ödeme talimatı fonksiyonu eklenmeli... \n",
      "\n",
      "** 1179 Çok güzel çok kullanışlı program sayesinde her türlü ödemeyi kolaylıkla yapıyorum fakat havale eft veya fatura yatırırken hesap numarası yada abone numarasına yapılan ödemenin kime neye olduğu isim falan hiç bişi yok eft yapıyosun hesap kimin adına numarayı yanlış girsen gitti para lütfen düzeltin artık çok büyük bi eksik bu \n",
      "\n",
      "** 1180 Müşteri hizmetlerine laf anlatmaya uğraşmak istemediğim için buraya yazıyorum. Sitenize üye bir mağazadan alışveriş yaptım iki üründen birini göndermediler. Bunu ürünün yorumlarına yazmak istedim ki mağazadan sipariş verilmesin diye, yorumum yayınlanmadı.Normalde mağazayı kapatmanız gerekirken haksızlığa eşlik ediyorsunuz. Her ürün puanı 5 her yorum güzel olsun istiyorsunuz. Yönetmek objektiflik gerektirir, siz taraflı davranıyorsunuz. Çünkü ne kadar mağaza o kadar para değil mi! \n",
      "\n",
      "** 1181 En çılgın indirimleri bu arkadaşlar yapıyor. Ama müşteri hizmetleri ve iade kısmı çok kötü. Çoğunlukla kötü yorumları yayınlamıyorlar. Yani ürün yorumları mağaza puanı falan güvenmeyin. Ne bileyim alışveriş yapmaktan çok kumar oynamak gibi. Ama denk getirirseniz çok ucuza alışveriş yaparsınız. \n",
      "\n",
      "** 1182 Kullanımı kolay. Ürün çeşitliliğinin fazlalığı, teslimat süreci ile süresi oldukça hızlı oluşu ve müşteri hizmetlerinin ilgisi ve çözüm hızı ile çok başarılı. Eşim ve ben ne satınaldıysak süreçten memnun kaldık. Tebrikler ve teşekkürler. \n",
      "\n",
      "** 1183 Güvenle alışveriş yaptığım ürün çeşitliliği bol trendyoll expres kargoyla hızlı teslimat kullanımı kolay uygulaması ile güvenli bir şekilde alışveriş yapabileceğiniz bir uygulama. İndirim kuponu ve indirim günleri en çok sevdiğim günler tabiki. \n",
      "\n",
      "** 1184 İndirim sürecinde kullandığım bir uygulama oldu. Kullanım kolaylığı, gerçek' indirimler, kaliteli ürünler, hızlı teslimat, güzel paketleme eşimle birçok ürün aldık hepsi sorunsuz sıkıntısız hızlı geldi. Biz tavsiye ediyoruz tesekkur ediyoruz. Başka site de kullanmıyoruz 🌸 hiç bozulmaması daha iyiye gitmesi dileklerimle.. \n",
      "\n",
      "** 1185 Trendyol benim için 1 numaralı alışveriş sitesi herşeyimi ordan güvenerek alabiliyorum. Genelde hep memnun kaldım. Ürünle ilgili bir sorun yaşasam bile geri iade kolaylığı bana daha da fazla güven veriyor. Teşekkürler Trendyol 🤗 \n",
      "\n",
      "** 1186 En uygun fiyata bu kadar bol çeşidi bir arada bulmak harika. Hızlı ve sağlam teslimat için de ayrıca teşekkürler 🤗 \n",
      "\n",
      "** 1187 Güzel ve kullanışlı,uygun,kaliteli,ilgili ve güvenilir bir uygulama.Yaptığım alışverişlerde içim rahat ve güvenerek yaptım ve bir sorun olduğunda hızlı ve olumlu geri dönüşler aldım,emeği geçenlere teşekkür ederim,kesinlikle telefonunuzda olması gereken bir uygulama.Ayrıca her bütçeye uygun ürün çeşidi mevcut,her istediğimi buluyorum,çok sık indirim kampanyalarıyla daha mutlu oluyorum.Teşekkürler trendyol🤗 \n",
      "\n",
      "** 1188 Kullanımı kolay ve kaliteli bir uygulama. Anında indirimlerden haberdar oluyorum, iade ve iptal süreci çok hızlı, ürün çeşitliliği fazla. Tavsiye ederim \n",
      "\n",
      "** 1189 Ürün çeşitliliği, iade süreçleri ve fiyatları çok uygun, bugüne kadar uygulamayla ilgili hiçbir kötü deneyimim olmadı. Teşekkürler Trendyol. \n",
      "\n",
      "** 1190 Sitede çeşit çok fazla aradığımı kolayca buluyorum. Ayrıca memnun kalmadigim ürünlerde iade kolaylığının olması memnuniyet verici. Emeklerine sağlık. Teşekkür ederim. \n",
      "\n",
      "** 1191 Uygulama güzel ürün çeşidi bol. Reklam yapıldığı kadar indirim yok ama Güvenli ve hızlı 1 alışveriş daha oldu. Ürünler saglam. Trendyola satıcıya ve kargoya teşekkürler. \n",
      "\n",
      "** 1192 Ürün çeşitliliğinden ve verdiğim siparişin teslimatından ve takip sisteminden memnun kaldım \n",
      "\n",
      "** 1193 Türkiye'de online üzerinden ticari faaliyette gösteren en iyi firmalar arasında diyebilirim.uygulamasi kolay ve basit. Uygun fiyat ve kargo oldukça hızlı.Ayrica Ürün kapina geliyor begenmedigin yada beden olmadığı takdirde ücretsiz kargo ile iade edebiliyorsun. İade ücretleri aynı anda geri iade ediliyor.daha iyisini yapan yok derim. Trendyol firmasına çok teşekkür ederim. \n",
      "\n",
      "** 1194 İlk kez alışveriş yaptım ve çok memnun kaldım ürünlerim 15 gün içerisinde geldi paketleme işlemi çok başarılıydı. Tekrar alışveriş yapmak için ürünlerimi favoriledim bekliyorum. Teşekkürler trendyol. \n",
      "\n",
      "** 1195 internet üzerinden alışveriş yapmaktan korkardım ilk defa Trendyol dan denedim ama yanılmışım hem mağazalardan daha ucuz hemde bol çeşit diğer benzer uygulamalardan ürün aldım rezil oldum başka uygulamarı boşverin ama trendyol kadar hızlı güvenilir müşteri odaklısını görmedim teşekkürler TRENDYOL \n",
      "\n",
      "** 1196 Diğer online alışveriş siteleriyle ilgili olumsuz yorumları okurdum hep zihnimde beliren düşünce ya trendyol'da bu sitelerden biriyse diye şüpheyle yaklaşıyordum bir gün bir ürün almak istedim ve bir defayla bir şey olmaz diyerek ürünü sipariş ettim ürünüm ile ilgili hiç bir süreçte sorun yaşamadım ve o gün bu gündür güven duyduğum tek firma olan trenyol'dan alışverşimi yapıyorum herkese'de tavsiye ediyorum trendyol'dan şaşmayın teşekkürler türkiyenin bir numarası teşekkürler trendyol \n",
      "\n",
      "** 1197 Gerçekten mükemmel bir uygulama istediğim herşeyi kolaylıkla bulabiliyorum hiçbir sıkıntı sorun yaşamıyorum sadece indirim günleri acayip bir yoğunluk yaşanıyor sayfa kilit oluyor onunla ilgili bir çözüm bulunabilir haricinde içerikleriyle gayet basit ve kullanışlı bir alışveriş sitesi teşekkürler Trendyol \n",
      "\n",
      "** 1198 Çok memnun kaldım, Hızlı İstanbul içi 2 gün, Şehir dışına PTT kargo ile 3 günde teslim edildi. \n",
      "\n",
      "** 1199 Buradan bir çok ürün aldım hepsindende memnun oldum. Kargoda olabildiğince hızlı, sağlam ve eksiksiz olarak teslim edildi. Teşekkürler. \n",
      "\n",
      "** 1200 Uygun fiyatlar mağazalara gitmeden kapımıza geliyor. Kullanımı kolay. Iade etme süreci cok iyi. Yıllardır kullanıyorum. Teşekkürler. Kücük bir tavsiye olarak pesin fiyatına taksit opsiyonu da çok iyi olurdu.... \n",
      "\n",
      "** 1201 Bugün sipariş ver hemen kargoya verilsin ;) Hızlı teslimatlar için teşekkürler trendyol🤗 ( Tabi bu karantina dönemi için geçerli değil çünkü gerçek anlamda yığılma vardı kargolarda) ama trendyolun suçu degil tabiki bunu tüm kullanıcılar farkında zaten 👍 Herzaman olduğu gibi trendyol 10 numara 5 yıldız tabiki😉 \n",
      "\n",
      "** 1202 Güvenilir,başarılı ve kaliteli uygun fiyatlar ürün çeşitliliği çok güzel hiç bulunduğum ilden alışverişe gerek yok her ihtiyacımı buradan alıyorum mutfaktan kıyafete havluya herşeyin trendyoldan teşekkürler Trendyol internet alışverişlerinizde mağdur olmak sahte ürün dolandırılmak tarzı şeylerle karşılaşmamak için tavsiye ederim burası güvenilir kaliteli ürünler göründüğü gibi güzel \n",
      "\n",
      "** 1203 Şimdiye kadar aldığım ürünlerde sıkıntı yaşamadım kargolama ve teslim genelde çok hızlı aldığım ürünlerde herhangi bir sıkıntı olduğunda iadesinde hiç sıkıntı yaşamadım korono salgını olduğu bu süreçte vede artık mağaza mağaza gezmek sizin için yorucu ise trendyoldan alışveriş gerçekten çok avantajlı ayrıca alacağınız ürünlerin yorumlarıda sizi yönlendiririyor daha ne olsun teşekkürler trendyol \n",
      "\n",
      "** 1204 Harika bir uygulama dileğiniz herşey var ve ürün fiyatlari gayet uygun düşük bir bütçeyle satın alabilirsiniz eminim ki aldığınız her ürünler de memnun kalicaksiniz Paketleme olsun teslimat süresi olsun müşteri temsilcisiyle birlikte yaptığınız görüşmede bile memnun kalacağınızı eminim tek yapmanız uygulamayı indirip sipariş verin ve harika sonuçları görün ❤️ \n",
      "\n",
      "** 1205 En keyifli alışverişlerimin tek adresi. İade ettigimde para mı eksiksiz ve tam aldım. Ki bunca yılda 1 kez mağaza kaynaklı sorun yaşandı onu da harika şekilde sonuçlandırdı müşteri hizmetleri. Ayrıca en büyük teşekkür ve memnuniyetim de teslimata gelen kuryeler güler yüzlü, ilgili ve özverili hepsi. Tüm çalışanların emeğine sağlık. İyi ki varsınız. \n",
      "\n",
      "** 1206 Şu ana kadar aldığım tüm ürünlerden memnun kaldım teşekkür ederim 😊 \n",
      "\n",
      "** 1207 Kendi markası olan trendyolmilla hız konusunda tartışmasız en iyilerden. İçerisinde bulunan markalarda kargo süreci biraz uzasada kalite konusunda alışveriş yaptığım hiçbir markada sorun yaşamadım. İade işlemleri çok kolay gerçekleşiyor. Güvenle alışveriş yapılabilir. \n",
      "\n",
      "** 1208 Gayet güzel ve çok memnun kaldığım herhangi bir sıkıntı yasamadığım bir uygulama kargo biraz geç geliyor ama onunda sebebinin pandemi olduğunu düşünüyorum o anlamda bu konuya anlayış göstermek gerektiğini düşünüyorum herşey için teşekkürler Trendyol \n",
      "\n",
      "** 1209 Sipariş verdim . Hızlı bir şekilde geldi. Paketleme çok iyiydi. Genel olarak memnun kaldık. Üstelik hediye kuponu kullandık. Tavsiye ederim . Güvenilir ve güzel site. \n",
      "\n",
      "** 1210 Daha önce farklı yerlerden sipariş verdiğimde kargo ürünümü kaybetmişti gönderici bu problemi kargoyla çözmem gerektiğini söylemişti ama trendyolun kargo problemini düzeltmesi ve müşterisinin memnuniyetini düşünmesi çok ilgimi çekerek bana güven verdi müşteri hizmetlerinin ilgisine de ayrıca hayran kaldım teşekkürler Trendyol 🙏 \n",
      "\n",
      "** 1211 Hızlı kargosu kolay değişim ve iadesi harika ürünleri başka markaya ihtiyaç duymuyorum bile modayı seviyoruz ❣️ iyki varsın hm çocuk giyim de tek markamiz \n",
      "\n",
      "** 1212 Firmadan eşime parka aldım mağzada siyah denedik oldu fakat yeşil rengi tercihimiz oldu internetten sipariş verdi biraz kesim boluğu vardı iadesini yaptık yaptığımız ödemeyi hemen iadesini yaptılar ben şahsım adına çook teşekkür ediyorum güvenle alışveriş yapılacak firma \n",
      "\n",
      "** 1213 Güzel uygulama mağazada bulamadıklamı burda bulabiliyorum. \n",
      "\n",
      "** 1214 Herşeyiyle mükemmel bir online alışveriş sitesi 👍 \n",
      "\n",
      "** 1215 Online alışverişte de başarılı \n",
      "\n",
      "** 1216 Yıllardır alışveriş yapmaktan bıkmadığım ve asla pişman olmadığım nadir markalardan özellikle sweatleri ve sweat kumaşlarından üretilen ürünlerini başka hiçbir markaya değişmem \n",
      "\n",
      "** 1217 En sevdiğim markalardan biri \n",
      "\n",
      "** 1218 Uygulamayı severek kullanıyorum. Küçük bebeğim olduğu için her zaman dışarıda alışveriş imkanım olmayabiliyor . H&M e hem güveniyorum hemde kalitesine bayılıyorum \n",
      "\n",
      "** 1219 Kaliteli ürün sıkıntısız iade seviyorum seni h&m \n",
      "\n",
      "** 1220 Çok severek alışveriş yapıyorum ürünlerine %100 güveniyorum. \n",
      "\n",
      "** 1221 Bayılıyorum size \n",
      "\n",
      "** 1222 Bu siteye gerçekten bayılıyorum \n",
      "\n",
      "** 1223 Güzel bir uygulama hiç yerde kaplamıyor size 5 puğan \n",
      "\n",
      "** 1224 Beden seçimi disinda güzel \n",
      "\n",
      "** 1225 Uygulamayı severek kullanıyorum. Küçük bebeğim olduğu için her zaman dışarıda alışveriş imkanım olmayabiliyor . H&M e hem güveniyorum hemde kalitesine bayılıyorum \n",
      "\n",
      "** 1226 yaz kış lc Waikiki den başka bir mağazada alışveriş yapmıyorum her hafta bir şeyler sipariş veriyorum asıl ben size ilginiz için teşekkür ederim harika bir mağaza siz olmazsanız ben abartısız yani elbizesiz kalırdım \n",
      "\n",
      "** 1227 Bence harika bir program istediğiniz kıyafetin size yakın olan yerde olup olmadığına bile bakabiliyorsunuz bu çok güzel bir şey çünkü bazı programlarda beğendiğin şeyi o mağazanın herhangi bir şubesine gittiğin zaman orada olmuyor ama LC Waikiki böyle bir şey yapmış bence harika bir program hepinize de tavsiye ediyorum \n",
      "\n",
      "** 1228 Ailecek severek alışveriş ettigimiz uygun fiyatları olsun kalitesi olsun vazgeçilmezimizsin LC Waikiki iyiki varsın daha nice beraber mutlu yıllara😍 \n",
      "\n",
      "** 1229 Ben hem kendim hemde oğlum için alışverişimi lc Waikiki den yapıyorum. Çok memnunum. Bazen ufak tefek sıkıntılar yaşadığım oldu ama lcw mağazaları iade ya da değişimle sorunlarımı çözdüler. \n",
      "\n",
      "** 1230 Lc Waikiki den alışveriş yapmayı seviyorum ama keşke PTT kargo ile çalışmaya başlasa çok iyi olur her zaman mağazaya gidemiyoruz PTT ile çalışsanız daha çok sipariş yapabilirim şahsen \n",
      "\n",
      "** 1231 Aldığımız kıyafet üstümüze olmayınca en yakın lcw mağazasında değiştirebiliyormuyuz \n",
      "\n",
      "** 1232 Bugüne kadar tüm alışverişlerimde ilgi alaka dahil hepsi çok güzeldi hiç bir kötü yan yaşamadım. Bu firmayı karalamayi bir kenara bırakın artık. İnsanlar yoğun olunca saatlerini size göre ayarlayamazlar nasıl ki siz evde çocuk bakarken yoğunsunuz bu insanlarda öyle yoğun lütfen artık iğrenç yorumları bırakıp biraz saygı duyun insanlara hepimiz insanız. İlginize emeğinize sonsuz teşekkürler 💙😍iyi ki varsınız çiçek sepeti ailesi💛 \n",
      "\n",
      "** 1233 Çiçek sepetine teşekkür ediyorum tüm siparişlerim Istediğin zaman ve titizlikle teslim edildi. Hep böyle devam edin aynı hizmet kalitesiyle.... \n",
      "\n",
      "** 1234 Arkadaşımın doğum günü için sipariş verdim. Tahmini teslimat 15-16 Aralık'tı. Bugün (15 aralık) geldi. Ürünün kutusuna bayıldım. Aşırı iyiydi. Bence olay satıcı seçimi ile alakalı. Teşekkürler ÇİÇEK SEPETİ 💕 \n",
      "\n",
      "** 1235 Her zaman güvenilir Sevdiklerimiz aslında bize ne kadar uzaksa bi o kadar yakın nasilmi tabiki ÇIÇEKSEPETİ SAYESİNDE tüm çalışan emeği geçen herkese teşekkürler 😊 \n",
      "\n",
      "** 1236 Hatalı üründe bukadar hızlı iletişime geçmeniz gönlümüzü almanız çok teşekkür ederiz...iyiki varsınız çiçek sepeti♥️🤗 \n",
      "\n",
      "** 1237 Hayata mutluluklar katmaya vesile olduğunuz için teşekkürler. \n",
      "\n",
      "** 1238 Güzel program varki kullanıyoruz olmasa napacaz \n",
      "\n",
      "** 1239 para transferi işleminin dekontunu watsapp,outlook vb. bir uygulamadan paylaşma seçeneği çalışmıyor. destek biriminize de yazdım. cevap olarak, ekran görüntüsü gönderin şeklinde otomatik yanıt verdiniz!!! mecburiyetten uygulamanızı kullanıyorum ama benim için şuan enkötü cep şube sizinki... \n",
      "\n",
      "** 1240 Pandemi sürecinde herkes başka bankalara olan Kart borçlarını nasıl taksitlendiririm diye Kara kara düşünüyorken ben hiç uğraşmadım Qnb Finansbank kendisi aradı Kart borcumun tamamını 9 taksite bölüp rahat bir nefes almamı sağladılar TEŞEKKÜRLER QNB FİNANSBANK \n",
      "\n",
      "** 1241 Valla bu uygulamayı kullanıyorum çokta rahat \n",
      "\n",
      "** 1242 Vallahi ben böyle müşteri dostu başka hiçbir banka görmedim, hepsini tek tek detaylıca araştırdım, tek kapı QNB Finansbank'a çıkıyor. Tüm bankalar içinde en düşük faiz oranına sahip. Kredi aynı gün-12 saat içinde çıkıyor. Bankanın müşterisi olmasanız bile asla bordro vs. istemiyor. Hiçbir şekilde bankaya gidip saçma sapan tonlarca prosedür imzalatmıyor, bunun yerine hepsini içeren tek bir onayı online olarak ve ardından müşteri hizmetlerine veriyorsun hepsi tamam oluyor. Çok teşekkürler QNB... \n",
      "\n",
      "** 1243 Finansbank tam istediğim gibi bir proğram çok işime yarıyor bence buna 5 yıldız bile yetmez 10 yıldız olsa bile veririm herkeze tavsiye ediyorum \n",
      "\n",
      "** 1244 On numara beş yıldız veriyorum süpersiniz \n",
      "\n",
      "** 1245 On numara . beş yıldız verdim değerinizi bilin istedim  \n",
      "\n",
      "** 1246 Süper bir ilgi var hayret icerisindeyim ilk defa böyle bir bankanın müşteri si ile ilgisine hayran kaldım supersin QNB finansbank 5 yıldız hak ediyorsun \n",
      "\n",
      "** 1247 her türlü işlemimi rahatlıkla yapıyorum. uygulama mükemmel. Özellikle fatura ödemeleri havale gibi durumlarda cankurtaran, hesabının detayları daima cebimde, daha ne olsun. \n",
      "\n",
      "** 1248 Ben memnunum finans bank dan teşekürler \n",
      "\n",
      "** 1249 Şimdi olmuş teşekkürler. Eski yorumum(Gelişiyor ama hem bireysel hem ticari müşteriler için istenileni veremiyor.) \n",
      "\n",
      "** 1250 Zamandan kazanç bankaya gitme sıra bekleme işine son \n",
      "\n",
      "** 1251 Güzel bir uygulama bankaya gitmeden sıra beklemeden işlerimi buradan hallediyorum \n",
      "\n",
      "** 1252 Harika cok hoşuma gitti bankaya gidip sıra bekleme işi bitti.☺ \n",
      "\n",
      "** 1253 Bankaya gitmeden zaman kaybı sıra bekletmeyen program \n",
      "\n",
      "** 1254 Harika yapanların eline sağlık \n",
      "\n",
      "** 1255 Harika bir uygulama anında işlem yapa biliyorum teşekkler \n",
      "\n",
      "** 1256 super her şey elimin altinda harika bi uygulama tesekurler qnb finans bank \n",
      "\n",
      "** 1257 harika yapamlarin ellerine saglik \n",
      "\n",
      "** 1258 İhtiyacı anında harika lar yaratabiliyor. Zaman tasarrufu daha ne diyeyim. \n",
      "\n",
      "** 1259 çok sık hata veriyor \n",
      "\n",
      "** 1260 müşteri temsilcisiyle yaptığım görüşmeler olumluydu ve yapacağım işlemlere kolaylık sağlıyorlar finansbank,ın kurulusundan beri müşterişiyim teşekkürler onbfinansbank \n",
      "\n",
      "** 1261 Finansbank yetkilileri ben müşteri temsilcisine bağlanamıyorum lütfen beni araya bilirmisiniz \n",
      "\n",
      "** 1262 Bence harika bankaya gitmeden burdan butun islerimi hallediyorum \n",
      "\n",
      "** 1263 Bu proglamla artik ben de bankaciyim.bankaya gitmek büyük sorun ozellikle çalışan kadın için. Kendi isimi kendim hallediyorum sanki finans bank gisesinde çalışan memurum. .Teşekkürler Finansbank \n",
      "\n",
      "** 1264 Bankaya gitmeden tüm işlemlerimi rahatça yapabiliyorum,sadece dolandırıcılık olaylarından korkuyorum,bunun için yapılması yada yapılmaması gereken şeyleri bizimle paylaşmanız.Teşekkürler Finansbank:)) \n",
      "\n",
      "** 1265 Bütün işlerimi şubeye gitmeden halledebiliyorum \n",
      "\n",
      "** 1266 harika vakit kaybi olmuyor bütün işlerimi buradan hallediyorum teşekkürler \n",
      "\n",
      "** 1267 İyi ki varsınız.. En güzelini yaparsınız. FİNANSBANK'ın; müşterilerine daha iyi hizmet verebilmek için gece gündüz demeden çalışan tüm elemanlarına teşekkür eder, sevgi ve saygılarımızı sunarız. Sizleri seviyor, sizlere güveniyoruz.. \n",
      "\n",
      "** 1268 Finasban gercekten bu isi iyi yapmaya basladi cepten bankacilik islemleri cok kolay ve izli seviyorum hizmetlerinizi ancak calistigim is yeri sizinle anlasmayi bozmus baska bankayla anlasmislar uzuldum fakat sizinle calismaya devam edecegim tesekurler finansbank. \n",
      "\n",
      "** 1269 finans bank ailesini seviyorum her konuda hemen yardımcı oluyorlar ulasim sıkıntısı yasamiyorum teşekkürler iyi ko varsınız \n",
      "\n",
      "** 1270 Sadece cep şubeniz çok iyi olduğu için finansbanktayım. Hsbc yi çok sevdiğim halde cep uygulaması rezalet diye kullanmıyorum kartımı \n",
      "\n",
      "** 1271 Harika #Finansbank çalışanlarını da seviyorum bu programı da iyiki varsınız sizinle çalışmak isterdim. \n",
      "\n",
      "** 1272 bu bankayı seviyorum finansbank iyiki beraberiz.her zaman ne zaman sıkışsam yanımda destek.harika \n",
      "\n",
      "** 1273 Finansbank visyonlu, vatandaşı mahdur etmeyen her koşulda. çalışanların özenle seçilmiş işini severek yapan ekip. tebrikler👏👏👏 \n",
      "\n",
      "** 1274 Seni seviyorum finans bank \n",
      "\n",
      "** 1275 Sevdim seni finans bank helal olsun \n",
      "\n",
      "** 1276 Finans bank ı seviyorum \n",
      "\n",
      "** 1277 Hayatımı kolaylastirdin seni seviyorum finans bank \n",
      "\n",
      "** 1278 Finans bank ve ayrıcalıklarını seviyorum \n",
      "\n",
      "** 1279 Harikasın finansbank seni seviyorum \n",
      "\n",
      "** 1280 Finansbank i seviyorum başarılarının devamini diliyorum \n",
      "\n",
      "** 1281 Bu bankayı çok seviyorum. Başarılarınızın devamını diliyorum çünkü herkese bir finansçı lazım.. 🤗 \n",
      "\n",
      "** 1282 Finansbank i seviyorum çünkü her zaman yanımda oldu \n",
      "\n",
      "** 1283 En sevdiğim banka Finansbank Her zaman yardımcı olurlar bana \n",
      "\n",
      "** 1284 Seviliyorsun finansbank \n",
      "\n",
      "** 1285 Finansbank seni çok seviyorum \n",
      "\n",
      "** 1286 Sevmiyorum finansbank'i musteri memnuniyeti 100 uzerinden 0... \n",
      "\n",
      "** 1287 Finansbank'ın sadece bu şeyini seviyorum programda herşey çok açık ve net diğer bankalar nedense boyle değil \n",
      "\n",
      "** 1288 Finansbankı seviyorum on numara bi site \n",
      "\n",
      "** 1289 bankalar arasinda işimi gören bir numaralı ve en sevdiğim banka. bana hangi banka deseler finans bankatan şaşmayın derim kardeşim... \n",
      "\n",
      "** 1290 Yorulmuşken kalbim dönen dünya içindeki acımasız hayatta, seni gördüm içimdeki dünya dönmeye başladı durduramıyorum içimdeki dünyayı harekete geçirdin engel olamıyorum seni seviyorum finansçı \n",
      "\n",
      "** 1291 Hakikaten harika olmus.Finansbanktan kesinlikle beklemezdim. Kobilerde kullanabiliyor.Kobilerin kullandigi ilk cep programidir herhalde.tebrikler finansbank. \n",
      "\n",
      "** 1292 Calismalarindan dolayi finans bank ve çalışanlarını tebrik ederim \n",
      "\n",
      "** 1293 Bence yorumlara bakmayın yok donuyormuş yok süre azmış bence herşey iyi şöyle düşünün score hero nun online hali ve lig ler var her maçta kasa geliyor onlardan oyuncu gelebiliyor veya da oyuncunun yükseltmek için kart geliyor ( Eğer Clash Royale oynuyorsanız bilirsiniz her maçta bir kasa düşüyor ve belirli bir süre sonra açılıyor vs ve kısaca Clash Royale in futbol olmuş halini düşünün ve öyle indirin) Tavsiye ederim \n",
      "\n",
      "** 1294 Score Heroyu çok seviyorum o yüzden direk bu oyunu da indirdim online olması çok iyi ama eksiklikleri var. Mesela arkadaşımızla dostluk maçı yapamıyoruz. Ayrıca savunma işi çok zor her şey tek tuşa bağlı buna alternatif getirilmesi gerekiyor. Onlar dışında oyun güzel diyebiliriz. \n",
      "\n",
      "** 1295 Çok severek alıyor ve kullanıyoruz \n",
      "\n",
      "** 1296 özellikle bebek kıyafetleri harika \n",
      "\n",
      "** 1297 Ne aldıysam memnun kaldım😍😍 seni seviyoruz hm. \n",
      "\n",
      "** 1298 En sevdiğim marka \n",
      "\n",
      "** 1299 Bilader uygulama cok güzel de guncelleyin sunu elbiseler cook pahali gözüküyor \n",
      "\n",
      "** 1300 Kıyafetleri gerçekten hoş eleştiri bölümünde gerçekten abartanlar olmuş pahalı pahalı diye o sorunun uygulamayla ne ilgisi var problemli arkadaş \n",
      "\n",
      "** 1301 Uygulama üzerinden sipariş verdim, sipariş onayı yapılmadı ama kredi kartından para çekildi, ortada sipariş falan da görünmüyor. Müşteri hizmetlerine mail attım henüz dönüş de olmadı. Tebrik ederim, bir müşteri daha kaybettiniz 👏👏 \n",
      "\n",
      "** 1302 haziran ayı gibi bir kaç tshirt almıştım siteden ama siparişim sisteme düşmedi ve parayı hesabımdan çekti, müşteri hizmetlerini aramadım sadece mail attım ve direkt geri dönüş aldım, param da hesabıma bir kaç gün sonra yattı. \n",
      "\n"
     ]
    }
   ],
   "source": [
    "j=0\n",
    "for i in train.Verbatim:\n",
    "    \n",
    "    print('**',j,str(i),'\\n')\n",
    "    j+=1\n"
   ]
  },
  {
   "cell_type": "markdown",
   "metadata": {},
   "source": [
    "# Cleaning Noisy Words, Punctuations,Emojis"
   ]
  },
  {
   "cell_type": "markdown",
   "metadata": {},
   "source": [
    "**Typo Correction**"
   ]
  },
  {
   "cell_type": "markdown",
   "metadata": {},
   "source": [
    "useless"
   ]
  },
  {
   "cell_type": "code",
   "execution_count": 17,
   "metadata": {},
   "outputs": [],
   "source": [
    "#pip install autocorrect==2.2.2\n",
    "from autocorrect import Speller            #alternative typo correction\n",
    "#"
   ]
  },
  {
   "cell_type": "code",
   "execution_count": 145,
   "metadata": {},
   "outputs": [
    {
     "data": {
      "text/plain": [
       "'benm'"
      ]
     },
     "execution_count": 145,
     "metadata": {},
     "output_type": "execute_result"
    }
   ],
   "source": [
    "spell = Speller('tr')\n",
    "spell('benm')"
   ]
  },
  {
   "cell_type": "code",
   "execution_count": null,
   "metadata": {},
   "outputs": [],
   "source": []
  },
  {
   "cell_type": "markdown",
   "metadata": {},
   "source": [
    "# Due to the fact that all the reviews is turkish, I used \"emoji\" library. "
   ]
  },
  {
   "cell_type": "code",
   "execution_count": 19,
   "metadata": {},
   "outputs": [],
   "source": [
    "#pip install emoji"
   ]
  },
  {
   "cell_type": "code",
   "execution_count": 20,
   "metadata": {},
   "outputs": [],
   "source": [
    "x = 'Ne aldıysam memnun kaldım😍😍 seni seviyoruz hm.'"
   ]
  },
  {
   "cell_type": "code",
   "execution_count": 21,
   "metadata": {},
   "outputs": [
    {
     "name": "stdout",
     "output_type": "stream",
     "text": [
      "Ne aldıysam memnun kaldım:smiling_face_with_heart-eyes::smiling_face_with_heart-eyes: seni seviyoruz hm.\n"
     ]
    }
   ],
   "source": [
    "import emoji\n",
    "print(emoji.demojize(x))"
   ]
  },
  {
   "cell_type": "code",
   "execution_count": 22,
   "metadata": {},
   "outputs": [],
   "source": [
    "stop_words = stopwords.words(\"turkish\")\n",
    "lem = WordNetLemmatizer()\n",
    "stem = PorterStemmer()"
   ]
  },
  {
   "cell_type": "code",
   "execution_count": 23,
   "metadata": {},
   "outputs": [],
   "source": [
    "def text_mining(x):\n",
    "    \n",
    "    \"\"\"This function does tokenizaton, noise removal and lexicon normalization in sequence.\"\"\"\n",
    "    \n",
    "    \"\"\"Word Tokenize\"\"\"\n",
    "    process_1 = word_tokenize(x.lower())\n",
    "    \"\"\"Removing Non-alphabetic tokens\"\"\"\n",
    "    process_2 = [w for w in process_1 if w.isalpha()]\n",
    "    \"\"\"Removing Stopwords\"\"\"\n",
    "    process_3 = [y for y in process_2 if y not in stop_words]\n",
    "    \"Using lemmatize function on tokens\"\n",
    "    process_4 = [lem.lemmatize(z) for z in process_3]\n",
    "    \n",
    "    return \" \".join(process_4)"
   ]
  },
  {
   "cell_type": "code",
   "execution_count": 24,
   "metadata": {},
   "outputs": [],
   "source": [
    "#pip install turkishnlp"
   ]
  },
  {
   "cell_type": "markdown",
   "metadata": {},
   "source": [
    "# x = 'Ne aldıysam memnun kaldım😍😍 seni seviyoruz hm.' "
   ]
  },
  {
   "cell_type": "code",
   "execution_count": 25,
   "metadata": {},
   "outputs": [
    {
     "data": {
      "text/plain": [
       "'aldıysam memnun kaldım seni seviyoruz hm'"
      ]
     },
     "execution_count": 25,
     "metadata": {},
     "output_type": "execute_result"
    }
   ],
   "source": [
    "text_mining('Ne aldıysam memnun kaldım:smiling_face_with_heart-eyes::smiling_face_with_heart-eyes: seni seviyoruz hm.')"
   ]
  },
  {
   "cell_type": "markdown",
   "metadata": {},
   "source": [
    "implement text_mining func."
   ]
  },
  {
   "cell_type": "code",
   "execution_count": 26,
   "metadata": {},
   "outputs": [
    {
     "data": {
      "text/plain": [
       "0       alt yapı yetersiz telefon hattım çoğu yerde çe...\n",
       "1       evimde sadece tek odada çekiyor onuda cama yap...\n",
       "2                               çekim gücü zayıf internet\n",
       "3                  hızınız yetersiz tarifelerde paketleri\n",
       "4       bulunduğum yerde internet kalitesi e olarak gö...\n",
       "                              ...                        \n",
       "1298                                       sevdiğim marka\n",
       "1299    bilader uygulama cok güzel guncelleyin sunu el...\n",
       "1300    kıyafetleri gerçekten hoş eleştiri bölümünde g...\n",
       "1301    uygulama üzerinden sipariş verdim sipariş onay...\n",
       "1302    haziran ayı bir kaç tshirt almıştım siteden si...\n",
       "Name: Verbatim, Length: 1303, dtype: object"
      ]
     },
     "execution_count": 26,
     "metadata": {},
     "output_type": "execute_result"
    }
   ],
   "source": [
    "train[\"Verbatim\"] =train[\"Verbatim\"].apply(text_mining)\n",
    "train[\"Verbatim\"]"
   ]
  },
  {
   "cell_type": "code",
   "execution_count": 27,
   "metadata": {},
   "outputs": [
    {
     "data": {
      "text/plain": [
       "'evimde sadece tek odada çekiyor onuda cama yapışarak görüşme yapıyorum sizi aradığımda bölgede şebeke sıkıntısı görünmüyor diyip konuşmayı bitirdiniz'"
      ]
     },
     "execution_count": 27,
     "metadata": {},
     "output_type": "execute_result"
    }
   ],
   "source": [
    "train.Verbatim.loc[1]"
   ]
  },
  {
   "cell_type": "code",
   "execution_count": 28,
   "metadata": {},
   "outputs": [
    {
     "data": {
      "text/html": [
       "<div>\n",
       "<style scoped>\n",
       "    .dataframe tbody tr th:only-of-type {\n",
       "        vertical-align: middle;\n",
       "    }\n",
       "\n",
       "    .dataframe tbody tr th {\n",
       "        vertical-align: top;\n",
       "    }\n",
       "\n",
       "    .dataframe thead th {\n",
       "        text-align: right;\n",
       "    }\n",
       "</style>\n",
       "<table border=\"1\" class=\"dataframe\">\n",
       "  <thead>\n",
       "    <tr style=\"text-align: right;\">\n",
       "      <th></th>\n",
       "      <th>Verbatim</th>\n",
       "      <th>sentiment</th>\n",
       "    </tr>\n",
       "  </thead>\n",
       "  <tbody>\n",
       "    <tr>\n",
       "      <th>694</th>\n",
       "      <td>konuşurken hat kendiliğinden kapanıyor</td>\n",
       "      <td>0.0</td>\n",
       "    </tr>\n",
       "    <tr>\n",
       "      <th>321</th>\n",
       "      <td>sebeke sorunu oluyor video izlerken hızı yavaş...</td>\n",
       "      <td>0.0</td>\n",
       "    </tr>\n",
       "    <tr>\n",
       "      <th>781</th>\n",
       "      <td>iyi bir çekim iyi bir alt yapı</td>\n",
       "      <td>1.0</td>\n",
       "    </tr>\n",
       "    <tr>\n",
       "      <th>264</th>\n",
       "      <td>hızı kapalı ortamlarda bazen yavaşlıyor</td>\n",
       "      <td>0.0</td>\n",
       "    </tr>\n",
       "    <tr>\n",
       "      <th>47</th>\n",
       "      <td>evimde hat çekmiyor</td>\n",
       "      <td>0.0</td>\n",
       "    </tr>\n",
       "    <tr>\n",
       "      <th>976</th>\n",
       "      <td>kopma oluyor görüşmelerde kesintiler oluyor</td>\n",
       "      <td>0.0</td>\n",
       "    </tr>\n",
       "    <tr>\n",
       "      <th>1124</th>\n",
       "      <td>iyi geceler hay day oyununu severek oynuyorum ...</td>\n",
       "      <td>1.0</td>\n",
       "    </tr>\n",
       "    <tr>\n",
       "      <th>1295</th>\n",
       "      <td>severek alıyor kullanıyoruz</td>\n",
       "      <td>1.0</td>\n",
       "    </tr>\n",
       "    <tr>\n",
       "      <th>1020</th>\n",
       "      <td>memlunum teşekkürler vodafone</td>\n",
       "      <td>2.0</td>\n",
       "    </tr>\n",
       "    <tr>\n",
       "      <th>1081</th>\n",
       "      <td>on numara beş yıldız yorumum verdiğim puan çal...</td>\n",
       "      <td>0.0</td>\n",
       "    </tr>\n",
       "    <tr>\n",
       "      <th>533</th>\n",
       "      <td>türkse le göre ucuz paketleri şehir merkezinde...</td>\n",
       "      <td>0.0</td>\n",
       "    </tr>\n",
       "    <tr>\n",
       "      <th>864</th>\n",
       "      <td>köylerde yerlerde çekmiyor çekmesi yer değişti...</td>\n",
       "      <td>0.0</td>\n",
       "    </tr>\n",
       "    <tr>\n",
       "      <th>1128</th>\n",
       "      <td>oyun gerçekten çoooooooooook güzel bir sorun v...</td>\n",
       "      <td>2.0</td>\n",
       "    </tr>\n",
       "    <tr>\n",
       "      <th>1013</th>\n",
       "      <td>hersey on numara teşekkürler</td>\n",
       "      <td>2.0</td>\n",
       "    </tr>\n",
       "    <tr>\n",
       "      <th>235</th>\n",
       "      <td>hafta önce konya sefa köye gezinti gittigimde ...</td>\n",
       "      <td>0.0</td>\n",
       "    </tr>\n",
       "    <tr>\n",
       "      <th>104</th>\n",
       "      <td>youtube dan bir şeyi boyutta izleyemiyoruz don...</td>\n",
       "      <td>0.0</td>\n",
       "    </tr>\n",
       "    <tr>\n",
       "      <th>156</th>\n",
       "      <td>fiyatlarınız pahalı</td>\n",
       "      <td>0.0</td>\n",
       "    </tr>\n",
       "    <tr>\n",
       "      <th>1152</th>\n",
       "      <td>oyundan çıkamıyorum öyle bağımlı oldum harika ...</td>\n",
       "      <td>2.0</td>\n",
       "    </tr>\n",
       "    <tr>\n",
       "      <th>624</th>\n",
       "      <td>şehir merkezlerinde bilet şebeke sıkıntısı çek...</td>\n",
       "      <td>0.0</td>\n",
       "    </tr>\n",
       "    <tr>\n",
       "      <th>549</th>\n",
       "      <td>harcama yaparak baz verici istasyonlarınızı ve...</td>\n",
       "      <td>1.0</td>\n",
       "    </tr>\n",
       "    <tr>\n",
       "      <th>486</th>\n",
       "      <td>baz istasyonlarinizi arttirin</td>\n",
       "      <td>1.0</td>\n",
       "    </tr>\n",
       "    <tr>\n",
       "      <th>21</th>\n",
       "      <td>aydır kullanıyorum yüz kere şikayette bulundum...</td>\n",
       "      <td>0.0</td>\n",
       "    </tr>\n",
       "    <tr>\n",
       "      <th>91</th>\n",
       "      <td>verdiğiniz ücretsiz kullanımları paket yukselt...</td>\n",
       "      <td>0.0</td>\n",
       "    </tr>\n",
       "    <tr>\n",
       "      <th>892</th>\n",
       "      <td>hat sürekli kesiliyor</td>\n",
       "      <td>0.0</td>\n",
       "    </tr>\n",
       "    <tr>\n",
       "      <th>1091</th>\n",
       "      <td>hay day oyununu seviyorum oyuna girince tıklad...</td>\n",
       "      <td>2.0</td>\n",
       "    </tr>\n",
       "  </tbody>\n",
       "</table>\n",
       "</div>"
      ],
      "text/plain": [
       "                                               Verbatim  sentiment\n",
       "694              konuşurken hat kendiliğinden kapanıyor        0.0\n",
       "321   sebeke sorunu oluyor video izlerken hızı yavaş...        0.0\n",
       "781                      iyi bir çekim iyi bir alt yapı        1.0\n",
       "264             hızı kapalı ortamlarda bazen yavaşlıyor        0.0\n",
       "47                                  evimde hat çekmiyor        0.0\n",
       "976         kopma oluyor görüşmelerde kesintiler oluyor        0.0\n",
       "1124  iyi geceler hay day oyununu severek oynuyorum ...        1.0\n",
       "1295                        severek alıyor kullanıyoruz        1.0\n",
       "1020                      memlunum teşekkürler vodafone        2.0\n",
       "1081  on numara beş yıldız yorumum verdiğim puan çal...        0.0\n",
       "533   türkse le göre ucuz paketleri şehir merkezinde...        0.0\n",
       "864   köylerde yerlerde çekmiyor çekmesi yer değişti...        0.0\n",
       "1128  oyun gerçekten çoooooooooook güzel bir sorun v...        2.0\n",
       "1013                       hersey on numara teşekkürler        2.0\n",
       "235   hafta önce konya sefa köye gezinti gittigimde ...        0.0\n",
       "104   youtube dan bir şeyi boyutta izleyemiyoruz don...        0.0\n",
       "156                                 fiyatlarınız pahalı        0.0\n",
       "1152  oyundan çıkamıyorum öyle bağımlı oldum harika ...        2.0\n",
       "624   şehir merkezlerinde bilet şebeke sıkıntısı çek...        0.0\n",
       "549   harcama yaparak baz verici istasyonlarınızı ve...        1.0\n",
       "486                       baz istasyonlarinizi arttirin        1.0\n",
       "21    aydır kullanıyorum yüz kere şikayette bulundum...        0.0\n",
       "91    verdiğiniz ücretsiz kullanımları paket yukselt...        0.0\n",
       "892                               hat sürekli kesiliyor        0.0\n",
       "1091  hay day oyununu seviyorum oyuna girince tıklad...        2.0"
      ]
     },
     "execution_count": 28,
     "metadata": {},
     "output_type": "execute_result"
    }
   ],
   "source": [
    "train.sample(25)"
   ]
  },
  {
   "cell_type": "code",
   "execution_count": null,
   "metadata": {},
   "outputs": [],
   "source": []
  },
  {
   "cell_type": "markdown",
   "metadata": {},
   "source": [
    "**Test set cleaning which is only for prediction**"
   ]
  },
  {
   "cell_type": "code",
   "execution_count": 29,
   "metadata": {},
   "outputs": [
    {
     "data": {
      "text/plain": [
       "sentiment    0\n",
       "text         0\n",
       "dtype: int64"
      ]
     },
     "execution_count": 29,
     "metadata": {},
     "output_type": "execute_result"
    }
   ],
   "source": [
    "test.isnull().sum()"
   ]
  },
  {
   "cell_type": "code",
   "execution_count": 30,
   "metadata": {},
   "outputs": [
    {
     "data": {
      "text/plain": [
       "positive    172\n",
       "neutral      37\n",
       "negative     18\n",
       "Name: sentiment, dtype: int64"
      ]
     },
     "execution_count": 30,
     "metadata": {},
     "output_type": "execute_result"
    }
   ],
   "source": [
    "test.sentiment.value_counts(dropna=False)"
   ]
  },
  {
   "cell_type": "code",
   "execution_count": 31,
   "metadata": {},
   "outputs": [
    {
     "data": {
      "text/plain": [
       "0      2\n",
       "1      4\n",
       "2      4\n",
       "3      4\n",
       "4      4\n",
       "      ..\n",
       "222    4\n",
       "223    2\n",
       "224    2\n",
       "225    0\n",
       "226    2\n",
       "Name: sentiment, Length: 227, dtype: int64"
      ]
     },
     "execution_count": 31,
     "metadata": {},
     "output_type": "execute_result"
    }
   ],
   "source": [
    "test.sentiment = test.sentiment.map({'negative':0,'neutral':2,'positive':4})\n",
    "test.sentiment"
   ]
  },
  {
   "cell_type": "code",
   "execution_count": null,
   "metadata": {},
   "outputs": [],
   "source": []
  },
  {
   "cell_type": "code",
   "execution_count": 32,
   "metadata": {},
   "outputs": [],
   "source": [
    "test.text = test.text.apply(text_mining)"
   ]
  },
  {
   "cell_type": "code",
   "execution_count": 33,
   "metadata": {},
   "outputs": [
    {
     "data": {
      "text/plain": [
       "0                              kredi kullanmak istiyorum\n",
       "1      supercell senin oyunlarını oynadım brawl star ...\n",
       "2      sizleri seviyorum clash of clan bide hay day g...\n",
       "3      supercell brawl star chas of chas chas royale ...\n",
       "4      sevdim fıstıllar yavaş büyüyor sadece bunun dü...\n",
       "                             ...                        \n",
       "222                                       sevdiğim marka\n",
       "223    bilader uygulama cok güzel guncelleyin sunu el...\n",
       "224    kıyafetleri gerçekten hoş eleştiri bölümünde g...\n",
       "225    uygulama üzerinden sipariş verdim sipariş onay...\n",
       "226    haziran ayı bir kaç tshirt almıştım siteden si...\n",
       "Name: text, Length: 227, dtype: object"
      ]
     },
     "execution_count": 33,
     "metadata": {},
     "output_type": "execute_result"
    }
   ],
   "source": [
    "test.text"
   ]
  },
  {
   "cell_type": "markdown",
   "metadata": {},
   "source": [
    "# Train Test Split"
   ]
  },
  {
   "cell_type": "code",
   "execution_count": 34,
   "metadata": {},
   "outputs": [],
   "source": [
    "X_train, X_test, y_train, y_test = train_test_split(train.Verbatim.values, train.sentiment.values, test_size=0.3, random_state=42)"
   ]
  },
  {
   "cell_type": "markdown",
   "metadata": {},
   "source": [
    "# Count Vectorization"
   ]
  },
  {
   "cell_type": "markdown",
   "metadata": {},
   "source": [
    "AKA One-Hot Encoding: We will be creating vectors that have a dimensionality equal to the size of our vocabulary, and if the text data features that vocab word, we will put a one in that dimension. Every time we encounter that word again, we will increase the count, leaving 0s everywhere we did not find the word even once."
   ]
  },
  {
   "cell_type": "code",
   "execution_count": 163,
   "metadata": {},
   "outputs": [
    {
     "data": {
      "text/html": [
       "<img src=\"https://miro.medium.com/proxy/1*YEJf9BQQh0ma1ECs6x_7yQ.png\"/>"
      ],
      "text/plain": [
       "<IPython.core.display.Image object>"
      ]
     },
     "execution_count": 163,
     "metadata": {},
     "output_type": "execute_result"
    }
   ],
   "source": [
    "from IPython.display import Image\n",
    "from IPython.core.display import HTML \n",
    "Image(url= \"https://miro.medium.com/proxy/1*YEJf9BQQh0ma1ECs6x_7yQ.png\")"
   ]
  },
  {
   "cell_type": "code",
   "execution_count": 35,
   "metadata": {},
   "outputs": [],
   "source": [
    "countvector = CountVectorizer()\n",
    "countvector.fit(X_train)\n",
    "X_train_countvec = countvector.transform(X_train)\n",
    "X_test_countvec = countvector.transform(X_test)"
   ]
  },
  {
   "cell_type": "code",
   "execution_count": null,
   "metadata": {},
   "outputs": [],
   "source": []
  },
  {
   "cell_type": "code",
   "execution_count": 36,
   "metadata": {},
   "outputs": [
    {
     "data": {
      "text/plain": [
       "(391, 4779)"
      ]
     },
     "execution_count": 36,
     "metadata": {},
     "output_type": "execute_result"
    }
   ],
   "source": [
    "X_test_countvec.shape"
   ]
  },
  {
   "cell_type": "markdown",
   "metadata": {},
   "source": [
    "**Logistic Regression**"
   ]
  },
  {
   "cell_type": "code",
   "execution_count": 37,
   "metadata": {},
   "outputs": [
    {
     "name": "stdout",
     "output_type": "stream",
     "text": [
      "[[238  16   4]\n",
      " [ 20  44   6]\n",
      " [  5   3  55]]\n",
      "\n",
      "\n",
      "              precision    recall  f1-score   support\n",
      "\n",
      "         0.0       0.90      0.92      0.91       258\n",
      "         1.0       0.70      0.63      0.66        70\n",
      "         2.0       0.85      0.87      0.86        63\n",
      "\n",
      "    accuracy                           0.86       391\n",
      "   macro avg       0.82      0.81      0.81       391\n",
      "weighted avg       0.86      0.86      0.86       391\n",
      "\n"
     ]
    }
   ],
   "source": [
    "log_model = LogisticRegression()\n",
    "log_model.fit(X_train_countvec, y_train)\n",
    "y_pred_log_model = log_model.predict(X_test_countvec)\n",
    "log_predicted_prob = log_model.predict_proba(X_test_countvec)\n",
    "print(confusion_matrix(y_test, y_pred_log_model))\n",
    "print(\"\\n\")\n",
    "print(classification_report(y_test, y_pred_log_model))"
   ]
  },
  {
   "cell_type": "code",
   "execution_count": 38,
   "metadata": {},
   "outputs": [],
   "source": [
    "from sklearn.metrics import accuracy_score\n",
    "from sklearn.metrics import roc_auc_score\n",
    "from sklearn.metrics import roc_curve,auc\n",
    "\n",
    "from sklearn.metrics import recall_score\n",
    "from sklearn.metrics import precision_score\n",
    "from sklearn.metrics import precision_recall_curve\n",
    "from sklearn.metrics import plot_roc_curve"
   ]
  },
  {
   "cell_type": "code",
   "execution_count": 39,
   "metadata": {},
   "outputs": [],
   "source": [
    "recall = recall_score(y_test, y_pred_log_model,average='weighted')\n",
    "precision = precision_score(y_test, y_pred_log_model,average='weighted')"
   ]
  },
  {
   "cell_type": "code",
   "execution_count": 40,
   "metadata": {},
   "outputs": [
    {
     "name": "stdout",
     "output_type": "stream",
     "text": [
      "Accuracy: 0.86\n",
      "Auc: 0.95\n",
      "Detail:\n",
      "              precision    recall  f1-score   support\n",
      "\n",
      "         0.0       0.90      0.92      0.91       258\n",
      "         1.0       0.70      0.63      0.66        70\n",
      "         2.0       0.85      0.87      0.86        63\n",
      "\n",
      "    accuracy                           0.86       391\n",
      "   macro avg       0.82      0.81      0.81       391\n",
      "weighted avg       0.86      0.86      0.86       391\n",
      "\n"
     ]
    },
    {
     "data": {
      "image/png": "[encoded data removed]",
      "text/plain": [
       "<Figure size 432x288 with 1 Axes>"
      ]
     },
     "metadata": {
      "needs_background": "light"
     },
     "output_type": "display_data"
    },
    {
     "data": {
      "image/png": "[encoded data removed]",
      "text/plain": [
       "<Figure size 432x288 with 1 Axes>"
      ]
     },
     "metadata": {
      "needs_background": "light"
     },
     "output_type": "display_data"
    }
   ],
   "source": [
    "classes = np.unique(y_test)\n",
    "y_test_array = pd.get_dummies(y_test, drop_first=False).values\n",
    "    \n",
    "## Accuracy, Precision, Recall\n",
    "accuracy = accuracy_score(y_test, y_pred_log_model)\n",
    "auc = roc_auc_score(y_test, log_predicted_prob, \n",
    "                            multi_class=\"ovr\")\n",
    "print(\"Accuracy:\",  round(accuracy,2))\n",
    "print(\"Auc:\", round(auc,2))\n",
    "print(\"Detail:\")\n",
    "print(classification_report(y_test, y_pred_log_model))\n",
    "    \n",
    "## Plot confusion matrix\n",
    "cm = confusion_matrix(y_test, y_pred_log_model)\n",
    "fig, ax = plt.subplots()\n",
    "sns.heatmap(cm, annot=True, fmt='d', ax=ax, cmap=plt.cm.Blues, \n",
    "            cbar=False)\n",
    "ax.set(xlabel=\"Pred\", ylabel=\"True\", xticklabels=classes, \n",
    "       yticklabels=classes, title=\"Confusion matrix\")\n",
    "plt.yticks(rotation=0)\n",
    "\n",
    "fig = plt.figure()\n",
    "ax = fig.add_subplot(111)\n",
    "## Plot roc\n",
    "for i in range(len(classes)):\n",
    "    fpr, tpr, thresholds = roc_curve(y_test_array[:,i],  \n",
    "                           log_predicted_prob[:,i])\n",
    "    ax.plot(fpr, tpr, lw=3, \n",
    "              label='{0} (area={1:0.2f})'.format(classes[i], \n",
    "                              roc_auc_score(y_test, log_predicted_prob, \n",
    "                            multi_class=\"ovr\"))\n",
    "               )\n",
    "ax.plot([0,1], [0,1], color='navy', lw=3, linestyle='--')\n",
    "ax.set(xlim=[-0.05,1.0], ylim=[0.0,1.05], \n",
    "          xlabel='False Positive Rate', \n",
    "          ylabel=\"True Positive Rate (Recall)\", \n",
    "          title=\"Receiver operating characteristic\")\n",
    "ax.legend(loc=\"lower right\")\n",
    "ax.grid(True)\n",
    "    \n"
   ]
  },
  {
   "cell_type": "markdown",
   "metadata": {},
   "source": [
    "**Random Forest**"
   ]
  },
  {
   "cell_type": "code",
   "execution_count": 41,
   "metadata": {},
   "outputs": [
    {
     "name": "stdout",
     "output_type": "stream",
     "text": [
      "[[239  13   6]\n",
      " [ 24  36  10]\n",
      " [  6   0  57]]\n",
      "\n",
      "\n",
      "              precision    recall  f1-score   support\n",
      "\n",
      "         0.0       0.89      0.93      0.91       258\n",
      "         1.0       0.73      0.51      0.61        70\n",
      "         2.0       0.78      0.90      0.84        63\n",
      "\n",
      "    accuracy                           0.85       391\n",
      "   macro avg       0.80      0.78      0.78       391\n",
      "weighted avg       0.84      0.85      0.84       391\n",
      "\n"
     ]
    }
   ],
   "source": [
    "rfc_model = RandomForestClassifier()\n",
    "rfc_model.fit(X_train_countvec, y_train)\n",
    "y_pred_rfc_model = rfc_model.predict(X_test_countvec)\n",
    "rfc_predicted_prob = rfc_model.predict_proba(X_test_countvec)\n",
    "print(confusion_matrix(y_test, y_pred_rfc_model))\n",
    "print(\"\\n\")\n",
    "print(classification_report(y_test, y_pred_rfc_model))"
   ]
  },
  {
   "cell_type": "code",
   "execution_count": 42,
   "metadata": {},
   "outputs": [
    {
     "name": "stdout",
     "output_type": "stream",
     "text": [
      "Accuracy: 0.86\n",
      "Auc: 0.95\n",
      "Detail:\n",
      "              precision    recall  f1-score   support\n",
      "\n",
      "         0.0       0.90      0.92      0.91       258\n",
      "         1.0       0.70      0.63      0.66        70\n",
      "         2.0       0.85      0.87      0.86        63\n",
      "\n",
      "    accuracy                           0.86       391\n",
      "   macro avg       0.82      0.81      0.81       391\n",
      "weighted avg       0.86      0.86      0.86       391\n",
      "\n"
     ]
    },
    {
     "data": {
      "image/png": "[encoded data removed]",
      "text/plain": [
       "<Figure size 432x288 with 1 Axes>"
      ]
     },
     "metadata": {
      "needs_background": "light"
     },
     "output_type": "display_data"
    },
    {
     "data": {
      "image/png": "[encoded data removed]",
      "text/plain": [
       "<Figure size 432x288 with 1 Axes>"
      ]
     },
     "metadata": {
      "needs_background": "light"
     },
     "output_type": "display_data"
    }
   ],
   "source": [
    "classes = np.unique(y_test)\n",
    "y_test_array = pd.get_dummies(y_test, drop_first=False).values\n",
    "    \n",
    "## Accuracy, Precision, Recall\n",
    "accuracy = accuracy_score(y_test, y_pred_log_model)\n",
    "auc = roc_auc_score(y_test, log_predicted_prob, \n",
    "                            multi_class=\"ovr\")\n",
    "print(\"Accuracy:\",  round(accuracy,2))\n",
    "print(\"Auc:\", round(auc,2))\n",
    "print(\"Detail:\")\n",
    "print(classification_report(y_test, y_pred_log_model))\n",
    "    \n",
    "## Plot confusion matrix\n",
    "cm = confusion_matrix(y_test, y_pred_log_model)\n",
    "fig, ax = plt.subplots()\n",
    "sns.heatmap(cm, annot=True, fmt='d', ax=ax, cmap=plt.cm.Blues, \n",
    "            cbar=False)\n",
    "ax.set(xlabel=\"Pred\", ylabel=\"True\", xticklabels=classes, \n",
    "       yticklabels=classes, title=\"Confusion matrix\")\n",
    "plt.yticks(rotation=0)\n",
    "\n",
    "fig = plt.figure()\n",
    "ax = fig.add_subplot(111)\n",
    "## Plot roc\n",
    "for i in range(len(classes)):\n",
    "    fpr, tpr, thresholds = roc_curve(y_test_array[:,i],  \n",
    "                           log_predicted_prob[:,i])\n",
    "    ax.plot(fpr, tpr, lw=3, \n",
    "              label='{0} (area={1:0.2f})'.format(classes[i], \n",
    "                              roc_auc_score(y_test, log_predicted_prob, \n",
    "                            multi_class=\"ovr\"))\n",
    "               )\n",
    "ax.plot([0,1], [0,1], color='navy', lw=3, linestyle='--')\n",
    "ax.set(xlim=[-0.05,1.0], ylim=[0.0,1.05], \n",
    "          xlabel='False Positive Rate', \n",
    "          ylabel=\"True Positive Rate (Recall)\", \n",
    "          title=\"Receiver operating characteristic\")\n",
    "ax.legend(loc=\"lower right\")\n",
    "ax.grid(True)\n",
    "    "
   ]
  },
  {
   "cell_type": "code",
   "execution_count": null,
   "metadata": {},
   "outputs": [],
   "source": []
  },
  {
   "cell_type": "code",
   "execution_count": null,
   "metadata": {},
   "outputs": [],
   "source": []
  },
  {
   "cell_type": "markdown",
   "metadata": {},
   "source": [
    "**LSTM**"
   ]
  },
  {
   "cell_type": "code",
   "execution_count": 43,
   "metadata": {},
   "outputs": [],
   "source": [
    "import tensorflow as tf\n",
    "import numpy as np\n",
    "from tensorflow.keras.preprocessing.text import Tokenizer\n",
    "from tensorflow.keras.preprocessing.sequence import pad_sequences\n",
    "from tensorflow.keras.models import Sequential\n",
    "from tensorflow.keras.layers import Dense, Flatten, LSTM, Dropout, Activation, Embedding, Bidirectional,SpatialDropout1D\n",
    "\n",
    "from tensorflow.keras.callbacks import EarlyStopping"
   ]
  },
  {
   "cell_type": "code",
   "execution_count": 44,
   "metadata": {},
   "outputs": [
    {
     "name": "stdout",
     "output_type": "stream",
     "text": [
      "Found 6026 unique tokens.\n"
     ]
    }
   ],
   "source": [
    "# The maximum number of words to be used. (most frequent)\n",
    "MAX_NB_WORDS = 50000\n",
    "# Max number of words in each complaint.\n",
    "MAX_SEQUENCE_LENGTH = 250\n",
    "# This is fixed.\n",
    "EMBEDDING_DIM = 100\n",
    "tokenizer = Tokenizer(num_words=MAX_NB_WORDS, filters='!\"#$%&()*+,-./:;<=>?@[\\]^_`{|}~', lower=True)\n",
    "tokenizer.fit_on_texts(train.Verbatim.values)\n",
    "word_index = tokenizer.word_index\n",
    "print('Found %s unique tokens.' % len(word_index))"
   ]
  },
  {
   "cell_type": "code",
   "execution_count": 45,
   "metadata": {},
   "outputs": [
    {
     "name": "stdout",
     "output_type": "stream",
     "text": [
      "Shape of data tensor: (1303, 250)\n"
     ]
    }
   ],
   "source": [
    "X = tokenizer.texts_to_sequences(train.Verbatim.values)\n",
    "X = pad_sequences(X, maxlen=MAX_SEQUENCE_LENGTH)\n",
    "print('Shape of data tensor:', X.shape)"
   ]
  },
  {
   "cell_type": "code",
   "execution_count": 46,
   "metadata": {},
   "outputs": [
    {
     "name": "stdout",
     "output_type": "stream",
     "text": [
      "Shape of label tensor: (1303, 3)\n"
     ]
    }
   ],
   "source": [
    "Y = pd.get_dummies(train.sentiment).values\n",
    "print('Shape of label tensor:', Y.shape)"
   ]
  },
  {
   "cell_type": "code",
   "execution_count": 47,
   "metadata": {},
   "outputs": [],
   "source": [
    "X_train, X_test, Y_train, Y_test = train_test_split(X,Y, test_size = 0.10, random_state = 42)"
   ]
  },
  {
   "cell_type": "markdown",
   "metadata": {},
   "source": [
    "**The first layer is the embedded layer that uses 100 length vectors to represent each word.** \n",
    "**SpatialDropout1D performs variational dropout in NLP models.**\n",
    "**The next layer is the LSTM layer with 100 memory units.**\n",
    "**The output layer must create 3 output values, one for each class.**\n",
    "**Activation function is softmax for multi-class classification.**\n",
    "**Because it is a multi-class classification problem, categorical_crossentropy is used as the loss function.**"
   ]
  },
  {
   "cell_type": "code",
   "execution_count": null,
   "metadata": {},
   "outputs": [],
   "source": []
  },
  {
   "cell_type": "code",
   "execution_count": 48,
   "metadata": {},
   "outputs": [
    {
     "name": "stdout",
     "output_type": "stream",
     "text": [
      "Epoch 1/10\n",
      "17/17 [==============================] - 21s 991ms/step - loss: 1.0348 - accuracy: 0.5828 - val_loss: 0.9024 - val_accuracy: 0.6610\n",
      "Epoch 2/10\n",
      "17/17 [==============================] - 15s 885ms/step - loss: 0.8759 - accuracy: 0.6446 - val_loss: 0.8235 - val_accuracy: 0.6610\n",
      "Epoch 3/10\n",
      "17/17 [==============================] - 15s 914ms/step - loss: 0.7626 - accuracy: 0.6523 - val_loss: 0.6540 - val_accuracy: 0.6949\n",
      "Epoch 4/10\n",
      "17/17 [==============================] - 16s 959ms/step - loss: 0.4786 - accuracy: 0.8070 - val_loss: 0.5596 - val_accuracy: 0.7797\n",
      "Epoch 5/10\n",
      "17/17 [==============================] - 16s 928ms/step - loss: 0.3382 - accuracy: 0.9174 - val_loss: 0.4866 - val_accuracy: 0.8136\n",
      "Epoch 6/10\n",
      "17/17 [==============================] - 16s 944ms/step - loss: 0.2225 - accuracy: 0.9248 - val_loss: 0.4398 - val_accuracy: 0.8390\n",
      "Epoch 7/10\n",
      "17/17 [==============================] - 20s 1s/step - loss: 0.1699 - accuracy: 0.9404 - val_loss: 0.4186 - val_accuracy: 0.8390\n",
      "Epoch 8/10\n",
      "17/17 [==============================] - 16s 937ms/step - loss: 0.0957 - accuracy: 0.9722 - val_loss: 0.4510 - val_accuracy: 0.8136\n",
      "Epoch 9/10\n",
      "17/17 [==============================] - 15s 908ms/step - loss: 0.0591 - accuracy: 0.9841 - val_loss: 0.4459 - val_accuracy: 0.8390\n",
      "Epoch 10/10\n",
      "17/17 [==============================] - 16s 945ms/step - loss: 0.0496 - accuracy: 0.9856 - val_loss: 0.4454 - val_accuracy: 0.8136\n"
     ]
    }
   ],
   "source": [
    "model = Sequential()\n",
    "model.add(Embedding(MAX_NB_WORDS, EMBEDDING_DIM, input_length=X.shape[1]))\n",
    "model.add(SpatialDropout1D(0.2))\n",
    "model.add(LSTM(100, dropout=0.2, recurrent_dropout=0.2))\n",
    "\n",
    "model.add(Dense(3, activation='softmax'))\n",
    "model.compile(loss='categorical_crossentropy', optimizer='adam', metrics=['accuracy'])\n",
    "\n",
    "epochs = 10\n",
    "batch_size = 64\n",
    "\n",
    "history = model.fit(X_train, Y_train, epochs=epochs, batch_size=batch_size,validation_split=0.1,callbacks=[EarlyStopping(monitor='val_loss', patience=3, min_delta=0.0001)])\n"
   ]
  },
  {
   "cell_type": "code",
   "execution_count": 49,
   "metadata": {},
   "outputs": [
    {
     "name": "stdout",
     "output_type": "stream",
     "text": [
      "5/5 [==============================] - 0s 62ms/step - loss: 0.2980 - accuracy: 0.8702\n",
      "Test set\n",
      "  Loss: 0.298\n",
      "  Accuracy: 0.870\n"
     ]
    }
   ],
   "source": [
    "accuracy = model.evaluate(X_test,Y_test)\n",
    "print('Test set\\n  Loss: {:0.3f}\\n  Accuracy: {:0.3f}'.format(accuracy[0],accuracy[1]))"
   ]
  },
  {
   "cell_type": "code",
   "execution_count": 50,
   "metadata": {},
   "outputs": [
    {
     "data": {
      "image/png": "[encoded data removed]",
      "text/plain": [
       "<Figure size 432x288 with 1 Axes>"
      ]
     },
     "metadata": {
      "needs_background": "light"
     },
     "output_type": "display_data"
    }
   ],
   "source": [
    "plt.title('Loss')\n",
    "plt.plot(history.history['loss'], label='train')\n",
    "plt.plot(history.history['val_loss'], label='test')\n",
    "plt.legend()\n",
    "plt.show();\n"
   ]
  },
  {
   "cell_type": "markdown",
   "metadata": {},
   "source": [
    "**this is obviously overfitting**"
   ]
  },
  {
   "cell_type": "code",
   "execution_count": 51,
   "metadata": {},
   "outputs": [
    {
     "data": {
      "image/png": "[encoded data removed]",
      "text/plain": [
       "<Figure size 432x288 with 1 Axes>"
      ]
     },
     "metadata": {
      "needs_background": "light"
     },
     "output_type": "display_data"
    }
   ],
   "source": [
    "plt.title('Accuracy')\n",
    "plt.plot(history.history['accuracy'], label='train')\n",
    "plt.plot(history.history['val_accuracy'], label='test')\n",
    "plt.legend()\n",
    "plt.show();"
   ]
  },
  {
   "cell_type": "code",
   "execution_count": null,
   "metadata": {},
   "outputs": [],
   "source": []
  },
  {
   "cell_type": "markdown",
   "metadata": {},
   "source": [
    "**So Logistic Regression gave best results.For that reason,will try model tuning with logistic regression**"
   ]
  },
  {
   "cell_type": "markdown",
   "metadata": {},
   "source": [
    "# Tuning with Logistic Regression"
   ]
  },
  {
   "cell_type": "markdown",
   "metadata": {},
   "source": [
    "**No change for results**"
   ]
  },
  {
   "cell_type": "code",
   "execution_count": 52,
   "metadata": {},
   "outputs": [],
   "source": [
    "params_log = {\"penalty\":[\"l1\", \"l2\", \"elasticnet\"],\n",
    "              \"C\":[0.5,1,1.5],\n",
    "              \"solver\":[\"newton-cg\", \"lbfgs\", \"liblinear\", \"sag\", \"saga\"]}"
   ]
  },
  {
   "cell_type": "code",
   "execution_count": 53,
   "metadata": {},
   "outputs": [
    {
     "name": "stdout",
     "output_type": "stream",
     "text": [
      "{'solver': 'saga', 'penalty': 'l2', 'C': 1.5}\n"
     ]
    },
    {
     "name": "stderr",
     "output_type": "stream",
     "text": [
      "C:\\Users\\MONSTER\\anaconda3\\lib\\site-packages\\sklearn\\linear_model\\_sag.py:329: ConvergenceWarning: The max_iter was reached which means the coef_ did not converge\n",
      "  warnings.warn(\"The max_iter was reached which means \"\n"
     ]
    }
   ],
   "source": [
    "log_model_countvec_rand = RandomizedSearchCV(LogisticRegression(), param_distributions=params_log, n_jobs=-1, cv=3).fit(X_train_countvec, y_train)\n",
    "print(log_model_countvec_rand.best_params_)"
   ]
  },
  {
   "cell_type": "code",
   "execution_count": 54,
   "metadata": {},
   "outputs": [
    {
     "name": "stdout",
     "output_type": "stream",
     "text": [
      "[[236  16   6]\n",
      " [ 15  48   7]\n",
      " [  4   2  57]]\n",
      "\n",
      "\n",
      "              precision    recall  f1-score   support\n",
      "\n",
      "         0.0       0.90      0.92      0.91       258\n",
      "         1.0       0.70      0.63      0.66        70\n",
      "         2.0       0.85      0.87      0.86        63\n",
      "\n",
      "    accuracy                           0.86       391\n",
      "   macro avg       0.82      0.81      0.81       391\n",
      "weighted avg       0.86      0.86      0.86       391\n",
      "\n"
     ]
    },
    {
     "name": "stderr",
     "output_type": "stream",
     "text": [
      "C:\\Users\\MONSTER\\anaconda3\\lib\\site-packages\\sklearn\\linear_model\\_sag.py:329: ConvergenceWarning: The max_iter was reached which means the coef_ did not converge\n",
      "  warnings.warn(\"The max_iter was reached which means \"\n"
     ]
    }
   ],
   "source": [
    "log_model_CV = LogisticRegression(solver=\"saga\", penalty=\"l2\", C=1.5)\n",
    "log_model_CV.fit(X_train_countvec, y_train)\n",
    "y_pred_log_model_CV = log_model_CV.predict(X_test_countvec)\n",
    "log_CV_predicted_prob = log_model_CV.predict_proba(X_test_countvec)\n",
    "print(confusion_matrix(y_test, y_pred_log_model_CV))\n",
    "print(\"\\n\")\n",
    "print(classification_report(y_test, y_pred_log_model))"
   ]
  },
  {
   "cell_type": "code",
   "execution_count": 55,
   "metadata": {},
   "outputs": [
    {
     "name": "stdout",
     "output_type": "stream",
     "text": [
      "Accuracy: 0.87\n",
      "Auc: 0.95\n",
      "Detail:\n",
      "              precision    recall  f1-score   support\n",
      "\n",
      "         0.0       0.93      0.91      0.92       258\n",
      "         1.0       0.73      0.69      0.71        70\n",
      "         2.0       0.81      0.90      0.86        63\n",
      "\n",
      "    accuracy                           0.87       391\n",
      "   macro avg       0.82      0.84      0.83       391\n",
      "weighted avg       0.87      0.87      0.87       391\n",
      "\n"
     ]
    },
    {
     "data": {
      "image/png": "[encoded data removed]",
      "text/plain": [
       "<Figure size 432x288 with 1 Axes>"
      ]
     },
     "metadata": {
      "needs_background": "light"
     },
     "output_type": "display_data"
    },
    {
     "data": {
      "image/png": "[encoded data removed]",
      "text/plain": [
       "<Figure size 432x288 with 1 Axes>"
      ]
     },
     "metadata": {
      "needs_background": "light"
     },
     "output_type": "display_data"
    }
   ],
   "source": [
    "classes = np.unique(y_test)\n",
    "y_test_array = pd.get_dummies(y_test, drop_first=False).values\n",
    "    \n",
    "## Accuracy, Precision, Recall\n",
    "accuracy = accuracy_score(y_test, y_pred_log_model_CV)\n",
    "auc = roc_auc_score(y_test, log_CV_predicted_prob, \n",
    "                            multi_class=\"ovr\")\n",
    "print(\"Accuracy:\",  round(accuracy,2))\n",
    "print(\"Auc:\", round(auc,2))\n",
    "print(\"Detail:\")\n",
    "print(classification_report(y_test, y_pred_log_model_CV))\n",
    "    \n",
    "## Plot confusion matrix\n",
    "cm = confusion_matrix(y_test,y_pred_log_model_CV)\n",
    "fig, ax = plt.subplots()\n",
    "sns.heatmap(cm, annot=True, fmt='d', ax=ax, cmap=plt.cm.Blues, \n",
    "            cbar=False)\n",
    "ax.set(xlabel=\"Pred\", ylabel=\"True\", xticklabels=classes, \n",
    "       yticklabels=classes, title=\"Confusion matrix\")\n",
    "plt.yticks(rotation=0)\n",
    "\n",
    "fig = plt.figure()\n",
    "ax = fig.add_subplot(111)\n",
    "## Plot roc\n",
    "for i in range(len(classes)):\n",
    "    fpr, tpr, thresholds = roc_curve(y_test_array[:,i],  \n",
    "                           log_CV_predicted_prob[:,i])\n",
    "    ax.plot(fpr, tpr, lw=3, \n",
    "              label='{0} (area={1:0.2f})'.format(classes[i], \n",
    "                              roc_auc_score(y_test,log_CV_predicted_prob, \n",
    "                            multi_class=\"ovr\"))\n",
    "               )\n",
    "ax.plot([0,1], [0,1], color='navy', lw=3, linestyle='--')\n",
    "ax.set(xlim=[-0.05,1.0], ylim=[0.0,1.05], \n",
    "          xlabel='False Positive Rate', \n",
    "          ylabel=\"True Positive Rate (Recall)\", \n",
    "          title=\"Receiver operating characteristic\")\n",
    "ax.legend(loc=\"lower right\")\n",
    "ax.grid(True)"
   ]
  },
  {
   "cell_type": "markdown",
   "metadata": {},
   "source": [
    "# Let's try different type of vectorization"
   ]
  },
  {
   "cell_type": "markdown",
   "metadata": {},
   "source": [
    "# TF-IDF"
   ]
  },
  {
   "cell_type": "code",
   "execution_count": 164,
   "metadata": {},
   "outputs": [
    {
     "data": {
      "text/html": [
       "<img src=\"https://miro.medium.com/proxy/1*HM0Vcdrx2RApOyjp_ZeW_Q.png\"/>"
      ],
      "text/plain": [
       "<IPython.core.display.Image object>"
      ]
     },
     "execution_count": 164,
     "metadata": {},
     "output_type": "execute_result"
    }
   ],
   "source": [
    "from IPython.display import Image\n",
    "from IPython.core.display import HTML \n",
    "Image(url= \"https://miro.medium.com/proxy/1*HM0Vcdrx2RApOyjp_ZeW_Q.png\")"
   ]
  },
  {
   "cell_type": "markdown",
   "metadata": {},
   "source": [
    "The number of times a word appears in a document divded by the total number of words in the document. Every document has its own term frequency."
   ]
  },
  {
   "cell_type": "markdown",
   "metadata": {},
   "source": [
    "Inverse Data Frequency (IDF)"
   ]
  },
  {
   "cell_type": "markdown",
   "metadata": {},
   "source": [
    "The log of the number of documents divided by the number of documents that contain the word w. Inverse data frequency determines the weight of rare words across all documents in the corpus."
   ]
  },
  {
   "cell_type": "code",
   "execution_count": 165,
   "metadata": {},
   "outputs": [
    {
     "data": {
      "text/html": [
       "<img src=\"https://miro.medium.com/proxy/1*A5YGwFpcTd0YTCdgoiHFUw.png\"/>"
      ],
      "text/plain": [
       "<IPython.core.display.Image object>"
      ]
     },
     "execution_count": 165,
     "metadata": {},
     "output_type": "execute_result"
    }
   ],
   "source": [
    "from IPython.display import Image\n",
    "from IPython.core.display import HTML \n",
    "Image(url= \"https://miro.medium.com/proxy/1*A5YGwFpcTd0YTCdgoiHFUw.png\")"
   ]
  },
  {
   "cell_type": "markdown",
   "metadata": {},
   "source": [
    "Lastly, the TF-IDF is simply the TF multiplied by IDF."
   ]
  },
  {
   "cell_type": "code",
   "execution_count": 166,
   "metadata": {},
   "outputs": [
    {
     "data": {
      "text/html": [
       "<img src=\"https://miro.medium.com/proxy/1*nSqHXwOIJ2fa_EFLTh5KYw.png\"/>"
      ],
      "text/plain": [
       "<IPython.core.display.Image object>"
      ]
     },
     "execution_count": 166,
     "metadata": {},
     "output_type": "execute_result"
    }
   ],
   "source": [
    "from IPython.display import Image\n",
    "from IPython.core.display import HTML \n",
    "Image(url= \"https://miro.medium.com/proxy/1*nSqHXwOIJ2fa_EFLTh5KYw.png\")"
   ]
  },
  {
   "cell_type": "code",
   "execution_count": null,
   "metadata": {},
   "outputs": [],
   "source": []
  },
  {
   "cell_type": "code",
   "execution_count": 56,
   "metadata": {},
   "outputs": [],
   "source": [
    "X_train, X_test, y_train, y_test = train_test_split(train.Verbatim.values, train.sentiment.values, test_size=0.3, random_state=42)"
   ]
  },
  {
   "cell_type": "code",
   "execution_count": 57,
   "metadata": {},
   "outputs": [],
   "source": [
    "tfidfvector = TfidfVectorizer()\n",
    "tfidfvector.fit(X_train)\n",
    "X_train_tfidfvec = tfidfvector.transform(X_train)\n",
    "X_test_tfidfvec = tfidfvector.transform(X_test)"
   ]
  },
  {
   "cell_type": "markdown",
   "metadata": {},
   "source": [
    "**As we see, the results aren't better than count vectorizer with logistic regression. I decide not forward with TF-IDF**"
   ]
  },
  {
   "cell_type": "code",
   "execution_count": 58,
   "metadata": {},
   "outputs": [
    {
     "name": "stdout",
     "output_type": "stream",
     "text": [
      "[[251   6   1]\n",
      " [ 37  31   2]\n",
      " [ 17   0  46]]\n",
      "\n",
      "\n",
      "              precision    recall  f1-score   support\n",
      "\n",
      "         0.0       0.82      0.97      0.89       258\n",
      "         1.0       0.84      0.44      0.58        70\n",
      "         2.0       0.94      0.73      0.82        63\n",
      "\n",
      "    accuracy                           0.84       391\n",
      "   macro avg       0.87      0.72      0.76       391\n",
      "weighted avg       0.84      0.84      0.82       391\n",
      "\n"
     ]
    }
   ],
   "source": [
    "log_model2 = LogisticRegression()\n",
    "log_model2.fit(X_train_tfidfvec, y_train)\n",
    "y_pred_log_model2 = log_model2.predict(X_test_tfidfvec)\n",
    "log2_predicted_prob= log_model2.predict_proba(X_test_tfidfvec)\n",
    "print(confusion_matrix(y_test, y_pred_log_model2))\n",
    "print(\"\\n\")\n",
    "print(classification_report(y_test, y_pred_log_model2))"
   ]
  },
  {
   "cell_type": "code",
   "execution_count": 59,
   "metadata": {},
   "outputs": [
    {
     "name": "stdout",
     "output_type": "stream",
     "text": [
      "Accuracy: 0.84\n",
      "Auc: 0.96\n",
      "Detail:\n",
      "              precision    recall  f1-score   support\n",
      "\n",
      "         0.0       0.82      0.97      0.89       258\n",
      "         1.0       0.84      0.44      0.58        70\n",
      "         2.0       0.94      0.73      0.82        63\n",
      "\n",
      "    accuracy                           0.84       391\n",
      "   macro avg       0.87      0.72      0.76       391\n",
      "weighted avg       0.84      0.84      0.82       391\n",
      "\n"
     ]
    },
    {
     "data": {
      "image/png": "[encoded data removed]",
      "text/plain": [
       "<Figure size 432x288 with 1 Axes>"
      ]
     },
     "metadata": {
      "needs_background": "light"
     },
     "output_type": "display_data"
    },
    {
     "data": {
      "image/png": "[encoded data removed]",
      "text/plain": [
       "<Figure size 432x288 with 1 Axes>"
      ]
     },
     "metadata": {
      "needs_background": "light"
     },
     "output_type": "display_data"
    }
   ],
   "source": [
    "classes = np.unique(y_test)\n",
    "y_test_array = pd.get_dummies(y_test, drop_first=False).values\n",
    "    \n",
    "## Accuracy, Precision, Recall\n",
    "accuracy = accuracy_score(y_test, y_pred_log_model2)\n",
    "auc = roc_auc_score(y_test, log2_predicted_prob, \n",
    "                            multi_class=\"ovr\")\n",
    "print(\"Accuracy:\",  round(accuracy,2))\n",
    "print(\"Auc:\", round(auc,2))\n",
    "print(\"Detail:\")\n",
    "print(classification_report(y_test, y_pred_log_model2))\n",
    "    \n",
    "## Plot confusion matrix\n",
    "cm = confusion_matrix(y_test,y_pred_log_model2)\n",
    "fig, ax = plt.subplots()\n",
    "sns.heatmap(cm, annot=True, fmt='d', ax=ax, cmap=plt.cm.Blues, \n",
    "            cbar=False)\n",
    "ax.set(xlabel=\"Pred\", ylabel=\"True\", xticklabels=classes, \n",
    "       yticklabels=classes, title=\"Confusion matrix\")\n",
    "plt.yticks(rotation=0)\n",
    "\n",
    "fig = plt.figure()\n",
    "ax = fig.add_subplot(111)\n",
    "## Plot roc\n",
    "for i in range(len(classes)):\n",
    "    fpr, tpr, thresholds = roc_curve(y_test_array[:,i],  \n",
    "                           log2_predicted_prob[:,i])\n",
    "    ax.plot(fpr, tpr, lw=3, \n",
    "              label='{0} (area={1:0.2f})'.format(classes[i], \n",
    "                              roc_auc_score(y_test,log2_predicted_prob, \n",
    "                            multi_class=\"ovr\"))\n",
    "               )\n",
    "ax.plot([0,1], [0,1], color='navy', lw=3, linestyle='--')\n",
    "ax.set(xlim=[-0.05,1.0], ylim=[0.0,1.05], \n",
    "          xlabel='False Positive Rate', \n",
    "          ylabel=\"True Positive Rate (Recall)\", \n",
    "          title=\"Receiver operating characteristic\")\n",
    "ax.legend(loc=\"lower right\")\n",
    "ax.grid(True)\n"
   ]
  },
  {
   "cell_type": "code",
   "execution_count": 60,
   "metadata": {},
   "outputs": [
    {
     "name": "stdout",
     "output_type": "stream",
     "text": [
      "[[239  13   6]\n",
      " [ 23  37  10]\n",
      " [  5   1  57]]\n",
      "\n",
      "\n",
      "              precision    recall  f1-score   support\n",
      "\n",
      "         0.0       0.90      0.93      0.91       258\n",
      "         1.0       0.73      0.53      0.61        70\n",
      "         2.0       0.78      0.90      0.84        63\n",
      "\n",
      "    accuracy                           0.85       391\n",
      "   macro avg       0.80      0.79      0.79       391\n",
      "weighted avg       0.85      0.85      0.85       391\n",
      "\n"
     ]
    }
   ],
   "source": [
    "rfc_model2 = RandomForestClassifier()\n",
    "rfc_model2.fit(X_train_tfidfvec, y_train)\n",
    "y_pred_rfc_model2 = rfc_model2.predict(X_test_tfidfvec)\n",
    "rfc_predicted_prob = rfc_model2.predict_proba(X_test_tfidfvec)\n",
    "print(confusion_matrix(y_test, y_pred_rfc_model2))\n",
    "print(\"\\n\")\n",
    "print(classification_report(y_test, y_pred_rfc_model2))"
   ]
  },
  {
   "cell_type": "code",
   "execution_count": 61,
   "metadata": {},
   "outputs": [
    {
     "name": "stdout",
     "output_type": "stream",
     "text": [
      "Accuracy: 0.85\n",
      "Auc: 0.93\n",
      "Detail:\n",
      "              precision    recall  f1-score   support\n",
      "\n",
      "         0.0       0.90      0.93      0.91       258\n",
      "         1.0       0.73      0.53      0.61        70\n",
      "         2.0       0.78      0.90      0.84        63\n",
      "\n",
      "    accuracy                           0.85       391\n",
      "   macro avg       0.80      0.79      0.79       391\n",
      "weighted avg       0.85      0.85      0.85       391\n",
      "\n"
     ]
    },
    {
     "data": {
      "image/png": "[encoded data removed]",
      "text/plain": [
       "<Figure size 432x288 with 1 Axes>"
      ]
     },
     "metadata": {
      "needs_background": "light"
     },
     "output_type": "display_data"
    },
    {
     "data": {
      "image/png": "[encoded data removed]",
      "text/plain": [
       "<Figure size 432x288 with 1 Axes>"
      ]
     },
     "metadata": {
      "needs_background": "light"
     },
     "output_type": "display_data"
    }
   ],
   "source": [
    "classes = np.unique(y_test)\n",
    "y_test_array = pd.get_dummies(y_test, drop_first=False).values\n",
    "    \n",
    "## Accuracy, Precision, Recall\n",
    "accuracy = accuracy_score(y_test, y_pred_rfc_model2)\n",
    "auc = roc_auc_score(y_test, rfc_predicted_prob, \n",
    "                            multi_class=\"ovr\")\n",
    "print(\"Accuracy:\",  round(accuracy,2))\n",
    "print(\"Auc:\", round(auc,2))\n",
    "print(\"Detail:\")\n",
    "print(classification_report(y_test, y_pred_rfc_model2))\n",
    "    \n",
    "## Plot confusion matrix\n",
    "cm = confusion_matrix(y_test,y_pred_rfc_model2)\n",
    "fig, ax = plt.subplots()\n",
    "sns.heatmap(cm, annot=True, fmt='d', ax=ax, cmap=plt.cm.Blues, \n",
    "            cbar=False)\n",
    "ax.set(xlabel=\"Pred\", ylabel=\"True\", xticklabels=classes, \n",
    "       yticklabels=classes, title=\"Confusion matrix\")\n",
    "plt.yticks(rotation=0)\n",
    "\n",
    "fig = plt.figure()\n",
    "ax = fig.add_subplot(111)\n",
    "## Plot roc\n",
    "for i in range(len(classes)):\n",
    "    fpr, tpr, thresholds = roc_curve(y_test_array[:,i],  \n",
    "                           rfc_predicted_prob[:,i])\n",
    "    ax.plot(fpr, tpr, lw=3, \n",
    "              label='{0} (area={1:0.2f})'.format(classes[i], \n",
    "                              roc_auc_score(y_test,rfc_predicted_prob, \n",
    "                            multi_class=\"ovr\"))\n",
    "               )\n",
    "ax.plot([0,1], [0,1], color='navy', lw=3, linestyle='--')\n",
    "ax.set(xlim=[-0.05,1.0], ylim=[0.0,1.05], \n",
    "          xlabel='False Positive Rate', \n",
    "          ylabel=\"True Positive Rate (Recall)\", \n",
    "          title=\"Receiver operating characteristic\")\n",
    "ax.legend(loc=\"lower right\")\n",
    "ax.grid(True)"
   ]
  },
  {
   "cell_type": "code",
   "execution_count": null,
   "metadata": {},
   "outputs": [],
   "source": []
  },
  {
   "cell_type": "code",
   "execution_count": null,
   "metadata": {},
   "outputs": [],
   "source": []
  },
  {
   "cell_type": "markdown",
   "metadata": {},
   "source": [
    "# Word2Vec Word_Embeddings"
   ]
  },
  {
   "cell_type": "markdown",
   "metadata": {},
   "source": [
    "**Word Embedding is the collective name for feature learning techniques where words from the vocabulary are mapped to vectors of real numbers. These vectors are calculated from the probability distribution for each word appearing before or after another. **\n",
    "\n",
    "CBOW - Skipgram\n",
    "\n",
    "use cosine similarity"
   ]
  },
  {
   "cell_type": "code",
   "execution_count": null,
   "metadata": {},
   "outputs": [],
   "source": []
  },
  {
   "cell_type": "code",
   "execution_count": 62,
   "metadata": {},
   "outputs": [],
   "source": [
    "from gensim.models import Word2Vec\n",
    "from sklearn.manifold import TSNE\n",
    "import matplotlib.pyplot as plt"
   ]
  },
  {
   "cell_type": "code",
   "execution_count": 63,
   "metadata": {},
   "outputs": [],
   "source": [
    "model = Word2Vec.load('word2vec.model')"
   ]
  },
  {
   "cell_type": "code",
   "execution_count": 64,
   "metadata": {},
   "outputs": [],
   "source": [
    "corpus = train.Verbatim"
   ]
  },
  {
   "cell_type": "code",
   "execution_count": null,
   "metadata": {},
   "outputs": [],
   "source": [
    "lst_corpus = [ i for i in corpus.apply(lambda x :x.split())]\n",
    "lst_corpus"
   ]
  },
  {
   "cell_type": "code",
   "execution_count": 66,
   "metadata": {},
   "outputs": [],
   "source": [
    "## fit w2v\n",
    "nlp = Word2Vec(lst_corpus, size=300,   \n",
    "            window=8, min_count=1, sg=1, iter=30)"
   ]
  },
  {
   "cell_type": "code",
   "execution_count": 67,
   "metadata": {},
   "outputs": [
    {
     "data": {
      "text/plain": [
       "<gensim.models.word2vec.Word2Vec at 0x202da252820>"
      ]
     },
     "execution_count": 67,
     "metadata": {},
     "output_type": "execute_result"
    }
   ],
   "source": [
    "nlp"
   ]
  },
  {
   "cell_type": "code",
   "execution_count": 68,
   "metadata": {},
   "outputs": [],
   "source": [
    "word = 'internet'"
   ]
  },
  {
   "cell_type": "code",
   "execution_count": 69,
   "metadata": {},
   "outputs": [
    {
     "name": "stderr",
     "output_type": "stream",
     "text": [
      "<ipython-input-69-df48be5baad4>:1: DeprecationWarning: Call to deprecated `__getitem__` (Method will be removed in 4.0.0, use self.wv.__getitem__() instead).\n",
      "  nlp[word].shape\n"
     ]
    },
    {
     "data": {
      "text/plain": [
       "(300,)"
      ]
     },
     "execution_count": 69,
     "metadata": {},
     "output_type": "execute_result"
    }
   ],
   "source": [
    "nlp[word].shape"
   ]
  },
  {
   "cell_type": "markdown",
   "metadata": {},
   "source": [
    "**Most Similar words**"
   ]
  },
  {
   "cell_type": "code",
   "execution_count": 70,
   "metadata": {},
   "outputs": [
    {
     "name": "stderr",
     "output_type": "stream",
     "text": [
      "<ipython-input-70-3e4499d98101>:4: DeprecationWarning: Call to deprecated `most_similar` (Method will be removed in 4.0.0, use self.wv.most_similar() instead).\n",
      "  nlp.most_similar(word, topn=20)]\n",
      "<ipython-input-70-3e4499d98101>:5: DeprecationWarning: Call to deprecated `__getitem__` (Method will be removed in 4.0.0, use self.wv.__getitem__() instead).\n",
      "  X = nlp[tot_words]\n",
      "C:\\Users\\MONSTER\\anaconda3\\lib\\site-packages\\pandas\\core\\indexing.py:670: SettingWithCopyWarning: \n",
      "A value is trying to be set on a copy of a slice from a DataFrame\n",
      "\n",
      "See the caveats in the documentation: https://pandas.pydata.org/pandas-docs/stable/user_guide/indexing.html#returning-a-view-versus-a-copy\n",
      "  iloc._setitem_with_indexer(indexer, value)\n"
     ]
    },
    {
     "data": {
      "image/png": "[encoded data removed]",
      "text/plain": [
       "<Figure size 1440x1152 with 1 Axes>"
      ]
     },
     "metadata": {
      "needs_background": "light"
     },
     "output_type": "display_data"
    }
   ],
   "source": [
    "fig = plt.figure(figsize=(20,16))\n",
    "## word embedding\n",
    "tot_words = [word] + [tupla[0] for tupla in \n",
    "                 nlp.most_similar(word, topn=20)]\n",
    "X = nlp[tot_words]\n",
    "## pca to reduce dimensionality from 300 to 3\n",
    "pca = TSNE(perplexity=40, n_components=3, init='pca')\n",
    "X = pca.fit_transform(X)\n",
    "## create dtf\n",
    "dtf_ = pd.DataFrame(X, index=tot_words, columns=[\"x\",\"y\",\"z\"])\n",
    "dtf_[\"input\"] = 0\n",
    "dtf_[\"input\"].iloc[0:1] = 1\n",
    "## plot 3d\n",
    "from mpl_toolkits.mplot3d import Axes3D\n",
    "ax = fig.add_subplot(111, projection='3d')\n",
    "ax.scatter(dtf_[dtf_[\"input\"]==0]['x'], \n",
    "           dtf_[dtf_[\"input\"]==0]['y'], \n",
    "           dtf_[dtf_[\"input\"]==0]['z'], c=\"black\")\n",
    "ax.scatter(dtf_[dtf_[\"input\"]==1]['x'], \n",
    "           dtf_[dtf_[\"input\"]==1]['y'], \n",
    "           dtf_[dtf_[\"input\"]==1]['z'], c=\"red\")\n",
    "ax.set(xlabel=None, ylabel=None, zlabel=None, xticklabels=[], \n",
    "       yticklabels=[], zticklabels=[])\n",
    "for label, row in dtf_[[\"x\",\"y\",\"z\"]].iterrows():\n",
    "    x, y, z = row\n",
    "    ax.text(x, y, z, s=label)"
   ]
  },
  {
   "cell_type": "code",
   "execution_count": 71,
   "metadata": {},
   "outputs": [],
   "source": [
    "## tokenize text\n",
    "tokenizer = Tokenizer(lower=True, split=' ', \n",
    "                     oov_token=\"NaN\", \n",
    "                     filters='!\"#$%&()*+,-./:;<=>?@[\\\\]^_`{|}~\\t\\n')\n",
    "tokenizer.fit_on_texts(lst_corpus)\n",
    "dic_vocabulary = tokenizer.word_index\n",
    "## create sequence\n",
    "lst_text2seq= tokenizer.texts_to_sequences(lst_corpus)\n",
    "## padding sequence\n",
    "X_train = pad_sequences(lst_text2seq, \n",
    "                    maxlen=15, padding=\"post\", truncating=\"post\")"
   ]
  },
  {
   "cell_type": "code",
   "execution_count": 72,
   "metadata": {},
   "outputs": [
    {
     "data": {
      "text/plain": [
       "array([[  17,   67,  115, ...,    0,    0,    0],\n",
       "       [  68,   69,  100, ...,  122,    5,  348],\n",
       "       [   6,   15,   45, ...,    0,    0,    0],\n",
       "       ...,\n",
       "       [2023,  125,  802, ..., 1969,   11, 6009],\n",
       "       [ 106,  598,  129, ...,  129,  297,  862],\n",
       "       [6014, 6015,    3, ..., 6023,   49,  806]])"
      ]
     },
     "execution_count": 72,
     "metadata": {},
     "output_type": "execute_result"
    }
   ],
   "source": [
    "X_train"
   ]
  },
  {
   "cell_type": "code",
   "execution_count": null,
   "metadata": {},
   "outputs": [],
   "source": []
  },
  {
   "cell_type": "code",
   "execution_count": 73,
   "metadata": {},
   "outputs": [
    {
     "data": {
      "text/plain": [
       "(1303, 15)"
      ]
     },
     "execution_count": 73,
     "metadata": {},
     "output_type": "execute_result"
    }
   ],
   "source": [
    "X_train.shape"
   ]
  },
  {
   "cell_type": "code",
   "execution_count": 74,
   "metadata": {},
   "outputs": [
    {
     "data": {
      "image/png": "[encoded data removed]",
      "text/plain": [
       "<Figure size 432x288 with 1 Axes>"
      ]
     },
     "metadata": {
      "needs_background": "light"
     },
     "output_type": "display_data"
    }
   ],
   "source": [
    "sns.heatmap(X_train==0, vmin=0, vmax=1, cbar=False)\n",
    "plt.show()"
   ]
  },
  {
   "cell_type": "markdown",
   "metadata": {},
   "source": [
    "**Let’s print how a text from the train set has been transformed into a sequence with the padding and the vocabulary.**"
   ]
  },
  {
   "cell_type": "code",
   "execution_count": 75,
   "metadata": {},
   "outputs": [
    {
     "name": "stdout",
     "output_type": "stream",
     "text": [
      "from:  alt yapı yetersiz telefon hattım çoğu yerde çekmiyor | len: 8\n",
      "to:  [ 17  67 115   9 240  94  12   2   0   0   0   0   0   0   0] | len: 15\n",
      "check:  alt  -- idx in vocabulary --> 17\n",
      "vocabulary:  {'NaN': 1, 'çekmiyor': 2, 'bir': 3, 'internet': 4, 'şebeke': 5} ... (padding element, 0)\n"
     ]
    }
   ],
   "source": [
    "i = 0\n",
    "\n",
    "## list of text: [\"I like this\", ...]\n",
    "len_txt = len(train[\"Verbatim\"].iloc[i].split())\n",
    "print(\"from: \", train[\"Verbatim\"].iloc[i], \"| len:\", len_txt)\n",
    "\n",
    "## sequence of token ids: [[1, 2, 3], ...]\n",
    "len_tokens = len(X_train[i])\n",
    "print(\"to: \", X_train[i], \"| len:\", len(X_train[i]))\n",
    "\n",
    "## vocabulary: {\"I\":1, \"like\":2, \"this\":3, ...}\n",
    "print(\"check: \", train[\"Verbatim\"].iloc[i].split()[0], \n",
    "      \" -- idx in vocabulary -->\", \n",
    "      dic_vocabulary[train[\"Verbatim\"].iloc[i].split()[0]])\n",
    "\n",
    "print(\"vocabulary: \", dict(list(dic_vocabulary.items())[0:5]), \"... (padding element, 0)\")"
   ]
  },
  {
   "cell_type": "markdown",
   "metadata": {},
   "source": [
    "**same feature engineering on the test set as well**"
   ]
  },
  {
   "cell_type": "code",
   "execution_count": 76,
   "metadata": {},
   "outputs": [],
   "source": [
    "corpus_test = test.text\n",
    "\n",
    "## create list of n-grams\n",
    "lst_corpus_test = [ i for i in corpus.apply(lambda x :x.split())]\n",
    "lst_corpus_test\n",
    "    \n",
    "\n",
    "## text to sequence with the fitted tokenizer\n",
    "lst_text2seq =tokenizer.texts_to_sequences(lst_corpus_test)\n",
    "\n",
    "## padding sequence\n",
    "X_test = pad_sequences(lst_text2seq, maxlen=15,\n",
    "             padding=\"post\", truncating=\"post\")"
   ]
  },
  {
   "cell_type": "code",
   "execution_count": 77,
   "metadata": {},
   "outputs": [
    {
     "data": {
      "text/plain": [
       "array([[  17,   67,  115, ...,    0,    0,    0],\n",
       "       [  68,   69,  100, ...,  122,    5,  348],\n",
       "       [   6,   15,   45, ...,    0,    0,    0],\n",
       "       ...,\n",
       "       [2023,  125,  802, ..., 1969,   11, 6009],\n",
       "       [ 106,  598,  129, ...,  129,  297,  862],\n",
       "       [6014, 6015,    3, ..., 6023,   49,  806]])"
      ]
     },
     "execution_count": 77,
     "metadata": {},
     "output_type": "execute_result"
    }
   ],
   "source": [
    "X_test"
   ]
  },
  {
   "cell_type": "code",
   "execution_count": 78,
   "metadata": {},
   "outputs": [
    {
     "name": "stderr",
     "output_type": "stream",
     "text": [
      "<ipython-input-78-9112dbec5449>:6: DeprecationWarning: Call to deprecated `__getitem__` (Method will be removed in 4.0.0, use self.wv.__getitem__() instead).\n",
      "  embeddings[idx] =  nlp[word]\n"
     ]
    }
   ],
   "source": [
    "## start the matrix (length of vocabulary x vector size) with all 0s\n",
    "embeddings = np.zeros((len(dic_vocabulary)+1, 300))\n",
    "for word,idx in dic_vocabulary.items():\n",
    "    ## update the row with vector\n",
    "    try:\n",
    "        embeddings[idx] =  nlp[word]\n",
    "    ## if word not in model then skip and the row stays all 0s\n",
    "    except:\n",
    "        pass"
   ]
  },
  {
   "cell_type": "code",
   "execution_count": 79,
   "metadata": {},
   "outputs": [],
   "source": [
    "word = \"internet\""
   ]
  },
  {
   "cell_type": "code",
   "execution_count": 80,
   "metadata": {},
   "outputs": [
    {
     "name": "stdout",
     "output_type": "stream",
     "text": [
      "dic[word]: 4 |idx\n",
      "embeddings[idx]: (300,) |vector\n"
     ]
    }
   ],
   "source": [
    "print(\"dic[word]:\", dic_vocabulary[word], \"|idx\")\n",
    "print(\"embeddings[idx]:\", embeddings[dic_vocabulary[word]].shape, \n",
    "      \"|vector\")"
   ]
  },
  {
   "cell_type": "markdown",
   "metadata": {},
   "source": [
    "# Bidirectional LSTM"
   ]
  },
  {
   "cell_type": "markdown",
   "metadata": {},
   "source": [
    "**At the moment, this isn't a good idea**"
   ]
  },
  {
   "cell_type": "code",
   "execution_count": 81,
   "metadata": {},
   "outputs": [],
   "source": [
    "import tensorflow as tf\n",
    "from tensorflow import keras\n",
    "from tensorflow.keras import layers"
   ]
  },
  {
   "cell_type": "code",
   "execution_count": 82,
   "metadata": {},
   "outputs": [
    {
     "name": "stdout",
     "output_type": "stream",
     "text": [
      "Model: \"model\"\n",
      "_________________________________________________________________\n",
      "Layer (type)                 Output Shape              Param #   \n",
      "=================================================================\n",
      "input_1 (InputLayer)         [(None, 15)]              0         \n",
      "_________________________________________________________________\n",
      "embedding_1 (Embedding)      (None, 15, 300)           1808400   \n",
      "_________________________________________________________________\n",
      "bidirectional (Bidirectional (None, 15, 30)            37920     \n",
      "_________________________________________________________________\n",
      "bidirectional_1 (Bidirection (None, 30)                5520      \n",
      "_________________________________________________________________\n",
      "dense_1 (Dense)              (None, 1024)              31744     \n",
      "_________________________________________________________________\n",
      "dense_2 (Dense)              (None, 512)               524800    \n",
      "_________________________________________________________________\n",
      "dense_3 (Dense)              (None, 512)               262656    \n",
      "_________________________________________________________________\n",
      "dense_4 (Dense)              (None, 256)               131328    \n",
      "_________________________________________________________________\n",
      "dense_5 (Dense)              (None, 3)                 771       \n",
      "=================================================================\n",
      "Total params: 2,803,139\n",
      "Trainable params: 994,739\n",
      "Non-trainable params: 1,808,400\n",
      "_________________________________________________________________\n"
     ]
    }
   ],
   "source": [
    "## input\n",
    "x_in = layers.Input(shape=(15,))\n",
    "## embedding\n",
    "x = layers.Embedding(input_dim=embeddings.shape[0],  \n",
    "                     output_dim=embeddings.shape[1], \n",
    "                     weights=[embeddings],\n",
    "                     input_length=15, trainable=False)(x_in)\n",
    "\n",
    "## 2 layers of bidirectional lstm\n",
    "x = layers.Bidirectional(layers.LSTM(units=15,  \n",
    "                         return_sequences=True))(x)\n",
    "x = layers.Bidirectional(layers.LSTM(units=15))(x)\n",
    "## final dense layers\n",
    "x = layers.Dense(1024, activation='relu')(x)\n",
    "\n",
    "x = layers.Dense(512, activation='relu')(x)\n",
    "\n",
    "x = layers.Dense(512, activation='relu')(x)\n",
    "x = layers.Dense(256, activation='relu')(x)\n",
    "y_out = layers.Dense(3, activation='softmax')(x)\n",
    "## compile\n",
    "model = keras.Model(x_in, y_out)\n",
    "model.compile(\n",
    "        loss=keras.losses.SparseCategoricalCrossentropy(),\n",
    "        optimizer=keras.optimizers.Adam(),\n",
    "        metrics=[\"accuracy\"]\n",
    "    )\n",
    "\n",
    "\n",
    "model.summary()"
   ]
  },
  {
   "cell_type": "code",
   "execution_count": 83,
   "metadata": {},
   "outputs": [
    {
     "name": "stdout",
     "output_type": "stream",
     "text": [
      "{0: 0.0, 1: 1.0, 2: 2.0}\n",
      "{0.0: 0, 1.0: 1, 2.0: 2}\n",
      "[0 0 0 ... 1 0 1]\n"
     ]
    }
   ],
   "source": [
    "#### encode y\n",
    "dic_y_mapping = {n:label for n,label in \n",
    "                 enumerate(np.unique(train.sentiment))}\n",
    "inverse_dic = {v:k for k,v in dic_y_mapping.items()}\n",
    "y_train = np.array([inverse_dic[y] for y in train.sentiment])\n",
    "#y_train = train.sentiment\n",
    "#y_train.shape\n",
    "print(dic_y_mapping)\n",
    "print(inverse_dic)\n",
    "print(y_train)"
   ]
  },
  {
   "cell_type": "code",
   "execution_count": 84,
   "metadata": {},
   "outputs": [
    {
     "data": {
      "text/plain": [
       "(1303, 15)"
      ]
     },
     "execution_count": 84,
     "metadata": {},
     "output_type": "execute_result"
    }
   ],
   "source": [
    "X_train.shape"
   ]
  },
  {
   "cell_type": "code",
   "execution_count": 85,
   "metadata": {},
   "outputs": [
    {
     "name": "stdout",
     "output_type": "stream",
     "text": [
      "Epoch 1/10\n",
      "4/4 [==============================] - 10s 687ms/step - loss: 1.0550 - accuracy: 0.4644 - val_loss: 1.2220 - val_accuracy: 0.3555\n",
      "Epoch 2/10\n",
      "4/4 [==============================] - 0s 87ms/step - loss: 0.6383 - accuracy: 0.7897 - val_loss: 2.7446 - val_accuracy: 0.3555\n",
      "Epoch 3/10\n",
      "4/4 [==============================] - 0s 83ms/step - loss: 0.5592 - accuracy: 0.7832 - val_loss: 2.0105 - val_accuracy: 0.3555\n",
      "Epoch 4/10\n",
      "4/4 [==============================] - 0s 80ms/step - loss: 0.5211 - accuracy: 0.7948 - val_loss: 2.1882 - val_accuracy: 0.3555\n"
     ]
    },
    {
     "data": {
      "text/plain": [
       "<tensorflow.python.keras.callbacks.History at 0x202f3768a30>"
      ]
     },
     "execution_count": 85,
     "metadata": {},
     "output_type": "execute_result"
    }
   ],
   "source": [
    "training = model.fit(x=X_train, y=y_train, batch_size=256, \n",
    "                     epochs=10, shuffle=True, verbose=1, \n",
    "                     validation_split=0.3,callbacks=[EarlyStopping(monitor='val_loss', patience=3, min_delta=0.0001)])\n",
    "training"
   ]
  },
  {
   "cell_type": "code",
   "execution_count": 86,
   "metadata": {},
   "outputs": [
    {
     "data": {
      "image/png": "[encoded data removed]",
      "text/plain": [
       "<Figure size 432x288 with 4 Axes>"
      ]
     },
     "metadata": {
      "needs_background": "light"
     },
     "output_type": "display_data"
    }
   ],
   "source": [
    "## plot loss and accuracy\n",
    "metrics = [k for k in training.history.keys() if (\"loss\" not in k) and (\"val\" not in k)]\n",
    "fig, ax = plt.subplots(nrows=1, ncols=2, sharey=True)\n",
    "ax[0].set(title=\"Training\")\n",
    "ax11 = ax[0].twinx()\n",
    "ax[0].plot(training.history['loss'], color='black')\n",
    "ax[0].set_xlabel('Epochs')\n",
    "ax[0].set_ylabel('Loss', color='black')\n",
    "for metric in metrics:\n",
    "    ax11.plot(training.history[metric], label=metric)\n",
    "ax11.set_ylabel(\"Score\", color='steelblue')\n",
    "ax11.legend()\n",
    "ax[1].set(title=\"Validation\")\n",
    "ax22 = ax[1].twinx()\n",
    "ax[1].plot(training.history['val_loss'], color='black')\n",
    "ax[1].set_xlabel('Epochs')\n",
    "ax[1].set_ylabel('Loss', color='black')\n",
    "for metric in metrics:\n",
    "     ax22.plot(training.history['val_'+metric], label=metric)\n",
    "ax22.set_ylabel(\"Score\", color=\"steelblue\")\n",
    "plt.show()"
   ]
  },
  {
   "cell_type": "code",
   "execution_count": null,
   "metadata": {},
   "outputs": [],
   "source": []
  },
  {
   "cell_type": "markdown",
   "metadata": {},
   "source": [
    "# So, With the Count Vectorizer, I decided to move forward with my first Logistic Regression which has the best score"
   ]
  },
  {
   "cell_type": "code",
   "execution_count": 170,
   "metadata": {},
   "outputs": [
    {
     "data": {
      "text/plain": [
       "0    861\n",
       "2    229\n",
       "4    213\n",
       "Name: sentiment, dtype: int64"
      ]
     },
     "execution_count": 170,
     "metadata": {},
     "output_type": "execute_result"
    }
   ],
   "source": [
    "train.sentiment = train.sentiment.map({0:0, 1:2, 2:4})\n",
    "train.sentiment.value_counts(dropna=False)"
   ]
  },
  {
   "cell_type": "code",
   "execution_count": 175,
   "metadata": {},
   "outputs": [
    {
     "data": {
      "text/html": [
       "<div>\n",
       "<style scoped>\n",
       "    .dataframe tbody tr th:only-of-type {\n",
       "        vertical-align: middle;\n",
       "    }\n",
       "\n",
       "    .dataframe tbody tr th {\n",
       "        vertical-align: top;\n",
       "    }\n",
       "\n",
       "    .dataframe thead th {\n",
       "        text-align: right;\n",
       "    }\n",
       "</style>\n",
       "<table border=\"1\" class=\"dataframe\">\n",
       "  <thead>\n",
       "    <tr style=\"text-align: right;\">\n",
       "      <th></th>\n",
       "      <th>Verbatim</th>\n",
       "      <th>sentiment</th>\n",
       "    </tr>\n",
       "  </thead>\n",
       "  <tbody>\n",
       "    <tr>\n",
       "      <th>0</th>\n",
       "      <td>alt yapı yetersiz telefon hattım çoğu yerde çe...</td>\n",
       "      <td>0</td>\n",
       "    </tr>\n",
       "    <tr>\n",
       "      <th>1</th>\n",
       "      <td>evimde sadece tek odada çekiyor onuda cama yap...</td>\n",
       "      <td>0</td>\n",
       "    </tr>\n",
       "    <tr>\n",
       "      <th>2</th>\n",
       "      <td>çekim gücü zayıf internet</td>\n",
       "      <td>0</td>\n",
       "    </tr>\n",
       "    <tr>\n",
       "      <th>3</th>\n",
       "      <td>hızınız yetersiz tarifelerde paketleri</td>\n",
       "      <td>0</td>\n",
       "    </tr>\n",
       "    <tr>\n",
       "      <th>4</th>\n",
       "      <td>bulunduğum yerde internet kalitesi e olarak gö...</td>\n",
       "      <td>0</td>\n",
       "    </tr>\n",
       "  </tbody>\n",
       "</table>\n",
       "</div>"
      ],
      "text/plain": [
       "                                            Verbatim  sentiment\n",
       "0  alt yapı yetersiz telefon hattım çoğu yerde çe...          0\n",
       "1  evimde sadece tek odada çekiyor onuda cama yap...          0\n",
       "2                          çekim gücü zayıf internet          0\n",
       "3             hızınız yetersiz tarifelerde paketleri          0\n",
       "4  bulunduğum yerde internet kalitesi e olarak gö...          0"
      ]
     },
     "execution_count": 175,
     "metadata": {},
     "output_type": "execute_result"
    }
   ],
   "source": [
    "train.head()"
   ]
  },
  {
   "cell_type": "code",
   "execution_count": 172,
   "metadata": {},
   "outputs": [
    {
     "data": {
      "text/plain": [
       "4    172\n",
       "2     37\n",
       "0     18\n",
       "Name: sentiment, dtype: int64"
      ]
     },
     "execution_count": 172,
     "metadata": {},
     "output_type": "execute_result"
    }
   ],
   "source": [
    "test.sentiment = test.sentiment.map({0:0, 1:2, 2:4})\n",
    "test.sentiment.value_counts(dropna=False)"
   ]
  },
  {
   "cell_type": "code",
   "execution_count": 173,
   "metadata": {},
   "outputs": [
    {
     "data": {
      "text/html": [
       "<div>\n",
       "<style scoped>\n",
       "    .dataframe tbody tr th:only-of-type {\n",
       "        vertical-align: middle;\n",
       "    }\n",
       "\n",
       "    .dataframe tbody tr th {\n",
       "        vertical-align: top;\n",
       "    }\n",
       "\n",
       "    .dataframe thead th {\n",
       "        text-align: right;\n",
       "    }\n",
       "</style>\n",
       "<table border=\"1\" class=\"dataframe\">\n",
       "  <thead>\n",
       "    <tr style=\"text-align: right;\">\n",
       "      <th></th>\n",
       "      <th>sentiment</th>\n",
       "      <th>text</th>\n",
       "    </tr>\n",
       "  </thead>\n",
       "  <tbody>\n",
       "    <tr>\n",
       "      <th>0</th>\n",
       "      <td>2</td>\n",
       "      <td>kredi kullanmak istiyorum</td>\n",
       "    </tr>\n",
       "    <tr>\n",
       "      <th>1</th>\n",
       "      <td>4</td>\n",
       "      <td>supercell senin oyunlarını oynadım brawl star ...</td>\n",
       "    </tr>\n",
       "    <tr>\n",
       "      <th>2</th>\n",
       "      <td>4</td>\n",
       "      <td>sizleri seviyorum clash of clan bide hay day g...</td>\n",
       "    </tr>\n",
       "    <tr>\n",
       "      <th>3</th>\n",
       "      <td>4</td>\n",
       "      <td>supercell brawl star chas of chas chas royale ...</td>\n",
       "    </tr>\n",
       "    <tr>\n",
       "      <th>4</th>\n",
       "      <td>4</td>\n",
       "      <td>sevdim fıstıllar yavaş büyüyor sadece bunun dü...</td>\n",
       "    </tr>\n",
       "  </tbody>\n",
       "</table>\n",
       "</div>"
      ],
      "text/plain": [
       "   sentiment                                               text\n",
       "0          2                          kredi kullanmak istiyorum\n",
       "1          4  supercell senin oyunlarını oynadım brawl star ...\n",
       "2          4  sizleri seviyorum clash of clan bide hay day g...\n",
       "3          4  supercell brawl star chas of chas chas royale ...\n",
       "4          4  sevdim fıstıllar yavaş büyüyor sadece bunun dü..."
      ]
     },
     "execution_count": 173,
     "metadata": {},
     "output_type": "execute_result"
    }
   ],
   "source": [
    "test.head()"
   ]
  },
  {
   "cell_type": "code",
   "execution_count": 176,
   "metadata": {},
   "outputs": [],
   "source": [
    "X_train, X_test, y_train, y_test = train_test_split(train.Verbatim.values, train.sentiment.values, test_size=0.3, random_state=42)"
   ]
  },
  {
   "cell_type": "code",
   "execution_count": 177,
   "metadata": {},
   "outputs": [],
   "source": [
    "countvector = CountVectorizer()\n",
    "countvector.fit(X_train)\n",
    "X_train_countvec = countvector.transform(X_train)\n",
    "X_test_countvec = countvector.transform(X_test)\n"
   ]
  },
  {
   "cell_type": "code",
   "execution_count": 178,
   "metadata": {},
   "outputs": [
    {
     "name": "stdout",
     "output_type": "stream",
     "text": [
      "[[238  16   4]\n",
      " [ 20  44   6]\n",
      " [  5   3  55]]\n",
      "\n",
      "\n",
      "              precision    recall  f1-score   support\n",
      "\n",
      "           0       0.90      0.92      0.91       258\n",
      "           2       0.70      0.63      0.66        70\n",
      "           4       0.85      0.87      0.86        63\n",
      "\n",
      "    accuracy                           0.86       391\n",
      "   macro avg       0.82      0.81      0.81       391\n",
      "weighted avg       0.86      0.86      0.86       391\n",
      "\n"
     ]
    }
   ],
   "source": [
    "log_model = LogisticRegression()\n",
    "log_model.fit(X_train_countvec, y_train)\n",
    "y_pred_log_model = log_model.predict(X_test_countvec)\n",
    "log_predicted_prob = log_model.predict_proba(X_test_countvec)\n",
    "print(confusion_matrix(y_test, y_pred_log_model))\n",
    "print(\"\\n\")\n",
    "print(classification_report(y_test, y_pred_log_model))"
   ]
  },
  {
   "cell_type": "code",
   "execution_count": null,
   "metadata": {},
   "outputs": [],
   "source": []
  },
  {
   "cell_type": "code",
   "execution_count": 179,
   "metadata": {},
   "outputs": [
    {
     "data": {
      "text/html": [
       "<div>\n",
       "<style scoped>\n",
       "    .dataframe tbody tr th:only-of-type {\n",
       "        vertical-align: middle;\n",
       "    }\n",
       "\n",
       "    .dataframe tbody tr th {\n",
       "        vertical-align: top;\n",
       "    }\n",
       "\n",
       "    .dataframe thead th {\n",
       "        text-align: right;\n",
       "    }\n",
       "</style>\n",
       "<table border=\"1\" class=\"dataframe\">\n",
       "  <thead>\n",
       "    <tr style=\"text-align: right;\">\n",
       "      <th></th>\n",
       "      <th>sentiment</th>\n",
       "      <th>text</th>\n",
       "    </tr>\n",
       "  </thead>\n",
       "  <tbody>\n",
       "    <tr>\n",
       "      <th>0</th>\n",
       "      <td>2</td>\n",
       "      <td>kredi kullanmak istiyorum</td>\n",
       "    </tr>\n",
       "    <tr>\n",
       "      <th>1</th>\n",
       "      <td>4</td>\n",
       "      <td>supercell senin oyunlarını oynadım brawl star ...</td>\n",
       "    </tr>\n",
       "    <tr>\n",
       "      <th>2</th>\n",
       "      <td>4</td>\n",
       "      <td>sizleri seviyorum clash of clan bide hay day g...</td>\n",
       "    </tr>\n",
       "    <tr>\n",
       "      <th>3</th>\n",
       "      <td>4</td>\n",
       "      <td>supercell brawl star chas of chas chas royale ...</td>\n",
       "    </tr>\n",
       "    <tr>\n",
       "      <th>4</th>\n",
       "      <td>4</td>\n",
       "      <td>sevdim fıstıllar yavaş büyüyor sadece bunun dü...</td>\n",
       "    </tr>\n",
       "  </tbody>\n",
       "</table>\n",
       "</div>"
      ],
      "text/plain": [
       "   sentiment                                               text\n",
       "0          2                          kredi kullanmak istiyorum\n",
       "1          4  supercell senin oyunlarını oynadım brawl star ...\n",
       "2          4  sizleri seviyorum clash of clan bide hay day g...\n",
       "3          4  supercell brawl star chas of chas chas royale ...\n",
       "4          4  sevdim fıstıllar yavaş büyüyor sadece bunun dü..."
      ]
     },
     "execution_count": 179,
     "metadata": {},
     "output_type": "execute_result"
    }
   ],
   "source": [
    "test.head()"
   ]
  },
  {
   "cell_type": "markdown",
   "metadata": {},
   "source": [
    "**time to test with test data set**"
   ]
  },
  {
   "cell_type": "markdown",
   "metadata": {},
   "source": []
  },
  {
   "cell_type": "code",
   "execution_count": 182,
   "metadata": {},
   "outputs": [
    {
     "data": {
      "text/plain": [
       "<1x4779 sparse matrix of type '<class 'numpy.int64'>'\n",
       "\twith 3 stored elements in Compressed Sparse Row format>"
      ]
     },
     "execution_count": 182,
     "metadata": {},
     "output_type": "execute_result"
    }
   ],
   "source": [
    "test_vec_text = countvector.transform(test.text)\n",
    "test_vec_text[0]"
   ]
  },
  {
   "cell_type": "markdown",
   "metadata": {},
   "source": [
    "our logistic regression model's negative prediction success (91% f1 score ) is  high compared to others."
   ]
  },
  {
   "cell_type": "markdown",
   "metadata": {},
   "source": [
    "neutral prediction is ratherly low (66% f1 score)"
   ]
  },
  {
   "cell_type": "markdown",
   "metadata": {},
   "source": [
    "positve prediction is generally acceptable(86% f1 score)"
   ]
  },
  {
   "cell_type": "code",
   "execution_count": 196,
   "metadata": {},
   "outputs": [
    {
     "data": {
      "text/plain": [
       "array([0, 2, 2, 2, 2, 0, 2, 2, 2, 2, 1, 2, 2, 2, 2, 2, 2, 2, 2, 2, 2, 2,\n",
       "       2, 2, 2, 2, 2, 2, 2, 2, 2, 2, 2, 2, 2, 1, 2, 2, 1, 2, 2, 2, 2, 2,\n",
       "       2, 2, 2, 2, 1, 2, 1, 2, 2, 2, 2, 2, 2, 2, 2, 2, 2, 2, 2, 2, 2, 2,\n",
       "       2, 2, 2, 2, 2, 2, 2, 2, 2, 1, 2, 1, 1, 1, 0, 0, 0, 2, 0, 2, 0, 2,\n",
       "       1, 1, 2, 0, 2, 0, 0, 1, 2, 0, 0, 0, 2, 2, 1, 1, 0, 0, 2, 2, 2, 2,\n",
       "       2, 2, 2, 2, 1, 2, 2, 2, 2, 2, 2, 2, 2, 2, 2, 2, 2, 2, 2, 2, 2, 2,\n",
       "       2, 2, 2, 2, 2, 2, 2, 2, 2, 2, 2, 2, 2, 2, 2, 2, 1, 2, 2, 2, 2, 2,\n",
       "       2, 1, 2, 2, 1, 2, 2, 2, 2, 0, 2, 2, 2, 2, 2, 2, 2, 2, 2, 2, 1, 2,\n",
       "       2, 1, 2, 2, 2, 2, 2, 0, 2, 1, 2, 2, 1, 1, 1, 2, 1, 2, 1, 2, 2, 2,\n",
       "       2, 2, 2, 2, 2, 2, 2, 2, 2, 2, 2, 2, 0, 2, 2, 2, 1, 2, 2, 1, 1, 0,\n",
       "       2, 0, 2, 2, 1, 0, 1], dtype=int64)"
      ]
     },
     "execution_count": 196,
     "metadata": {},
     "output_type": "execute_result"
    }
   ],
   "source": [
    "pred_values = log_model.predict_proba(test_vec_text)\n",
    "pred_values#\n",
    "# From the scores, find the label with the highest score/probability\n",
    "predicted_sentiments = pred_values.argmax(axis=1)\n",
    "predicted_sentiments\n"
   ]
  },
  {
   "cell_type": "code",
   "execution_count": 197,
   "metadata": {},
   "outputs": [
    {
     "data": {
      "text/html": [
       "<div>\n",
       "<style scoped>\n",
       "    .dataframe tbody tr th:only-of-type {\n",
       "        vertical-align: middle;\n",
       "    }\n",
       "\n",
       "    .dataframe tbody tr th {\n",
       "        vertical-align: top;\n",
       "    }\n",
       "\n",
       "    .dataframe thead th {\n",
       "        text-align: right;\n",
       "    }\n",
       "</style>\n",
       "<table border=\"1\" class=\"dataframe\">\n",
       "  <thead>\n",
       "    <tr style=\"text-align: right;\">\n",
       "      <th></th>\n",
       "      <th>pred</th>\n",
       "    </tr>\n",
       "  </thead>\n",
       "  <tbody>\n",
       "    <tr>\n",
       "      <th>0</th>\n",
       "      <td>0</td>\n",
       "    </tr>\n",
       "    <tr>\n",
       "      <th>1</th>\n",
       "      <td>4</td>\n",
       "    </tr>\n",
       "    <tr>\n",
       "      <th>2</th>\n",
       "      <td>4</td>\n",
       "    </tr>\n",
       "    <tr>\n",
       "      <th>3</th>\n",
       "      <td>4</td>\n",
       "    </tr>\n",
       "    <tr>\n",
       "      <th>4</th>\n",
       "      <td>4</td>\n",
       "    </tr>\n",
       "  </tbody>\n",
       "</table>\n",
       "</div>"
      ],
      "text/plain": [
       "   pred\n",
       "0     0\n",
       "1     4\n",
       "2     4\n",
       "3     4\n",
       "4     4"
      ]
     },
     "execution_count": 197,
     "metadata": {},
     "output_type": "execute_result"
    }
   ],
   "source": [
    "predicted_sentiments = pd.DataFrame(predicted_sentiments,columns=['pred']).replace({0:0, 1:2, 2:4})\n",
    "predicted_sentiments.head()"
   ]
  },
  {
   "cell_type": "code",
   "execution_count": 198,
   "metadata": {},
   "outputs": [
    {
     "name": "stderr",
     "output_type": "stream",
     "text": [
      "C:\\Users\\MONSTER\\anaconda3\\lib\\site-packages\\seaborn\\_decorators.py:36: FutureWarning: Pass the following variable as a keyword arg: x. From version 0.12, the only valid positional argument will be `data`, and passing other arguments without an explicit keyword will result in an error or misinterpretation.\n",
      "  warnings.warn(\n"
     ]
    },
    {
     "data": {
      "text/plain": [
       "<AxesSubplot:xlabel='pred', ylabel='count'>"
      ]
     },
     "execution_count": 198,
     "metadata": {},
     "output_type": "execute_result"
    },
    {
     "data": {
      "image/png": "[encoded data removed]",
      "text/plain": [
       "<Figure size 432x288 with 1 Axes>"
      ]
     },
     "metadata": {
      "needs_background": "light"
     },
     "output_type": "display_data"
    }
   ],
   "source": [
    "sns.countplot(predicted_sentiments.pred)"
   ]
  },
  {
   "cell_type": "markdown",
   "metadata": {},
   "source": [
    "**Comparison true value vs predicted value**"
   ]
  },
  {
   "cell_type": "code",
   "execution_count": 199,
   "metadata": {},
   "outputs": [],
   "source": [
    "comparison = pd.DataFrame()"
   ]
  },
  {
   "cell_type": "code",
   "execution_count": 200,
   "metadata": {},
   "outputs": [],
   "source": [
    "comparison['True'] = test.sentiment"
   ]
  },
  {
   "cell_type": "code",
   "execution_count": 201,
   "metadata": {},
   "outputs": [],
   "source": [
    "comparison['predicted'] = predicted_sentiments.pred"
   ]
  },
  {
   "cell_type": "code",
   "execution_count": 202,
   "metadata": {},
   "outputs": [],
   "source": [
    "pd.set_option('display.max_rows', None)\n",
    "pd.set_option('display.max_columns', None)\n",
    "pd.set_option('display.width', None)"
   ]
  },
  {
   "cell_type": "code",
   "execution_count": 203,
   "metadata": {},
   "outputs": [
    {
     "data": {
      "text/html": [
       "<div>\n",
       "<style scoped>\n",
       "    .dataframe tbody tr th:only-of-type {\n",
       "        vertical-align: middle;\n",
       "    }\n",
       "\n",
       "    .dataframe tbody tr th {\n",
       "        vertical-align: top;\n",
       "    }\n",
       "\n",
       "    .dataframe thead th {\n",
       "        text-align: right;\n",
       "    }\n",
       "</style>\n",
       "<table border=\"1\" class=\"dataframe\">\n",
       "  <thead>\n",
       "    <tr style=\"text-align: right;\">\n",
       "      <th></th>\n",
       "      <th>True</th>\n",
       "      <th>predicted</th>\n",
       "    </tr>\n",
       "  </thead>\n",
       "  <tbody>\n",
       "    <tr>\n",
       "      <th>0</th>\n",
       "      <td>2</td>\n",
       "      <td>0</td>\n",
       "    </tr>\n",
       "    <tr>\n",
       "      <th>1</th>\n",
       "      <td>4</td>\n",
       "      <td>4</td>\n",
       "    </tr>\n",
       "    <tr>\n",
       "      <th>2</th>\n",
       "      <td>4</td>\n",
       "      <td>4</td>\n",
       "    </tr>\n",
       "    <tr>\n",
       "      <th>3</th>\n",
       "      <td>4</td>\n",
       "      <td>4</td>\n",
       "    </tr>\n",
       "    <tr>\n",
       "      <th>4</th>\n",
       "      <td>4</td>\n",
       "      <td>4</td>\n",
       "    </tr>\n",
       "  </tbody>\n",
       "</table>\n",
       "</div>"
      ],
      "text/plain": [
       "   True  predicted\n",
       "0     2          0\n",
       "1     4          4\n",
       "2     4          4\n",
       "3     4          4\n",
       "4     4          4"
      ]
     },
     "execution_count": 203,
     "metadata": {},
     "output_type": "execute_result"
    }
   ],
   "source": [
    "comparison.head()"
   ]
  },
  {
   "cell_type": "code",
   "execution_count": 204,
   "metadata": {},
   "outputs": [],
   "source": [
    "comparison['review'] = test.text"
   ]
  },
  {
   "cell_type": "markdown",
   "metadata": {},
   "source": [
    "0 = neagative, \n",
    "2 = neutral, \n",
    "4 = positive"
   ]
  },
  {
   "cell_type": "code",
   "execution_count": 205,
   "metadata": {},
   "outputs": [
    {
     "data": {
      "text/html": [
       "<div>\n",
       "<style scoped>\n",
       "    .dataframe tbody tr th:only-of-type {\n",
       "        vertical-align: middle;\n",
       "    }\n",
       "\n",
       "    .dataframe tbody tr th {\n",
       "        vertical-align: top;\n",
       "    }\n",
       "\n",
       "    .dataframe thead th {\n",
       "        text-align: right;\n",
       "    }\n",
       "</style>\n",
       "<table border=\"1\" class=\"dataframe\">\n",
       "  <thead>\n",
       "    <tr style=\"text-align: right;\">\n",
       "      <th></th>\n",
       "      <th>True</th>\n",
       "      <th>predicted</th>\n",
       "      <th>review</th>\n",
       "    </tr>\n",
       "  </thead>\n",
       "  <tbody>\n",
       "    <tr>\n",
       "      <th>0</th>\n",
       "      <td>2</td>\n",
       "      <td>0</td>\n",
       "      <td>kredi kullanmak istiyorum</td>\n",
       "    </tr>\n",
       "    <tr>\n",
       "      <th>1</th>\n",
       "      <td>4</td>\n",
       "      <td>4</td>\n",
       "      <td>supercell senin oyunlarını oynadım brawl star ...</td>\n",
       "    </tr>\n",
       "    <tr>\n",
       "      <th>2</th>\n",
       "      <td>4</td>\n",
       "      <td>4</td>\n",
       "      <td>sizleri seviyorum clash of clan bide hay day g...</td>\n",
       "    </tr>\n",
       "    <tr>\n",
       "      <th>3</th>\n",
       "      <td>4</td>\n",
       "      <td>4</td>\n",
       "      <td>supercell brawl star chas of chas chas royale ...</td>\n",
       "    </tr>\n",
       "    <tr>\n",
       "      <th>4</th>\n",
       "      <td>4</td>\n",
       "      <td>4</td>\n",
       "      <td>sevdim fıstıllar yavaş büyüyor sadece bunun dü...</td>\n",
       "    </tr>\n",
       "  </tbody>\n",
       "</table>\n",
       "</div>"
      ],
      "text/plain": [
       "   True  predicted                                             review\n",
       "0     2          0                          kredi kullanmak istiyorum\n",
       "1     4          4  supercell senin oyunlarını oynadım brawl star ...\n",
       "2     4          4  sizleri seviyorum clash of clan bide hay day g...\n",
       "3     4          4  supercell brawl star chas of chas chas royale ...\n",
       "4     4          4  sevdim fıstıllar yavaş büyüyor sadece bunun dü..."
      ]
     },
     "execution_count": 205,
     "metadata": {},
     "output_type": "execute_result"
    }
   ],
   "source": [
    "comparison.head()"
   ]
  },
  {
   "cell_type": "code",
   "execution_count": 206,
   "metadata": {},
   "outputs": [
    {
     "data": {
      "text/plain": [
       "4    172\n",
       "2     37\n",
       "0     18\n",
       "Name: True, dtype: int64"
      ]
     },
     "execution_count": 206,
     "metadata": {},
     "output_type": "execute_result"
    }
   ],
   "source": [
    "actual = comparison['True'].value_counts()\n",
    "actual"
   ]
  },
  {
   "cell_type": "code",
   "execution_count": 207,
   "metadata": {},
   "outputs": [
    {
     "data": {
      "text/plain": [
       "4    175\n",
       "2     31\n",
       "0     21\n",
       "Name: predicted, dtype: int64"
      ]
     },
     "execution_count": 207,
     "metadata": {},
     "output_type": "execute_result"
    }
   ],
   "source": [
    "pred = comparison['predicted'].value_counts()\n",
    "pred"
   ]
  },
  {
   "cell_type": "code",
   "execution_count": 208,
   "metadata": {},
   "outputs": [
    {
     "data": {
      "image/png": "[encoded data removed]",
      "text/plain": [
       "<Figure size 648x432 with 1 Axes>"
      ]
     },
     "metadata": {
      "needs_background": "light"
     },
     "output_type": "display_data"
    }
   ],
   "source": [
    "labels = ['negative','neutral','positive']\n",
    "a = actual\n",
    "p =pred\n",
    "x = np.arange(len(labels))  # the label locations\n",
    "width = 0.35  # the width of the bars\n",
    "\n",
    "fig, ax = plt.subplots(figsize=(9,6))\n",
    "rects1 = ax.bar(x - width/2, a, width, label='actual')\n",
    "rects2 = ax.bar(x + width/2, p, width, label='prediction')\n",
    "\n",
    "# Add some text for labels, title and custom x-axis tick labels, etc.\n",
    "ax.set_ylabel('Review Counts')\n",
    "ax.set_title('Actual vs Prediction')\n",
    "ax.set_xticks(x)\n",
    "ax.set_xticklabels(labels)\n",
    "ax.legend()\n",
    "\n",
    "for rect in rects1:\n",
    "    height = rect.get_height()\n",
    "    ax.text(rect.get_x() + rect.get_width()/2., height,\n",
    "            '%d' % int(height),\n",
    "            ha='center', va='bottom')\n",
    "\n",
    "for rect in rects2:\n",
    "    height = rect.get_height()\n",
    "    ax.text(rect.get_x() + rect.get_width()/2., height,\n",
    "            '%d' % int(height),\n",
    "            ha='center', va='bottom')    \n",
    "    \n",
    "#ax.bar_label(rects1, padding=3)\n",
    "#ax.bar_label(rects2, padding=3)\n",
    "\n",
    "fig.tight_layout()\n",
    "\n",
    "plt.show()"
   ]
  },
  {
   "cell_type": "markdown",
   "metadata": {},
   "source": [
    "As a result, with the 86% accuracy value is not bad, However, we need to improve model's accuracy which should be at least 95% for our product. \n",
    "So, if we feed with more data, accuracy rate definetly will increase. Also this is the healtiest way.\n"
   ]
  },
  {
   "cell_type": "code",
   "execution_count": null,
   "metadata": {},
   "outputs": [],
   "source": []
  }
 ],
 "metadata": {
  "kernelspec": {
   "display_name": "Python 3",
   "language": "python",
   "name": "python3"
  },
  "language_info": {
   "codemirror_mode": {
    "name": "ipython",
    "version": 3
   },
   "file_extension": ".py",
   "mimetype": "text/x-python",
   "name": "python",
   "nbconvert_exporter": "python",
   "pygments_lexer": "ipython3",
   "version": "3.8.5"
  }
 },
 "nbformat": 4,
 "nbformat_minor": 4
}
